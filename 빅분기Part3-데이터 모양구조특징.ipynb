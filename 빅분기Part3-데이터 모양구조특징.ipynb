{
 "cells": [
  {
   "cell_type": "markdown",
   "id": "6a800007",
   "metadata": {},
   "source": [
    "setting: p.213~\n",
    "- [학습 데이터](https://github.com/7ieon/bigData) git clone https://github.com/7ieon/bigData.git"
   ]
  },
  {
   "cell_type": "markdown",
   "id": "cb4329d5",
   "metadata": {},
   "source": [
    "실행시간이 1s 를 넘기면 안된다. 제출 전에 확인하자\n",
    "- [python runtime check](https://seulcode.tistory.com/245)"
   ]
  },
  {
   "cell_type": "code",
   "execution_count": 164,
   "id": "35dfe3e3",
   "metadata": {},
   "outputs": [
    {
     "name": "stdout",
     "output_type": "stream",
     "text": [
      "0.03399944305419922 sec\n"
     ]
    }
   ],
   "source": [
    "import time # 내장함수\n",
    "start_time = time.time()\n",
    "\n",
    "for idx, a in enumerate(range(100000)):\n",
    "    if idx % 1000 == 0:\n",
    "        pass\n",
    "    \n",
    "print(f\"{time.time()-start_time} sec\") # 0.032~0.051 매번 다르다"
   ]
  },
  {
   "cell_type": "markdown",
   "id": "8c63b160",
   "metadata": {},
   "source": [
    "# 데이터 분석 절차 체득하기1\n",
    "실습: p.222~"
   ]
  },
  {
   "cell_type": "code",
   "execution_count": 3,
   "id": "20b1a3e8",
   "metadata": {},
   "outputs": [
    {
     "name": "stdout",
     "output_type": "stream",
     "text": [
      "bigData\n",
      "data\n",
      "j.bat\n",
      "鍮낅텇湲캰art2.ipynb\n",
      "鍮낅텇湲캰art3.ipynb\n",
      "移댁뭅�삤�넚 諛쏆�� �뙆�씪 - 諛붾줈 媛�湲�.lnk\n"
     ]
    }
   ],
   "source": [
    "!ls"
   ]
  },
  {
   "cell_type": "markdown",
   "id": "704d78bc",
   "metadata": {},
   "source": [
    "bigData\n",
    "- bike_x_test.csv\n",
    "- bike_x_train.csv\n",
    "- bike_y_train.csv\n",
    "- boston.csv\n",
    "- mtcars.csv\n",
    "- titanic_x_test.csv\n",
    "- titanic_x_train.csv\n",
    "- titanic_y_train.csv\n",
    "- x_test.csv\n",
    "- x_train.csv\n",
    "- y_train.csv\n"
   ]
  },
  {
   "cell_type": "markdown",
   "id": "d4105d26",
   "metadata": {},
   "source": [
    "### 데이터 준비하기: 데이터 로드\n",
    "p.225"
   ]
  },
  {
   "cell_type": "code",
   "execution_count": 4,
   "id": "d081197d",
   "metadata": {},
   "outputs": [],
   "source": [
    "import pandas as pd"
   ]
  },
  {
   "cell_type": "code",
   "execution_count": 5,
   "id": "65073fe8",
   "metadata": {},
   "outputs": [],
   "source": [
    "data= pd.read_csv('bigData/mtcars.csv')"
   ]
  },
  {
   "cell_type": "code",
   "execution_count": 6,
   "id": "fcb42b1a",
   "metadata": {},
   "outputs": [
    {
     "name": "stdout",
     "output_type": "stream",
     "text": [
      "<class 'pandas.core.frame.DataFrame'>\n",
      "RangeIndex: 32 entries, 0 to 31\n",
      "Data columns (total 12 columns):\n",
      " #   Column      Non-Null Count  Dtype  \n",
      "---  ------      --------------  -----  \n",
      " 0   Unnamed: 0  32 non-null     object \n",
      " 1   mpg         32 non-null     float64\n",
      " 2   cyl         30 non-null     float64\n",
      " 3   disp        32 non-null     float64\n",
      " 4   hp          32 non-null     int64  \n",
      " 5   drat        32 non-null     float64\n",
      " 6   wt          32 non-null     float64\n",
      " 7   qsec        31 non-null     float64\n",
      " 8   vs          32 non-null     int64  \n",
      " 9   am          32 non-null     object \n",
      " 10  gear        32 non-null     object \n",
      " 11  carb        32 non-null     int64  \n",
      "dtypes: float64(6), int64(3), object(3)\n",
      "memory usage: 3.1+ KB\n"
     ]
    }
   ],
   "source": [
    "data.info()"
   ]
  },
  {
   "cell_type": "markdown",
   "id": "ecf1bf3a",
   "metadata": {},
   "source": [
    "dtype 이 int64 이면 방심하면 안 된다. 범주형변수 일수도 있다. (p.229)\n",
    "> value_counts() 로 알아보기"
   ]
  },
  {
   "cell_type": "code",
   "execution_count": 42,
   "id": "c004a328",
   "metadata": {},
   "outputs": [
    {
     "name": "stdout",
     "output_type": "stream",
     "text": [
      "<class 'pandas.core.series.Series'>\n"
     ]
    },
    {
     "data": {
      "text/plain": [
       "Unnamed: 0    32\n",
       "mpg           25\n",
       "cyl            4\n",
       "disp          27\n",
       "hp            22\n",
       "drat          22\n",
       "wt            29\n",
       "qsec          30\n",
       "vs             2\n",
       "am             2\n",
       "gear           5\n",
       "carb           6\n",
       "dtype: int64"
      ]
     },
     "execution_count": 42,
     "metadata": {},
     "output_type": "execute_result"
    }
   ],
   "source": [
    "#help(data)\n",
    "print(type(data.nunique()))\n",
    "data.nunique() # value_counts() 보다 먼저 보면 좋을. 손이 덜 간다"
   ]
  },
  {
   "cell_type": "code",
   "execution_count": null,
   "id": "f4cf7ddc",
   "metadata": {},
   "outputs": [],
   "source": []
  },
  {
   "cell_type": "markdown",
   "id": "7786a3b9",
   "metadata": {},
   "source": [
    "## 데이터의 모양과 구조, 특징 파악\n",
    "p.226~231"
   ]
  },
  {
   "cell_type": "code",
   "execution_count": 52,
   "id": "6a3cab6c",
   "metadata": {},
   "outputs": [
    {
     "data": {
      "text/plain": [
       "Index(['cyl', 'vs', 'am', 'gear', 'carb'], dtype='object')"
      ]
     },
     "execution_count": 52,
     "metadata": {},
     "output_type": "execute_result"
    }
   ],
   "source": [
    "factorDoubt= data.loc[:,data.nunique() <10].columns; factorDoubt"
   ]
  },
  {
   "cell_type": "code",
   "execution_count": 37,
   "id": "bff45bf2",
   "metadata": {
    "scrolled": true
   },
   "outputs": [
    {
     "data": {
      "text/plain": [
       "array([ 6.,  4.,  8., nan, 50.])"
      ]
     },
     "execution_count": 37,
     "metadata": {},
     "output_type": "execute_result"
    }
   ],
   "source": [
    "#data.unique() # Error ! unique() 는 Series 로만 가능\n",
    "#data[['cyl']].unique() # Error! 여전히 DataFrame 이다 \n",
    "data['cyl'].unique()"
   ]
  },
  {
   "cell_type": "code",
   "execution_count": 38,
   "id": "507a2932",
   "metadata": {},
   "outputs": [
    {
     "data": {
      "text/plain": [
       "cyl   vs  am      gear  carb\n",
       "4.0   1   manual  4     1       4\n",
       "8.0   0   auto    3     4       4\n",
       "                        2       3\n",
       "6.0   1   auto    3     1       2\n",
       "4.0   1   manual  4     2       2\n",
       "6.0   0   manual  4     4       2\n",
       "8.0   0   auto    3     3       2\n",
       "6.0   1   auto    4     4       2\n",
       "8.0   0   manual  5     8       1\n",
       "                  *5    4       1\n",
       "4.0   0   manual  5     2       1\n",
       "8.0   0   auto    *3    3       1\n",
       "4.0   1   auto    3     1       1\n",
       "6.0   0   manual  5     6       1\n",
       "4.0   1   manual  5     2       1\n",
       "          auto    4     2       1\n",
       "50.0  0   auto    3     4       1\n",
       "dtype: int64"
      ]
     },
     "execution_count": 38,
     "metadata": {},
     "output_type": "execute_result"
    }
   ],
   "source": [
    "data[['cyl','vs','am','gear','carb']].value_counts() # 종류가 몇 개 안 된다면 이렇게도 가능한데, 직관적이진 않다."
   ]
  },
  {
   "cell_type": "code",
   "execution_count": 54,
   "id": "8d2359d8",
   "metadata": {},
   "outputs": [
    {
     "name": "stdout",
     "output_type": "stream",
     "text": [
      "[ 6.  4.  8. nan 50.]\n",
      "[0 1]\n",
      "['manual' 'auto']\n",
      "['4' '3' '*3' '5' '*5']\n",
      "[4 1 2 3 6 8]\n"
     ]
    }
   ],
   "source": [
    "#factorDoubt= ['cyl','vs','am','gear','carb']\n",
    "for _ in factorDoubt:\n",
    "    print(data[_].unique())"
   ]
  },
  {
   "cell_type": "code",
   "execution_count": 58,
   "id": "5d558f1e",
   "metadata": {},
   "outputs": [
    {
     "name": "stdout",
     "output_type": "stream",
     "text": [
      "<class 'pandas.core.frame.DataFrame'>\n",
      "RangeIndex: 32 entries, 0 to 31\n",
      "Data columns (total 5 columns):\n",
      " #   Column  Non-Null Count  Dtype  \n",
      "---  ------  --------------  -----  \n",
      " 0   cyl     30 non-null     float64\n",
      " 1   vs      32 non-null     int64  \n",
      " 2   am      32 non-null     object \n",
      " 3   gear    32 non-null     object \n",
      " 4   carb    32 non-null     int64  \n",
      "dtypes: float64(1), int64(2), object(2)\n",
      "memory usage: 1.4+ KB\n",
      "None\n"
     ]
    }
   ],
   "source": [
    "print(data[factorDoubt].info())"
   ]
  },
  {
   "cell_type": "code",
   "execution_count": null,
   "id": "8bf5f22f",
   "metadata": {},
   "outputs": [],
   "source": []
  },
  {
   "cell_type": "code",
   "execution_count": 28,
   "id": "e43fcd10",
   "metadata": {},
   "outputs": [
    {
     "data": {
      "text/plain": [
       "vs\n",
       "0     18\n",
       "1     14\n",
       "dtype: int64"
      ]
     },
     "execution_count": 28,
     "metadata": {},
     "output_type": "execute_result"
    }
   ],
   "source": [
    "#help(data)\n",
    "# data[['hp','vs','carb']].value_counts()\n",
    "# data[['vs','carb']].value_counts()\n",
    "\n",
    "data[['vs']].value_counts() # 0 1\n",
    "# data[['carb']].value_counts() # 1 2 3 4 6 8"
   ]
  },
  {
   "cell_type": "markdown",
   "id": "47ee06c0",
   "metadata": {},
   "source": [
    "data 설명: p.222\n",
    "- mtcars: 32종 자동차의 디자인/ 성능 특성/ 연비 정보. mpg 가 알고 싶은 종속변수, 나머지가 독립변수\n",
    "- hp: 마력\n",
    "- vs: V형 엔진(V) or 직렬 엔진(S)\n",
    "- carb: 기화기 개수"
   ]
  },
  {
   "cell_type": "code",
   "execution_count": 9,
   "id": "caeba318",
   "metadata": {},
   "outputs": [
    {
     "data": {
      "text/html": [
       "<div>\n",
       "<style scoped>\n",
       "    .dataframe tbody tr th:only-of-type {\n",
       "        vertical-align: middle;\n",
       "    }\n",
       "\n",
       "    .dataframe tbody tr th {\n",
       "        vertical-align: top;\n",
       "    }\n",
       "\n",
       "    .dataframe thead th {\n",
       "        text-align: right;\n",
       "    }\n",
       "</style>\n",
       "<table border=\"1\" class=\"dataframe\">\n",
       "  <thead>\n",
       "    <tr style=\"text-align: right;\">\n",
       "      <th></th>\n",
       "      <th>Unnamed: 0</th>\n",
       "      <th>mpg</th>\n",
       "      <th>cyl</th>\n",
       "      <th>disp</th>\n",
       "      <th>hp</th>\n",
       "      <th>drat</th>\n",
       "      <th>wt</th>\n",
       "      <th>qsec</th>\n",
       "      <th>vs</th>\n",
       "      <th>am</th>\n",
       "      <th>gear</th>\n",
       "      <th>carb</th>\n",
       "    </tr>\n",
       "  </thead>\n",
       "  <tbody>\n",
       "    <tr>\n",
       "      <th>7</th>\n",
       "      <td>Merc 240D</td>\n",
       "      <td>24.4</td>\n",
       "      <td>NaN</td>\n",
       "      <td>146.7</td>\n",
       "      <td>62</td>\n",
       "      <td>3.69</td>\n",
       "      <td>3.190</td>\n",
       "      <td>20.0</td>\n",
       "      <td>1</td>\n",
       "      <td>auto</td>\n",
       "      <td>4</td>\n",
       "      <td>2</td>\n",
       "    </tr>\n",
       "    <tr>\n",
       "      <th>10</th>\n",
       "      <td>Merc 280C</td>\n",
       "      <td>17.8</td>\n",
       "      <td>6.0</td>\n",
       "      <td>167.6</td>\n",
       "      <td>123</td>\n",
       "      <td>3.92</td>\n",
       "      <td>3.440</td>\n",
       "      <td>NaN</td>\n",
       "      <td>1</td>\n",
       "      <td>auto</td>\n",
       "      <td>4</td>\n",
       "      <td>4</td>\n",
       "    </tr>\n",
       "    <tr>\n",
       "      <th>24</th>\n",
       "      <td>Pontiac Firebird</td>\n",
       "      <td>19.2</td>\n",
       "      <td>NaN</td>\n",
       "      <td>400.0</td>\n",
       "      <td>175</td>\n",
       "      <td>3.08</td>\n",
       "      <td>3.845</td>\n",
       "      <td>100.0</td>\n",
       "      <td>0</td>\n",
       "      <td>auto</td>\n",
       "      <td>3</td>\n",
       "      <td>2</td>\n",
       "    </tr>\n",
       "  </tbody>\n",
       "</table>\n",
       "</div>"
      ],
      "text/plain": [
       "          Unnamed: 0   mpg  cyl   disp   hp  drat     wt   qsec  vs    am  \\\n",
       "7          Merc 240D  24.4  NaN  146.7   62  3.69  3.190   20.0   1  auto   \n",
       "10         Merc 280C  17.8  6.0  167.6  123  3.92  3.440    NaN   1  auto   \n",
       "24  Pontiac Firebird  19.2  NaN  400.0  175  3.08  3.845  100.0   0  auto   \n",
       "\n",
       "   gear  carb  \n",
       "7     4     2  \n",
       "10    4     4  \n",
       "24    3     2  "
      ]
     },
     "execution_count": 9,
     "metadata": {},
     "output_type": "execute_result"
    }
   ],
   "source": [
    "# print(data[data.isnull().sum(1) !=0]) # 시험 환경\n",
    "data[data.isnull().sum(1) !=0]"
   ]
  },
  {
   "cell_type": "code",
   "execution_count": 29,
   "id": "fadbdcd6",
   "metadata": {},
   "outputs": [
    {
     "name": "stdout",
     "output_type": "stream",
     "text": [
      "          Unnamed: 0   mpg  cyl   disp   hp  drat     wt   qsec  vs      am  \\\n",
      "0          Mazda RX4  21.0  6.0  160.0  110  3.90  2.620  16.46   0  manual   \n",
      "1      Mazda RX4 Wag  21.0  6.0  160.0  110  3.90  2.875  17.02   0  manual   \n",
      "2         Datsun 710  22.8  4.0  108.0   93  3.85  2.320  18.61   1  manual   \n",
      "3     Hornet 4 Drive  21.4  6.0  258.0  110  3.08  3.215   0.10   1    auto   \n",
      "4  Hornet Sportabout  18.7  8.0  360.0  175  3.15  3.440  17.02   0    auto   \n",
      "\n",
      "  gear  carb  \n",
      "0    4     4  \n",
      "1    4     4  \n",
      "2    4     1  \n",
      "3    3     1  \n",
      "4    3     2  \n"
     ]
    }
   ],
   "source": [
    "print(data.head()) # 실제로 어떻게 생겼는지도 봐두면 좋다."
   ]
  },
  {
   "cell_type": "code",
   "execution_count": 19,
   "id": "3dad3d63",
   "metadata": {},
   "outputs": [
    {
     "name": "stdout",
     "output_type": "stream",
     "text": [
      "(32, 12)\n",
      "<class 'tuple'>\n",
      "12\n"
     ]
    }
   ],
   "source": [
    "print(data.shape)\n",
    "print(type(data.shape))\n",
    "print(data.shape[1]) # typle index => length 대용으로 사용 가능할듯"
   ]
  },
  {
   "cell_type": "code",
   "execution_count": 21,
   "id": "27712d8f",
   "metadata": {},
   "outputs": [
    {
     "name": "stdout",
     "output_type": "stream",
     "text": [
      "<class 'pandas.core.frame.DataFrame'>\n"
     ]
    }
   ],
   "source": [
    "print(type(data))"
   ]
  },
  {
   "cell_type": "code",
   "execution_count": 59,
   "id": "a2809157",
   "metadata": {},
   "outputs": [
    {
     "name": "stdout",
     "output_type": "stream",
     "text": [
      "Index(['Unnamed: 0', 'mpg', 'cyl', 'disp', 'hp', 'drat', 'wt', 'qsec', 'vs',\n",
      "       'am', 'gear', 'carb'],\n",
      "      dtype='object')\n"
     ]
    }
   ],
   "source": [
    "print(data.columns)"
   ]
  },
  {
   "cell_type": "code",
   "execution_count": 60,
   "id": "197022e7",
   "metadata": {},
   "outputs": [
    {
     "data": {
      "text/html": [
       "<div>\n",
       "<style scoped>\n",
       "    .dataframe tbody tr th:only-of-type {\n",
       "        vertical-align: middle;\n",
       "    }\n",
       "\n",
       "    .dataframe tbody tr th {\n",
       "        vertical-align: top;\n",
       "    }\n",
       "\n",
       "    .dataframe thead th {\n",
       "        text-align: right;\n",
       "    }\n",
       "</style>\n",
       "<table border=\"1\" class=\"dataframe\">\n",
       "  <thead>\n",
       "    <tr style=\"text-align: right;\">\n",
       "      <th></th>\n",
       "      <th>Unnamed: 0</th>\n",
       "      <th>mpg</th>\n",
       "      <th>cyl</th>\n",
       "      <th>disp</th>\n",
       "      <th>hp</th>\n",
       "      <th>drat</th>\n",
       "      <th>wt</th>\n",
       "      <th>qsec</th>\n",
       "      <th>vs</th>\n",
       "      <th>am</th>\n",
       "      <th>gear</th>\n",
       "      <th>carb</th>\n",
       "    </tr>\n",
       "  </thead>\n",
       "  <tbody>\n",
       "    <tr>\n",
       "      <th>0</th>\n",
       "      <td>Mazda RX4</td>\n",
       "      <td>21.0</td>\n",
       "      <td>6.0</td>\n",
       "      <td>160.0</td>\n",
       "      <td>110</td>\n",
       "      <td>3.9</td>\n",
       "      <td>2.62</td>\n",
       "      <td>16.46</td>\n",
       "      <td>0</td>\n",
       "      <td>manual</td>\n",
       "      <td>4</td>\n",
       "      <td>4</td>\n",
       "    </tr>\n",
       "  </tbody>\n",
       "</table>\n",
       "</div>"
      ],
      "text/plain": [
       "  Unnamed: 0   mpg  cyl   disp   hp  drat    wt   qsec  vs      am gear  carb\n",
       "0  Mazda RX4  21.0  6.0  160.0  110   3.9  2.62  16.46   0  manual    4     4"
      ]
     },
     "execution_count": 60,
     "metadata": {},
     "output_type": "execute_result"
    }
   ],
   "source": [
    "data.head(1)"
   ]
  },
  {
   "cell_type": "code",
   "execution_count": 62,
   "id": "80f6504b",
   "metadata": {},
   "outputs": [
    {
     "name": "stdout",
     "output_type": "stream",
     "text": [
      "             mpg        cyl        disp          hp       drat         wt  \\\n",
      "count  32.000000  30.000000   32.000000   32.000000  32.000000  32.000000   \n",
      "mean   20.090625   7.600000  230.721875  146.687500   3.596563   3.217250   \n",
      "std     6.026948   8.194195  123.938694   68.562868   0.534679   0.978457   \n",
      "min    10.400000   4.000000   71.100000   52.000000   2.760000   1.513000   \n",
      "25%    15.425000   4.000000  120.825000   96.500000   3.080000   2.581250   \n",
      "50%    19.200000   6.000000  196.300000  123.000000   3.695000   3.325000   \n",
      "75%    22.800000   8.000000  326.000000  180.000000   3.920000   3.610000   \n",
      "max    33.900000  50.000000  472.000000  335.000000   4.930000   5.424000   \n",
      "\n",
      "             qsec         vs     carb  \n",
      "count   31.000000  32.000000  32.0000  \n",
      "mean    19.866774   0.437500   2.8125  \n",
      "std     15.310469   0.504016   1.6152  \n",
      "min      0.100000   0.000000   1.0000  \n",
      "25%     16.785000   0.000000   2.0000  \n",
      "50%     17.600000   0.000000   2.0000  \n",
      "75%     18.755000   1.000000   4.0000  \n",
      "max    100.000000   1.000000   8.0000  \n"
     ]
    }
   ],
   "source": [
    "print(data.describe())"
   ]
  },
  {
   "cell_type": "markdown",
   "id": "aa8cb968",
   "metadata": {},
   "source": [
    "### describe() 해석\n",
    "##### 숫자형 변수가 8개이다\n",
    "1. describe() 로 결과를 낼 수 있는 게 9열\n",
    "2. vs 는 사분위수가 너무 깔끔 => 0,1 로 된 factor\n",
    "3. 나머지 변수 => 사전에 변수 설명을 읽고 describe() 를 보니 factor 가 아니라 실제 값일 것\n",
    "\n",
    "##### 뭔가 이상한 것 찾기\n",
    "1. min max 를 주의 깊게 보자. mean 과 비교하며\n",
    "2. cyl 은 엔진 기통수인데 50개가 달린 차가 있다 ??? 항공모함인가..\n",
    "3. psec 은 1/4 mile(약 402m) 가는데 걸리는 시간인데, 0.1초만에 가는 차가 있다??? 초속 4km.."
   ]
  },
  {
   "cell_type": "code",
   "execution_count": null,
   "id": "4b2e9c1f",
   "metadata": {},
   "outputs": [],
   "source": []
  },
  {
   "cell_type": "markdown",
   "id": "93347a5f",
   "metadata": {},
   "source": [
    "##### 수치형 데이터가 뭐뭐있나\n",
    "describe 로 본거랑 실제 데이터랑 개수가 다르네?"
   ]
  },
  {
   "cell_type": "code",
   "execution_count": 73,
   "id": "048ab8d3",
   "metadata": {},
   "outputs": [
    {
     "data": {
      "text/plain": [
       "9"
      ]
     },
     "execution_count": 73,
     "metadata": {},
     "output_type": "execute_result"
    }
   ],
   "source": [
    "data.describe().shape[1] # 9열. 수치형 데이터인 변수 개수. 느려보이지만 확실."
   ]
  },
  {
   "cell_type": "code",
   "execution_count": 87,
   "id": "3d84fd27",
   "metadata": {},
   "outputs": [],
   "source": [
    "# help(data)\n",
    "# data.loc[:,data.dtypes != 'object'].shape[1]# 수치형 데이터인 변수 개수2. 여기서는 맞았지만 확신은 X"
   ]
  },
  {
   "cell_type": "code",
   "execution_count": 88,
   "id": "62764758",
   "metadata": {},
   "outputs": [
    {
     "data": {
      "text/html": [
       "<div>\n",
       "<style scoped>\n",
       "    .dataframe tbody tr th:only-of-type {\n",
       "        vertical-align: middle;\n",
       "    }\n",
       "\n",
       "    .dataframe tbody tr th {\n",
       "        vertical-align: top;\n",
       "    }\n",
       "\n",
       "    .dataframe thead th {\n",
       "        text-align: right;\n",
       "    }\n",
       "</style>\n",
       "<table border=\"1\" class=\"dataframe\">\n",
       "  <thead>\n",
       "    <tr style=\"text-align: right;\">\n",
       "      <th></th>\n",
       "      <th>Unnamed: 0</th>\n",
       "      <th>mpg</th>\n",
       "      <th>cyl</th>\n",
       "      <th>disp</th>\n",
       "      <th>hp</th>\n",
       "      <th>drat</th>\n",
       "      <th>wt</th>\n",
       "      <th>qsec</th>\n",
       "      <th>vs</th>\n",
       "      <th>am</th>\n",
       "      <th>gear</th>\n",
       "      <th>carb</th>\n",
       "    </tr>\n",
       "  </thead>\n",
       "  <tbody>\n",
       "    <tr>\n",
       "      <th>0</th>\n",
       "      <td>Mazda RX4</td>\n",
       "      <td>21.0</td>\n",
       "      <td>6.0</td>\n",
       "      <td>160.0</td>\n",
       "      <td>110</td>\n",
       "      <td>3.9</td>\n",
       "      <td>2.620</td>\n",
       "      <td>16.46</td>\n",
       "      <td>0</td>\n",
       "      <td>manual</td>\n",
       "      <td>4</td>\n",
       "      <td>4</td>\n",
       "    </tr>\n",
       "    <tr>\n",
       "      <th>1</th>\n",
       "      <td>Mazda RX4 Wag</td>\n",
       "      <td>21.0</td>\n",
       "      <td>6.0</td>\n",
       "      <td>160.0</td>\n",
       "      <td>110</td>\n",
       "      <td>3.9</td>\n",
       "      <td>2.875</td>\n",
       "      <td>17.02</td>\n",
       "      <td>0</td>\n",
       "      <td>manual</td>\n",
       "      <td>4</td>\n",
       "      <td>4</td>\n",
       "    </tr>\n",
       "  </tbody>\n",
       "</table>\n",
       "</div>"
      ],
      "text/plain": [
       "      Unnamed: 0   mpg  cyl   disp   hp  drat     wt   qsec  vs      am gear  \\\n",
       "0      Mazda RX4  21.0  6.0  160.0  110   3.9  2.620  16.46   0  manual    4   \n",
       "1  Mazda RX4 Wag  21.0  6.0  160.0  110   3.9  2.875  17.02   0  manual    4   \n",
       "\n",
       "   carb  \n",
       "0     4  \n",
       "1     4  "
      ]
     },
     "execution_count": 88,
     "metadata": {},
     "output_type": "execute_result"
    }
   ],
   "source": [
    "data.head(2) # 10개로 보임"
   ]
  },
  {
   "cell_type": "markdown",
   "id": "d227ca4b",
   "metadata": {},
   "source": [
    "컬럼이 많아서 생략(...) 될 경우"
   ]
  },
  {
   "cell_type": "markdown",
   "id": "28db0f7a",
   "metadata": {},
   "source": [
    "[python head all columns](https://towardsdatascience.com/how-to-show-all-columns-rows-of-a-pandas-dataframe-c49d4507fcf)"
   ]
  },
  {
   "cell_type": "code",
   "execution_count": null,
   "id": "9486f1cb",
   "metadata": {},
   "outputs": [],
   "source": [
    "pd.set_option('display.max_columns', None)"
   ]
  },
  {
   "cell_type": "code",
   "execution_count": 118,
   "id": "e976b3db",
   "metadata": {},
   "outputs": [],
   "source": [
    "# help(pd.set_option) - 이걸로 위 형태를 알아낼 수 없다\n",
    "# 클라우드 환경에서 먹힐지도 미지수"
   ]
  },
  {
   "cell_type": "code",
   "execution_count": null,
   "id": "5918a4eb",
   "metadata": {},
   "outputs": [],
   "source": []
  },
  {
   "cell_type": "markdown",
   "id": "2915c8db",
   "metadata": {},
   "source": [
    "##### 눈으로 대조 \n",
    "컬럼 20개 넘어가면 어려운 방법"
   ]
  },
  {
   "cell_type": "code",
   "execution_count": 92,
   "id": "6d93eb13",
   "metadata": {},
   "outputs": [
    {
     "data": {
      "text/plain": [
       "Unnamed: 0     object\n",
       "mpg           float64\n",
       "cyl           float64\n",
       "disp          float64\n",
       "hp              int64\n",
       "drat          float64\n",
       "wt            float64\n",
       "qsec          float64\n",
       "vs              int64\n",
       "am             object\n",
       "gear           object\n",
       "carb            int64\n",
       "dtype: object"
      ]
     },
     "execution_count": 92,
     "metadata": {},
     "output_type": "execute_result"
    }
   ],
   "source": [
    "data.dtypes # 눈으로 대조 => gear 가 object"
   ]
  },
  {
   "cell_type": "markdown",
   "id": "39785147",
   "metadata": {},
   "source": [
    "##### 수치형인데 문자형으로 되어있는 경우- 방법2: factor 찾다가 우연히 얻어걸린 방법\n",
    "gear에 이상한 데이터가 껴있구나!"
   ]
  },
  {
   "cell_type": "code",
   "execution_count": 100,
   "id": "7d5c4922",
   "metadata": {},
   "outputs": [],
   "source": [
    "# data.nunique()"
   ]
  },
  {
   "cell_type": "code",
   "execution_count": 99,
   "id": "6e3383e6",
   "metadata": {},
   "outputs": [
    {
     "name": "stdout",
     "output_type": "stream",
     "text": [
      "cyl: [ 6.  4.  8. nan 50.]\n",
      "vs: [0 1]\n",
      "am: ['manual' 'auto']\n",
      "gear: ['4' '3' '*3' '5' '*5']\n",
      "carb: [4 1 2 3 6 8]\n"
     ]
    }
   ],
   "source": [
    "factorDoubt= data.loc[:,data.nunique() < 10].columns\n",
    "for _ in factorDoubt:\n",
    "    print(f\"{_}: {data[_].unique()}\")"
   ]
  },
  {
   "cell_type": "markdown",
   "id": "6fdae6a4",
   "metadata": {},
   "source": [
    "##### 수치형인데 문자형으로 되어있는 경우- 방법1\n",
    "문자형 데이터에 value_counts() 로 구성요소 뜯어보기"
   ]
  },
  {
   "cell_type": "code",
   "execution_count": 114,
   "id": "4c677a47",
   "metadata": {},
   "outputs": [
    {
     "name": "stdout",
     "output_type": "stream",
     "text": [
      "Unnamed: 0:\n",
      "Mazda RX4              1\n",
      "Mazda RX4 Wag          1\n",
      "Maserati Bora          1\n",
      "Ferrari Dino           1\n",
      "Ford Pantera L         1\n",
      "Lotus Europa           1\n",
      "Porsche 914-2          1\n",
      "Fiat X1-9              1\n",
      "Pontiac Firebird       1\n",
      "Camaro Z28             1\n",
      "AMC Javelin            1\n",
      "Dodge Challenger       1\n",
      "Toyota Corona          1\n",
      "Toyota Corolla         1\n",
      "Honda Civic            1\n",
      "Fiat 128               1\n",
      "Chrysler Imperial      1\n",
      "Lincoln Continental    1\n",
      "Cadillac Fleetwood     1\n",
      "Merc 450SLC            1\n",
      "Merc 450SL             1\n",
      "Merc 450SE             1\n",
      "Merc 280C              1\n",
      "Merc 280               1\n",
      "Merc 230               1\n",
      "Merc 240D              1\n",
      "Duster 360             1\n",
      "Valiant                1\n",
      "Hornet Sportabout      1\n",
      "Hornet 4 Drive         1\n",
      "Datsun 710             1\n",
      "Volvo 142E             1\n",
      "Name: Unnamed: 0, dtype: int64\n",
      "\n",
      "am:\n",
      "auto      19\n",
      "manual    13\n",
      "Name: am, dtype: int64\n",
      "\n",
      "gear:\n",
      "3     14\n",
      "4     12\n",
      "5      4\n",
      "*3     1\n",
      "*5     1\n",
      "Name: gear, dtype: int64\n",
      "\n"
     ]
    }
   ],
   "source": [
    "numberDoubt= data.loc[:,data.dtypes == object].columns\n",
    "for _ in numberDoubt:\n",
    "    print(f\"{_}:\\n{data[_].value_counts()}\\n\")"
   ]
  },
  {
   "cell_type": "code",
   "execution_count": null,
   "id": "c86d8727",
   "metadata": {},
   "outputs": [],
   "source": []
  },
  {
   "cell_type": "markdown",
   "id": "7df38f28",
   "metadata": {},
   "source": [
    "### 상관관계\n",
    "너무 밀접(1)하면 동일하다 보고 하나만 선택하고, 너무 무관(0)하면 관계없다고 보고 변수에서 제외"
   ]
  },
  {
   "cell_type": "code",
   "execution_count": 167,
   "id": "30c7ea5b",
   "metadata": {},
   "outputs": [
    {
     "data": {
      "text/html": [
       "<div>\n",
       "<style scoped>\n",
       "    .dataframe tbody tr th:only-of-type {\n",
       "        vertical-align: middle;\n",
       "    }\n",
       "\n",
       "    .dataframe tbody tr th {\n",
       "        vertical-align: top;\n",
       "    }\n",
       "\n",
       "    .dataframe thead th {\n",
       "        text-align: right;\n",
       "    }\n",
       "</style>\n",
       "<table border=\"1\" class=\"dataframe\">\n",
       "  <thead>\n",
       "    <tr style=\"text-align: right;\">\n",
       "      <th></th>\n",
       "      <th>mpg</th>\n",
       "      <th>cyl</th>\n",
       "      <th>disp</th>\n",
       "      <th>hp</th>\n",
       "      <th>drat</th>\n",
       "      <th>wt</th>\n",
       "      <th>qsec</th>\n",
       "      <th>vs</th>\n",
       "      <th>carb</th>\n",
       "    </tr>\n",
       "  </thead>\n",
       "  <tbody>\n",
       "    <tr>\n",
       "      <th>mpg</th>\n",
       "      <td>1.000000</td>\n",
       "      <td>-0.460227</td>\n",
       "      <td>-0.847551</td>\n",
       "      <td>-0.776168</td>\n",
       "      <td>0.681172</td>\n",
       "      <td>-0.867659</td>\n",
       "      <td>0.013668</td>\n",
       "      <td>0.664039</td>\n",
       "      <td>-0.550925</td>\n",
       "    </tr>\n",
       "    <tr>\n",
       "      <th>cyl</th>\n",
       "      <td>-0.460227</td>\n",
       "      <td>1.000000</td>\n",
       "      <td>0.544876</td>\n",
       "      <td>0.323293</td>\n",
       "      <td>-0.372671</td>\n",
       "      <td>0.533690</td>\n",
       "      <td>-0.012755</td>\n",
       "      <td>-0.323960</td>\n",
       "      <td>0.239980</td>\n",
       "    </tr>\n",
       "    <tr>\n",
       "      <th>disp</th>\n",
       "      <td>-0.847551</td>\n",
       "      <td>0.544876</td>\n",
       "      <td>1.000000</td>\n",
       "      <td>0.790949</td>\n",
       "      <td>-0.710214</td>\n",
       "      <td>0.887980</td>\n",
       "      <td>0.181810</td>\n",
       "      <td>-0.710416</td>\n",
       "      <td>0.394977</td>\n",
       "    </tr>\n",
       "    <tr>\n",
       "      <th>hp</th>\n",
       "      <td>-0.776168</td>\n",
       "      <td>0.323293</td>\n",
       "      <td>0.790949</td>\n",
       "      <td>1.000000</td>\n",
       "      <td>-0.448759</td>\n",
       "      <td>0.658748</td>\n",
       "      <td>0.010807</td>\n",
       "      <td>-0.723097</td>\n",
       "      <td>0.749812</td>\n",
       "    </tr>\n",
       "    <tr>\n",
       "      <th>drat</th>\n",
       "      <td>0.681172</td>\n",
       "      <td>-0.372671</td>\n",
       "      <td>-0.710214</td>\n",
       "      <td>-0.448759</td>\n",
       "      <td>1.000000</td>\n",
       "      <td>-0.712441</td>\n",
       "      <td>-0.120283</td>\n",
       "      <td>0.440278</td>\n",
       "      <td>-0.090790</td>\n",
       "    </tr>\n",
       "    <tr>\n",
       "      <th>wt</th>\n",
       "      <td>-0.867659</td>\n",
       "      <td>0.533690</td>\n",
       "      <td>0.887980</td>\n",
       "      <td>0.658748</td>\n",
       "      <td>-0.712441</td>\n",
       "      <td>1.000000</td>\n",
       "      <td>0.093900</td>\n",
       "      <td>-0.554916</td>\n",
       "      <td>0.427606</td>\n",
       "    </tr>\n",
       "    <tr>\n",
       "      <th>qsec</th>\n",
       "      <td>0.013668</td>\n",
       "      <td>-0.012755</td>\n",
       "      <td>0.181810</td>\n",
       "      <td>0.010807</td>\n",
       "      <td>-0.120283</td>\n",
       "      <td>0.093900</td>\n",
       "      <td>1.000000</td>\n",
       "      <td>-0.112146</td>\n",
       "      <td>-0.120312</td>\n",
       "    </tr>\n",
       "    <tr>\n",
       "      <th>vs</th>\n",
       "      <td>0.664039</td>\n",
       "      <td>-0.323960</td>\n",
       "      <td>-0.710416</td>\n",
       "      <td>-0.723097</td>\n",
       "      <td>0.440278</td>\n",
       "      <td>-0.554916</td>\n",
       "      <td>-0.112146</td>\n",
       "      <td>1.000000</td>\n",
       "      <td>-0.569607</td>\n",
       "    </tr>\n",
       "    <tr>\n",
       "      <th>carb</th>\n",
       "      <td>-0.550925</td>\n",
       "      <td>0.239980</td>\n",
       "      <td>0.394977</td>\n",
       "      <td>0.749812</td>\n",
       "      <td>-0.090790</td>\n",
       "      <td>0.427606</td>\n",
       "      <td>-0.120312</td>\n",
       "      <td>-0.569607</td>\n",
       "      <td>1.000000</td>\n",
       "    </tr>\n",
       "  </tbody>\n",
       "</table>\n",
       "</div>"
      ],
      "text/plain": [
       "           mpg       cyl      disp        hp      drat        wt      qsec  \\\n",
       "mpg   1.000000 -0.460227 -0.847551 -0.776168  0.681172 -0.867659  0.013668   \n",
       "cyl  -0.460227  1.000000  0.544876  0.323293 -0.372671  0.533690 -0.012755   \n",
       "disp -0.847551  0.544876  1.000000  0.790949 -0.710214  0.887980  0.181810   \n",
       "hp   -0.776168  0.323293  0.790949  1.000000 -0.448759  0.658748  0.010807   \n",
       "drat  0.681172 -0.372671 -0.710214 -0.448759  1.000000 -0.712441 -0.120283   \n",
       "wt   -0.867659  0.533690  0.887980  0.658748 -0.712441  1.000000  0.093900   \n",
       "qsec  0.013668 -0.012755  0.181810  0.010807 -0.120283  0.093900  1.000000   \n",
       "vs    0.664039 -0.323960 -0.710416 -0.723097  0.440278 -0.554916 -0.112146   \n",
       "carb -0.550925  0.239980  0.394977  0.749812 -0.090790  0.427606 -0.120312   \n",
       "\n",
       "            vs      carb  \n",
       "mpg   0.664039 -0.550925  \n",
       "cyl  -0.323960  0.239980  \n",
       "disp -0.710416  0.394977  \n",
       "hp   -0.723097  0.749812  \n",
       "drat  0.440278 -0.090790  \n",
       "wt   -0.554916  0.427606  \n",
       "qsec -0.112146 -0.120312  \n",
       "vs    1.000000 -0.569607  \n",
       "carb -0.569607  1.000000  "
      ]
     },
     "execution_count": 167,
     "metadata": {},
     "output_type": "execute_result"
    }
   ],
   "source": [
    "#type(data.corr()) # DataFrame\n",
    "corr= data.corr(); corr"
   ]
  },
  {
   "cell_type": "code",
   "execution_count": 179,
   "id": "30663ded",
   "metadata": {},
   "outputs": [
    {
     "data": {
      "text/html": [
       "<div>\n",
       "<style scoped>\n",
       "    .dataframe tbody tr th:only-of-type {\n",
       "        vertical-align: middle;\n",
       "    }\n",
       "\n",
       "    .dataframe tbody tr th {\n",
       "        vertical-align: top;\n",
       "    }\n",
       "\n",
       "    .dataframe thead th {\n",
       "        text-align: right;\n",
       "    }\n",
       "</style>\n",
       "<table border=\"1\" class=\"dataframe\">\n",
       "  <thead>\n",
       "    <tr style=\"text-align: right;\">\n",
       "      <th></th>\n",
       "      <th>mpg</th>\n",
       "      <th>cyl</th>\n",
       "      <th>disp</th>\n",
       "      <th>hp</th>\n",
       "      <th>drat</th>\n",
       "      <th>wt</th>\n",
       "      <th>qsec</th>\n",
       "      <th>vs</th>\n",
       "      <th>carb</th>\n",
       "    </tr>\n",
       "  </thead>\n",
       "  <tbody>\n",
       "    <tr>\n",
       "      <th>mpg</th>\n",
       "      <td>True</td>\n",
       "      <td>False</td>\n",
       "      <td>False</td>\n",
       "      <td>False</td>\n",
       "      <td>False</td>\n",
       "      <td>False</td>\n",
       "      <td>False</td>\n",
       "      <td>False</td>\n",
       "      <td>False</td>\n",
       "    </tr>\n",
       "    <tr>\n",
       "      <th>cyl</th>\n",
       "      <td>False</td>\n",
       "      <td>True</td>\n",
       "      <td>False</td>\n",
       "      <td>False</td>\n",
       "      <td>False</td>\n",
       "      <td>False</td>\n",
       "      <td>False</td>\n",
       "      <td>False</td>\n",
       "      <td>False</td>\n",
       "    </tr>\n",
       "    <tr>\n",
       "      <th>disp</th>\n",
       "      <td>False</td>\n",
       "      <td>False</td>\n",
       "      <td>True</td>\n",
       "      <td>False</td>\n",
       "      <td>False</td>\n",
       "      <td>True</td>\n",
       "      <td>False</td>\n",
       "      <td>False</td>\n",
       "      <td>False</td>\n",
       "    </tr>\n",
       "    <tr>\n",
       "      <th>hp</th>\n",
       "      <td>False</td>\n",
       "      <td>False</td>\n",
       "      <td>False</td>\n",
       "      <td>True</td>\n",
       "      <td>False</td>\n",
       "      <td>False</td>\n",
       "      <td>False</td>\n",
       "      <td>False</td>\n",
       "      <td>False</td>\n",
       "    </tr>\n",
       "    <tr>\n",
       "      <th>drat</th>\n",
       "      <td>False</td>\n",
       "      <td>False</td>\n",
       "      <td>False</td>\n",
       "      <td>False</td>\n",
       "      <td>True</td>\n",
       "      <td>False</td>\n",
       "      <td>False</td>\n",
       "      <td>False</td>\n",
       "      <td>False</td>\n",
       "    </tr>\n",
       "    <tr>\n",
       "      <th>wt</th>\n",
       "      <td>False</td>\n",
       "      <td>False</td>\n",
       "      <td>True</td>\n",
       "      <td>False</td>\n",
       "      <td>False</td>\n",
       "      <td>True</td>\n",
       "      <td>False</td>\n",
       "      <td>False</td>\n",
       "      <td>False</td>\n",
       "    </tr>\n",
       "    <tr>\n",
       "      <th>qsec</th>\n",
       "      <td>False</td>\n",
       "      <td>False</td>\n",
       "      <td>False</td>\n",
       "      <td>False</td>\n",
       "      <td>False</td>\n",
       "      <td>False</td>\n",
       "      <td>True</td>\n",
       "      <td>False</td>\n",
       "      <td>False</td>\n",
       "    </tr>\n",
       "    <tr>\n",
       "      <th>vs</th>\n",
       "      <td>False</td>\n",
       "      <td>False</td>\n",
       "      <td>False</td>\n",
       "      <td>False</td>\n",
       "      <td>False</td>\n",
       "      <td>False</td>\n",
       "      <td>False</td>\n",
       "      <td>True</td>\n",
       "      <td>False</td>\n",
       "    </tr>\n",
       "    <tr>\n",
       "      <th>carb</th>\n",
       "      <td>False</td>\n",
       "      <td>False</td>\n",
       "      <td>False</td>\n",
       "      <td>False</td>\n",
       "      <td>False</td>\n",
       "      <td>False</td>\n",
       "      <td>False</td>\n",
       "      <td>False</td>\n",
       "      <td>True</td>\n",
       "    </tr>\n",
       "  </tbody>\n",
       "</table>\n",
       "</div>"
      ],
      "text/plain": [
       "        mpg    cyl   disp     hp   drat     wt   qsec     vs   carb\n",
       "mpg    True  False  False  False  False  False  False  False  False\n",
       "cyl   False   True  False  False  False  False  False  False  False\n",
       "disp  False  False   True  False  False   True  False  False  False\n",
       "hp    False  False  False   True  False  False  False  False  False\n",
       "drat  False  False  False  False   True  False  False  False  False\n",
       "wt    False  False   True  False  False   True  False  False  False\n",
       "qsec  False  False  False  False  False  False   True  False  False\n",
       "vs    False  False  False  False  False  False  False   True  False\n",
       "carb  False  False  False  False  False  False  False  False   True"
      ]
     },
     "execution_count": 179,
     "metadata": {},
     "output_type": "execute_result"
    }
   ],
   "source": [
    "(0.8 <= corr) # 양의 상관관계. 대각행렬 제외하고 True 인 경우: wt무게 ~ disp배기량"
   ]
  },
  {
   "cell_type": "code",
   "execution_count": 180,
   "id": "58bba7df",
   "metadata": {},
   "outputs": [
    {
     "data": {
      "text/html": [
       "<div>\n",
       "<style scoped>\n",
       "    .dataframe tbody tr th:only-of-type {\n",
       "        vertical-align: middle;\n",
       "    }\n",
       "\n",
       "    .dataframe tbody tr th {\n",
       "        vertical-align: top;\n",
       "    }\n",
       "\n",
       "    .dataframe thead th {\n",
       "        text-align: right;\n",
       "    }\n",
       "</style>\n",
       "<table border=\"1\" class=\"dataframe\">\n",
       "  <thead>\n",
       "    <tr style=\"text-align: right;\">\n",
       "      <th></th>\n",
       "      <th>mpg</th>\n",
       "      <th>cyl</th>\n",
       "      <th>disp</th>\n",
       "      <th>hp</th>\n",
       "      <th>drat</th>\n",
       "      <th>wt</th>\n",
       "      <th>qsec</th>\n",
       "      <th>vs</th>\n",
       "      <th>carb</th>\n",
       "    </tr>\n",
       "  </thead>\n",
       "  <tbody>\n",
       "    <tr>\n",
       "      <th>mpg</th>\n",
       "      <td>False</td>\n",
       "      <td>False</td>\n",
       "      <td>True</td>\n",
       "      <td>False</td>\n",
       "      <td>False</td>\n",
       "      <td>True</td>\n",
       "      <td>False</td>\n",
       "      <td>False</td>\n",
       "      <td>False</td>\n",
       "    </tr>\n",
       "    <tr>\n",
       "      <th>cyl</th>\n",
       "      <td>False</td>\n",
       "      <td>False</td>\n",
       "      <td>False</td>\n",
       "      <td>False</td>\n",
       "      <td>False</td>\n",
       "      <td>False</td>\n",
       "      <td>False</td>\n",
       "      <td>False</td>\n",
       "      <td>False</td>\n",
       "    </tr>\n",
       "    <tr>\n",
       "      <th>disp</th>\n",
       "      <td>True</td>\n",
       "      <td>False</td>\n",
       "      <td>False</td>\n",
       "      <td>False</td>\n",
       "      <td>False</td>\n",
       "      <td>False</td>\n",
       "      <td>False</td>\n",
       "      <td>False</td>\n",
       "      <td>False</td>\n",
       "    </tr>\n",
       "    <tr>\n",
       "      <th>hp</th>\n",
       "      <td>False</td>\n",
       "      <td>False</td>\n",
       "      <td>False</td>\n",
       "      <td>False</td>\n",
       "      <td>False</td>\n",
       "      <td>False</td>\n",
       "      <td>False</td>\n",
       "      <td>False</td>\n",
       "      <td>False</td>\n",
       "    </tr>\n",
       "    <tr>\n",
       "      <th>drat</th>\n",
       "      <td>False</td>\n",
       "      <td>False</td>\n",
       "      <td>False</td>\n",
       "      <td>False</td>\n",
       "      <td>False</td>\n",
       "      <td>False</td>\n",
       "      <td>False</td>\n",
       "      <td>False</td>\n",
       "      <td>False</td>\n",
       "    </tr>\n",
       "    <tr>\n",
       "      <th>wt</th>\n",
       "      <td>True</td>\n",
       "      <td>False</td>\n",
       "      <td>False</td>\n",
       "      <td>False</td>\n",
       "      <td>False</td>\n",
       "      <td>False</td>\n",
       "      <td>False</td>\n",
       "      <td>False</td>\n",
       "      <td>False</td>\n",
       "    </tr>\n",
       "    <tr>\n",
       "      <th>qsec</th>\n",
       "      <td>False</td>\n",
       "      <td>False</td>\n",
       "      <td>False</td>\n",
       "      <td>False</td>\n",
       "      <td>False</td>\n",
       "      <td>False</td>\n",
       "      <td>False</td>\n",
       "      <td>False</td>\n",
       "      <td>False</td>\n",
       "    </tr>\n",
       "    <tr>\n",
       "      <th>vs</th>\n",
       "      <td>False</td>\n",
       "      <td>False</td>\n",
       "      <td>False</td>\n",
       "      <td>False</td>\n",
       "      <td>False</td>\n",
       "      <td>False</td>\n",
       "      <td>False</td>\n",
       "      <td>False</td>\n",
       "      <td>False</td>\n",
       "    </tr>\n",
       "    <tr>\n",
       "      <th>carb</th>\n",
       "      <td>False</td>\n",
       "      <td>False</td>\n",
       "      <td>False</td>\n",
       "      <td>False</td>\n",
       "      <td>False</td>\n",
       "      <td>False</td>\n",
       "      <td>False</td>\n",
       "      <td>False</td>\n",
       "      <td>False</td>\n",
       "    </tr>\n",
       "  </tbody>\n",
       "</table>\n",
       "</div>"
      ],
      "text/plain": [
       "        mpg    cyl   disp     hp   drat     wt   qsec     vs   carb\n",
       "mpg   False  False   True  False  False   True  False  False  False\n",
       "cyl   False  False  False  False  False  False  False  False  False\n",
       "disp   True  False  False  False  False  False  False  False  False\n",
       "hp    False  False  False  False  False  False  False  False  False\n",
       "drat  False  False  False  False  False  False  False  False  False\n",
       "wt     True  False  False  False  False  False  False  False  False\n",
       "qsec  False  False  False  False  False  False  False  False  False\n",
       "vs    False  False  False  False  False  False  False  False  False\n",
       "carb  False  False  False  False  False  False  False  False  False"
      ]
     },
     "execution_count": 180,
     "metadata": {},
     "output_type": "execute_result"
    }
   ],
   "source": [
    "(corr <= -0.8) # 음의 상관관계. mpg연비 ~ disp배기량, mpg연비~wt무게"
   ]
  },
  {
   "cell_type": "markdown",
   "id": "46912b4c",
   "metadata": {},
   "source": [
    "[python dataframe or](https://ponyozzang.tistory.com/608)\n",
    "- df[(df['age'] < 20) | (df['point'] > 90)]\n",
    "- any 는 동일 Series (혹은 동일 컬럼, 동일 DataFrame) 안에서 True/False 판별하는 것"
   ]
  },
  {
   "cell_type": "code",
   "execution_count": 189,
   "id": "fa3e19ad",
   "metadata": {},
   "outputs": [
    {
     "data": {
      "text/html": [
       "<div>\n",
       "<style scoped>\n",
       "    .dataframe tbody tr th:only-of-type {\n",
       "        vertical-align: middle;\n",
       "    }\n",
       "\n",
       "    .dataframe tbody tr th {\n",
       "        vertical-align: top;\n",
       "    }\n",
       "\n",
       "    .dataframe thead th {\n",
       "        text-align: right;\n",
       "    }\n",
       "</style>\n",
       "<table border=\"1\" class=\"dataframe\">\n",
       "  <thead>\n",
       "    <tr style=\"text-align: right;\">\n",
       "      <th></th>\n",
       "      <th>mpg</th>\n",
       "      <th>cyl</th>\n",
       "      <th>disp</th>\n",
       "      <th>hp</th>\n",
       "      <th>drat</th>\n",
       "      <th>wt</th>\n",
       "      <th>qsec</th>\n",
       "      <th>vs</th>\n",
       "      <th>carb</th>\n",
       "    </tr>\n",
       "  </thead>\n",
       "  <tbody>\n",
       "    <tr>\n",
       "      <th>mpg</th>\n",
       "      <td>1.000000</td>\n",
       "      <td>NaN</td>\n",
       "      <td>-0.847551</td>\n",
       "      <td>NaN</td>\n",
       "      <td>NaN</td>\n",
       "      <td>-0.867659</td>\n",
       "      <td>NaN</td>\n",
       "      <td>NaN</td>\n",
       "      <td>NaN</td>\n",
       "    </tr>\n",
       "    <tr>\n",
       "      <th>cyl</th>\n",
       "      <td>NaN</td>\n",
       "      <td>1.0</td>\n",
       "      <td>NaN</td>\n",
       "      <td>NaN</td>\n",
       "      <td>NaN</td>\n",
       "      <td>NaN</td>\n",
       "      <td>NaN</td>\n",
       "      <td>NaN</td>\n",
       "      <td>NaN</td>\n",
       "    </tr>\n",
       "    <tr>\n",
       "      <th>disp</th>\n",
       "      <td>-0.847551</td>\n",
       "      <td>NaN</td>\n",
       "      <td>1.000000</td>\n",
       "      <td>NaN</td>\n",
       "      <td>NaN</td>\n",
       "      <td>0.887980</td>\n",
       "      <td>NaN</td>\n",
       "      <td>NaN</td>\n",
       "      <td>NaN</td>\n",
       "    </tr>\n",
       "    <tr>\n",
       "      <th>hp</th>\n",
       "      <td>NaN</td>\n",
       "      <td>NaN</td>\n",
       "      <td>NaN</td>\n",
       "      <td>1.0</td>\n",
       "      <td>NaN</td>\n",
       "      <td>NaN</td>\n",
       "      <td>NaN</td>\n",
       "      <td>NaN</td>\n",
       "      <td>NaN</td>\n",
       "    </tr>\n",
       "    <tr>\n",
       "      <th>drat</th>\n",
       "      <td>NaN</td>\n",
       "      <td>NaN</td>\n",
       "      <td>NaN</td>\n",
       "      <td>NaN</td>\n",
       "      <td>1.0</td>\n",
       "      <td>NaN</td>\n",
       "      <td>NaN</td>\n",
       "      <td>NaN</td>\n",
       "      <td>NaN</td>\n",
       "    </tr>\n",
       "    <tr>\n",
       "      <th>wt</th>\n",
       "      <td>-0.867659</td>\n",
       "      <td>NaN</td>\n",
       "      <td>0.887980</td>\n",
       "      <td>NaN</td>\n",
       "      <td>NaN</td>\n",
       "      <td>1.000000</td>\n",
       "      <td>NaN</td>\n",
       "      <td>NaN</td>\n",
       "      <td>NaN</td>\n",
       "    </tr>\n",
       "    <tr>\n",
       "      <th>qsec</th>\n",
       "      <td>NaN</td>\n",
       "      <td>NaN</td>\n",
       "      <td>NaN</td>\n",
       "      <td>NaN</td>\n",
       "      <td>NaN</td>\n",
       "      <td>NaN</td>\n",
       "      <td>1.0</td>\n",
       "      <td>NaN</td>\n",
       "      <td>NaN</td>\n",
       "    </tr>\n",
       "    <tr>\n",
       "      <th>vs</th>\n",
       "      <td>NaN</td>\n",
       "      <td>NaN</td>\n",
       "      <td>NaN</td>\n",
       "      <td>NaN</td>\n",
       "      <td>NaN</td>\n",
       "      <td>NaN</td>\n",
       "      <td>NaN</td>\n",
       "      <td>1.0</td>\n",
       "      <td>NaN</td>\n",
       "    </tr>\n",
       "    <tr>\n",
       "      <th>carb</th>\n",
       "      <td>NaN</td>\n",
       "      <td>NaN</td>\n",
       "      <td>NaN</td>\n",
       "      <td>NaN</td>\n",
       "      <td>NaN</td>\n",
       "      <td>NaN</td>\n",
       "      <td>NaN</td>\n",
       "      <td>NaN</td>\n",
       "      <td>1.0</td>\n",
       "    </tr>\n",
       "  </tbody>\n",
       "</table>\n",
       "</div>"
      ],
      "text/plain": [
       "           mpg  cyl      disp   hp  drat        wt  qsec   vs  carb\n",
       "mpg   1.000000  NaN -0.847551  NaN   NaN -0.867659   NaN  NaN   NaN\n",
       "cyl        NaN  1.0       NaN  NaN   NaN       NaN   NaN  NaN   NaN\n",
       "disp -0.847551  NaN  1.000000  NaN   NaN  0.887980   NaN  NaN   NaN\n",
       "hp         NaN  NaN       NaN  1.0   NaN       NaN   NaN  NaN   NaN\n",
       "drat       NaN  NaN       NaN  NaN   1.0       NaN   NaN  NaN   NaN\n",
       "wt   -0.867659  NaN  0.887980  NaN   NaN  1.000000   NaN  NaN   NaN\n",
       "qsec       NaN  NaN       NaN  NaN   NaN       NaN   1.0  NaN   NaN\n",
       "vs         NaN  NaN       NaN  NaN   NaN       NaN   NaN  1.0   NaN\n",
       "carb       NaN  NaN       NaN  NaN   NaN       NaN   NaN  NaN   1.0"
      ]
     },
     "execution_count": 189,
     "metadata": {},
     "output_type": "execute_result"
    }
   ],
   "source": [
    "# 동시에 보면서도 양/음 확인 가능한 방법\n",
    "corr[(corr <= -0.8) | (0.8 <= corr)]"
   ]
  },
  {
   "cell_type": "markdown",
   "id": "54c97542",
   "metadata": {},
   "source": [
    "mpg 연비, disp 배기량, wt 무게\n",
    "##### [mpg 와 disp], [mpg 와 wt] 음의 상관관계 강함 => mpg는 종속변수이니 독립변수로 disp 나 wt 가 유력\n",
    "##### [disp 와 wt] 양의 상관관계 강함 => 둘 중 하나만 써도 될? 것"
   ]
  },
  {
   "cell_type": "code",
   "execution_count": 184,
   "id": "504e332f",
   "metadata": {},
   "outputs": [],
   "source": [
    "# T-F T-T 뭐일때 T 로 반환할지 의도가 불분명하므로 Error (0.8 <= corr) or (corr <= -0.8)"
   ]
  },
  {
   "cell_type": "code",
   "execution_count": 173,
   "id": "214a6888",
   "metadata": {},
   "outputs": [],
   "source": [
    "# help(corr.any) # Examples > >>> pd.Series([False, False]).any()    # False"
   ]
  },
  {
   "cell_type": "code",
   "execution_count": 183,
   "id": "8cbb3277",
   "metadata": {},
   "outputs": [],
   "source": [
    "# 시행착오. any는 각 Series 내부에서 계산하는 용도. pd.Series([0.8<=corr, corr<=-0.8]).any() "
   ]
  },
  {
   "cell_type": "code",
   "execution_count": null,
   "id": "bda58ca1",
   "metadata": {},
   "outputs": [],
   "source": []
  },
  {
   "cell_type": "code",
   "execution_count": 190,
   "id": "71e9ae02",
   "metadata": {},
   "outputs": [
    {
     "data": {
      "text/html": [
       "<div>\n",
       "<style scoped>\n",
       "    .dataframe tbody tr th:only-of-type {\n",
       "        vertical-align: middle;\n",
       "    }\n",
       "\n",
       "    .dataframe tbody tr th {\n",
       "        vertical-align: top;\n",
       "    }\n",
       "\n",
       "    .dataframe thead th {\n",
       "        text-align: right;\n",
       "    }\n",
       "</style>\n",
       "<table border=\"1\" class=\"dataframe\">\n",
       "  <thead>\n",
       "    <tr style=\"text-align: right;\">\n",
       "      <th></th>\n",
       "      <th>mpg</th>\n",
       "      <th>cyl</th>\n",
       "      <th>disp</th>\n",
       "      <th>hp</th>\n",
       "      <th>drat</th>\n",
       "      <th>wt</th>\n",
       "      <th>qsec</th>\n",
       "      <th>vs</th>\n",
       "      <th>carb</th>\n",
       "    </tr>\n",
       "  </thead>\n",
       "  <tbody>\n",
       "    <tr>\n",
       "      <th>mpg</th>\n",
       "      <td>NaN</td>\n",
       "      <td>NaN</td>\n",
       "      <td>NaN</td>\n",
       "      <td>NaN</td>\n",
       "      <td>NaN</td>\n",
       "      <td>NaN</td>\n",
       "      <td>0.013668</td>\n",
       "      <td>NaN</td>\n",
       "      <td>NaN</td>\n",
       "    </tr>\n",
       "    <tr>\n",
       "      <th>cyl</th>\n",
       "      <td>NaN</td>\n",
       "      <td>NaN</td>\n",
       "      <td>NaN</td>\n",
       "      <td>NaN</td>\n",
       "      <td>NaN</td>\n",
       "      <td>NaN</td>\n",
       "      <td>-0.012755</td>\n",
       "      <td>NaN</td>\n",
       "      <td>NaN</td>\n",
       "    </tr>\n",
       "    <tr>\n",
       "      <th>disp</th>\n",
       "      <td>NaN</td>\n",
       "      <td>NaN</td>\n",
       "      <td>NaN</td>\n",
       "      <td>NaN</td>\n",
       "      <td>NaN</td>\n",
       "      <td>NaN</td>\n",
       "      <td>NaN</td>\n",
       "      <td>NaN</td>\n",
       "      <td>NaN</td>\n",
       "    </tr>\n",
       "    <tr>\n",
       "      <th>hp</th>\n",
       "      <td>NaN</td>\n",
       "      <td>NaN</td>\n",
       "      <td>NaN</td>\n",
       "      <td>NaN</td>\n",
       "      <td>NaN</td>\n",
       "      <td>NaN</td>\n",
       "      <td>0.010807</td>\n",
       "      <td>NaN</td>\n",
       "      <td>NaN</td>\n",
       "    </tr>\n",
       "    <tr>\n",
       "      <th>drat</th>\n",
       "      <td>NaN</td>\n",
       "      <td>NaN</td>\n",
       "      <td>NaN</td>\n",
       "      <td>NaN</td>\n",
       "      <td>NaN</td>\n",
       "      <td>NaN</td>\n",
       "      <td>NaN</td>\n",
       "      <td>NaN</td>\n",
       "      <td>-0.09079</td>\n",
       "    </tr>\n",
       "    <tr>\n",
       "      <th>wt</th>\n",
       "      <td>NaN</td>\n",
       "      <td>NaN</td>\n",
       "      <td>NaN</td>\n",
       "      <td>NaN</td>\n",
       "      <td>NaN</td>\n",
       "      <td>NaN</td>\n",
       "      <td>0.093900</td>\n",
       "      <td>NaN</td>\n",
       "      <td>NaN</td>\n",
       "    </tr>\n",
       "    <tr>\n",
       "      <th>qsec</th>\n",
       "      <td>0.013668</td>\n",
       "      <td>-0.012755</td>\n",
       "      <td>NaN</td>\n",
       "      <td>0.010807</td>\n",
       "      <td>NaN</td>\n",
       "      <td>0.0939</td>\n",
       "      <td>NaN</td>\n",
       "      <td>NaN</td>\n",
       "      <td>NaN</td>\n",
       "    </tr>\n",
       "    <tr>\n",
       "      <th>vs</th>\n",
       "      <td>NaN</td>\n",
       "      <td>NaN</td>\n",
       "      <td>NaN</td>\n",
       "      <td>NaN</td>\n",
       "      <td>NaN</td>\n",
       "      <td>NaN</td>\n",
       "      <td>NaN</td>\n",
       "      <td>NaN</td>\n",
       "      <td>NaN</td>\n",
       "    </tr>\n",
       "    <tr>\n",
       "      <th>carb</th>\n",
       "      <td>NaN</td>\n",
       "      <td>NaN</td>\n",
       "      <td>NaN</td>\n",
       "      <td>NaN</td>\n",
       "      <td>-0.09079</td>\n",
       "      <td>NaN</td>\n",
       "      <td>NaN</td>\n",
       "      <td>NaN</td>\n",
       "      <td>NaN</td>\n",
       "    </tr>\n",
       "  </tbody>\n",
       "</table>\n",
       "</div>"
      ],
      "text/plain": [
       "           mpg       cyl  disp        hp     drat      wt      qsec  vs  \\\n",
       "mpg        NaN       NaN   NaN       NaN      NaN     NaN  0.013668 NaN   \n",
       "cyl        NaN       NaN   NaN       NaN      NaN     NaN -0.012755 NaN   \n",
       "disp       NaN       NaN   NaN       NaN      NaN     NaN       NaN NaN   \n",
       "hp         NaN       NaN   NaN       NaN      NaN     NaN  0.010807 NaN   \n",
       "drat       NaN       NaN   NaN       NaN      NaN     NaN       NaN NaN   \n",
       "wt         NaN       NaN   NaN       NaN      NaN     NaN  0.093900 NaN   \n",
       "qsec  0.013668 -0.012755   NaN  0.010807      NaN  0.0939       NaN NaN   \n",
       "vs         NaN       NaN   NaN       NaN      NaN     NaN       NaN NaN   \n",
       "carb       NaN       NaN   NaN       NaN -0.09079     NaN       NaN NaN   \n",
       "\n",
       "         carb  \n",
       "mpg       NaN  \n",
       "cyl       NaN  \n",
       "disp      NaN  \n",
       "hp        NaN  \n",
       "drat -0.09079  \n",
       "wt        NaN  \n",
       "qsec      NaN  \n",
       "vs        NaN  \n",
       "carb      NaN  "
      ]
     },
     "execution_count": 190,
     "metadata": {},
     "output_type": "execute_result"
    }
   ],
   "source": [
    "corr[((-0.1<=corr) & (corr<=0.1))]"
   ]
  },
  {
   "cell_type": "markdown",
   "id": "d48e3aa4",
   "metadata": {},
   "source": [
    "mpg 연비(종속변수), qsec 400m 가는데 걸리는 시간, cyl 엔진 기통 수, hp 마력, wt 무게, // drat 뒤 차축비(rear axle ratio), carb 기화기 개수\n",
    "##### mpg연비 와 qsec 은 별 상관이 없다 => 종속변수 알아보는데 qsec 은 빼도 될 것 같다.\n",
    "##### qsec 과 mpg,cyl,hp, wt 는 별 상관이 없다 => 다 독립변수라서 분석에 영향은 없을 것\n",
    "##### drat 와 carb 는 별 상관이 없다 => 다 독립변수라서 분석에 영향은 없을 것"
   ]
  }
 ],
 "metadata": {
  "kernelspec": {
   "display_name": "Python 3 (ipykernel)",
   "language": "python",
   "name": "python3"
  },
  "language_info": {
   "codemirror_mode": {
    "name": "ipython",
    "version": 3
   },
   "file_extension": ".py",
   "mimetype": "text/x-python",
   "name": "python",
   "nbconvert_exporter": "python",
   "pygments_lexer": "ipython3",
   "version": "3.9.7"
  }
 },
 "nbformat": 4,
 "nbformat_minor": 5
}
