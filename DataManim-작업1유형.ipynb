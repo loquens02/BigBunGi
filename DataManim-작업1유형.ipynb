{
 "cells": [
  {
   "cell_type": "markdown",
   "id": "6a02cf4c",
   "metadata": {},
   "source": [
    "# [DataManim-작업1유형](https://www.datamanim.com/dataset/03_dataq/typeone.html#id2)"
   ]
  },
  {
   "cell_type": "markdown",
   "id": "7298e314",
   "metadata": {},
   "source": [
    "1. 유튜브 인기동영상 데이터 << \n",
    "2. 유튜브 공범컨텐츠 동영상 데이터\n",
    "3. 월드컵 출전선수 골기록 데이터\n",
    "4. 서울시 따릉이 이용정보 데이터\n",
    "5. 전세계 행복도 지표 데이터\n",
    "6. 지역구 에너지 소비량 데이터\n",
    "7. 포켓몬 정보 데이터\n",
    "8. 대한민국 체력장 데이터\n",
    "9. 기온 강수량 데이터\n",
    "10. 서비스 이탈예측 데이터\n",
    "11. 성인 건강검진 데이터\n",
    "12. 자동차 보험가입 예측데이터\n",
    "13. 핸드폰 가격 예측데이터\n",
    "14. 비행탑승 경험 만족도 데이터\n",
    "15. 수질 음용성 여부 데이터\n",
    "16. 의료 비용 예측 데이터\n",
    "17. 킹카운티 주거지 가격예측문제 데이터\n",
    "18. 대학원 입학가능성 데이터\n",
    "19. 레드 와인 퀄리티 예측 데이터\n",
    "20. 약물 분류 데이터\n",
    "21. 사기회사 분류 데이터\n",
    "22. 센서데이터 동작유형 분류 데이터\n",
    "23. 현대 차량 가격 분류문제 데이터\n",
    "24. 당뇨여부판단 데이터\n",
    "25. 넷플릭스 주식 데이터\n",
    "26. 220510추가"
   ]
  },
  {
   "cell_type": "markdown",
   "id": "b4493e59",
   "metadata": {},
   "source": [
    "## 유튜브 인기동영상 데이터\n",
    "- 데이터: [출처-캐글](https://www.kaggle.com/rsrishav/youtube-trending-video-dataset?select=KR_youtube_trending_data.csv)\n",
    "- 데이터 설명 : 유튜브 데일리 인기동영상 (한국)\n",
    "- 가공 dataurl : https://raw.githubusercontent.com/Datamanim/datarepo/main/youtube/youtube.csv"
   ]
  },
  {
   "cell_type": "code",
   "execution_count": 1,
   "id": "87e9c0d8",
   "metadata": {},
   "outputs": [
    {
     "data": {
      "text/html": [
       "<div>\n",
       "<style scoped>\n",
       "    .dataframe tbody tr th:only-of-type {\n",
       "        vertical-align: middle;\n",
       "    }\n",
       "\n",
       "    .dataframe tbody tr th {\n",
       "        vertical-align: top;\n",
       "    }\n",
       "\n",
       "    .dataframe thead th {\n",
       "        text-align: right;\n",
       "    }\n",
       "</style>\n",
       "<table border=\"1\" class=\"dataframe\">\n",
       "  <thead>\n",
       "    <tr style=\"text-align: right;\">\n",
       "      <th></th>\n",
       "      <th>title</th>\n",
       "      <th>channelTitle</th>\n",
       "      <th>categoryId</th>\n",
       "      <th>view_count</th>\n",
       "      <th>likes</th>\n",
       "      <th>dislikes</th>\n",
       "      <th>comment_count</th>\n",
       "      <th>channelId</th>\n",
       "      <th>trending_date2</th>\n",
       "    </tr>\n",
       "  </thead>\n",
       "  <tbody>\n",
       "    <tr>\n",
       "      <th>0</th>\n",
       "      <td>[신병] 물자창고</td>\n",
       "      <td>장삐쭈</td>\n",
       "      <td>23</td>\n",
       "      <td>1893473</td>\n",
       "      <td>38249</td>\n",
       "      <td>730</td>\n",
       "      <td>8595</td>\n",
       "      <td>UChbE5OZQ6dRHECsX0tEPEZQ</td>\n",
       "      <td>2021-01-01</td>\n",
       "    </tr>\n",
       "    <tr>\n",
       "      <th>1</th>\n",
       "      <td>RAIN(비) - 나로 바꾸자 Switch to me (duet with JYP) MV</td>\n",
       "      <td>RAIN's Official Channel</td>\n",
       "      <td>10</td>\n",
       "      <td>2600864</td>\n",
       "      <td>0</td>\n",
       "      <td>0</td>\n",
       "      <td>20129</td>\n",
       "      <td>UCxXgIeE5hxWxHG6dz9Scg2w</td>\n",
       "      <td>2021-01-01</td>\n",
       "    </tr>\n",
       "    <tr>\n",
       "      <th>2</th>\n",
       "      <td>2020년 제야의 종 온라인 타종행사 | 보신각 현장 행사는 진행하지 않습니다.</td>\n",
       "      <td>서울시 · Seoul</td>\n",
       "      <td>29</td>\n",
       "      <td>347049</td>\n",
       "      <td>3564</td>\n",
       "      <td>120</td>\n",
       "      <td>178</td>\n",
       "      <td>UCZUPZW5idAxYp-Asj__lVAA</td>\n",
       "      <td>2021-01-01</td>\n",
       "    </tr>\n",
       "    <tr>\n",
       "      <th>3</th>\n",
       "      <td>고기남자의 칠면조 파티</td>\n",
       "      <td>고기남자 MeatMan</td>\n",
       "      <td>26</td>\n",
       "      <td>528458</td>\n",
       "      <td>15372</td>\n",
       "      <td>280</td>\n",
       "      <td>3470</td>\n",
       "      <td>UCT3CumbFIJiW33uq0UI3zlg</td>\n",
       "      <td>2021-01-01</td>\n",
       "    </tr>\n",
       "    <tr>\n",
       "      <th>4</th>\n",
       "      <td>골목 3mc를 분노하게 만든 마음고생이 심했을 공릉 백반집 사장님의 푸념?! [예능...</td>\n",
       "      <td>스브스밥집</td>\n",
       "      <td>24</td>\n",
       "      <td>494904</td>\n",
       "      <td>3918</td>\n",
       "      <td>111</td>\n",
       "      <td>3142</td>\n",
       "      <td>UCdWgRSfttvDucq4ApcCg5Mw</td>\n",
       "      <td>2021-01-01</td>\n",
       "    </tr>\n",
       "  </tbody>\n",
       "</table>\n",
       "</div>"
      ],
      "text/plain": [
       "                                               title             channelTitle  \\\n",
       "0                                          [신병] 물자창고                      장삐쭈   \n",
       "1   RAIN(비) - 나로 바꾸자 Switch to me (duet with JYP) MV  RAIN's Official Channel   \n",
       "2       2020년 제야의 종 온라인 타종행사 | 보신각 현장 행사는 진행하지 않습니다.              서울시 · Seoul   \n",
       "3                                       고기남자의 칠면조 파티             고기남자 MeatMan   \n",
       "4  골목 3mc를 분노하게 만든 마음고생이 심했을 공릉 백반집 사장님의 푸념?! [예능...                    스브스밥집   \n",
       "\n",
       "   categoryId  view_count  likes  dislikes  comment_count  \\\n",
       "0          23     1893473  38249       730           8595   \n",
       "1          10     2600864      0         0          20129   \n",
       "2          29      347049   3564       120            178   \n",
       "3          26      528458  15372       280           3470   \n",
       "4          24      494904   3918       111           3142   \n",
       "\n",
       "                  channelId trending_date2  \n",
       "0  UChbE5OZQ6dRHECsX0tEPEZQ     2021-01-01  \n",
       "1  UCxXgIeE5hxWxHG6dz9Scg2w     2021-01-01  \n",
       "2  UCZUPZW5idAxYp-Asj__lVAA     2021-01-01  \n",
       "3  UCT3CumbFIJiW33uq0UI3zlg     2021-01-01  \n",
       "4  UCdWgRSfttvDucq4ApcCg5Mw     2021-01-01  "
      ]
     },
     "execution_count": 1,
     "metadata": {},
     "output_type": "execute_result"
    }
   ],
   "source": [
    "import pandas as pd\n",
    "df = pd.read_csv(\"https://raw.githubusercontent.com/Datamanim/datarepo/main/youtube/youtube.csv\",index_col=0)\n",
    "df.head()"
   ]
  },
  {
   "cell_type": "code",
   "execution_count": 148,
   "id": "6c43382b",
   "metadata": {},
   "outputs": [],
   "source": [
    "######  ######  ######  ######  ######  ######  ######  ######  "
   ]
  },
  {
   "cell_type": "markdown",
   "id": "75acf745",
   "metadata": {},
   "source": [
    "### 인기동영상 제작횟수가 많은 채널 상위 10개명을 출력하라 (날짜기준, 중복포함)"
   ]
  },
  {
   "cell_type": "code",
   "execution_count": 2,
   "id": "c4fe89a5",
   "metadata": {},
   "outputs": [
    {
     "data": {
      "text/plain": [
       "Index(['title', 'channelTitle', 'categoryId', 'view_count', 'likes',\n",
       "       'dislikes', 'comment_count', 'channelId', 'trending_date2'],\n",
       "      dtype='object')"
      ]
     },
     "execution_count": 2,
     "metadata": {},
     "output_type": "execute_result"
    }
   ],
   "source": [
    "df.columns"
   ]
  },
  {
   "cell_type": "code",
   "execution_count": 9,
   "id": "d39317d1",
   "metadata": {},
   "outputs": [
    {
     "name": "stdout",
     "output_type": "stream",
     "text": [
      "['짤툰', '파뿌리', 'SPOTV', '런닝맨 - 스브스 공식 채널', '엠뚜루마뚜루 : MBC 공식 종합 채널', '장삐쭈', 'BANGTANTV', '채널 십오야', '이과장', '총몇명']\n"
     ]
    }
   ],
   "source": [
    "# print(df.channelTitle.value_counts().head(10).index)\n",
    "print(list(df.channelTitle.value_counts().head(10).index))"
   ]
  },
  {
   "cell_type": "markdown",
   "id": "d0d14eb2",
   "metadata": {},
   "source": [
    "답: ['장삐쭈', '총몇명', '파뿌리', '짤툰', '런닝맨 - 스브스 공식 채널', '엠뚜루마뚜루 : MBC 공식 종합 채널', 'SPOTV', '채널 십오야', '이과장', 'BANGTANTV']\n",
    "> answer =list(df.loc[df.channelId.isin(df.channelId.value_counts().head(10).index)].channelTitle.unique());\n",
    "print(answer)\n",
    "\n",
    "뭐가 더 긴데, 답은 같다. list 붙여주면 정답 형식에 더 알맞다"
   ]
  },
  {
   "cell_type": "code",
   "execution_count": 148,
   "id": "67cbba0d",
   "metadata": {},
   "outputs": [],
   "source": [
    "######  ######  ######  ######  ######  ######  ######  ######  "
   ]
  },
  {
   "cell_type": "markdown",
   "id": "dcec4e3e",
   "metadata": {},
   "source": [
    "### 논란으로 인기동영상이 된 케이스를 확인하고 싶다. dislikes수가 like 수보다 높은 동영상을 제작한 채널을 모두 출력하라"
   ]
  },
  {
   "cell_type": "code",
   "execution_count": 18,
   "id": "ae037dbf",
   "metadata": {},
   "outputs": [
    {
     "name": "stdout",
     "output_type": "stream",
     "text": [
      "['핫도그TV', 'ASMR 애정TV', '하얀트리HayanTree', '양팡 YangPang', '철구형 (CHULTUBE)', '왜냐맨하우스', '(MUTUBE)와꾸대장봉준', '오메킴TV', '육지담', 'MapleStory_KR', 'ROAD FIGHTING CHAMPIONSHIP', '사나이 김기훈', '나혼자산다 STUDIO', 'Gen.G esports']\n"
     ]
    }
   ],
   "source": [
    "print(list(df.loc[df['dislikes'] > df['likes'], 'channelTitle'].unique()))"
   ]
  },
  {
   "cell_type": "markdown",
   "id": "0f0c74a4",
   "metadata": {},
   "source": [
    "답: ['핫도그TV', 'ASMR 애정TV', '하얀트리HayanTree', '양팡 YangPang', '철구형 (CHULTUBE)', '왜냐맨하우스', '(MUTUBE)와꾸대장봉준', '오메킴TV', '육지담', 'MapleStory_KR', 'ROAD FIGHTING CHAMPIONSHIP', '사나이 김기훈', '나혼자산다 STUDIO', 'Gen.G esports']\n",
    "> answer =list(df.loc[df.likes < df.dislikes].channelTitle.unique()) <p>\n",
    "print(answer)"
   ]
  },
  {
   "cell_type": "code",
   "execution_count": 148,
   "id": "6553a26e",
   "metadata": {},
   "outputs": [],
   "source": [
    "######  ######  ######  ######  ######  ######  ######  ######  "
   ]
  },
  {
   "cell_type": "markdown",
   "id": "9a504eb5",
   "metadata": {},
   "source": [
    "### 채널명을 바꾼 케이스가 있는지 확인하고 싶다. channelId의 경우 고유값이므로 이를 통해 채널명을 한번이라도 바꾼 채널의 개수를 구하여라"
   ]
  },
  {
   "cell_type": "code",
   "execution_count": 46,
   "id": "cda61788",
   "metadata": {},
   "outputs": [
    {
     "data": {
      "text/plain": [
       "array(['세계는지금'], dtype=object)"
      ]
     },
     "execution_count": 46,
     "metadata": {},
     "output_type": "execute_result"
    }
   ],
   "source": [
    "# print(df.columns)\n",
    "# df.groupby(['channelId','channelTitle'])['channelTitle'].count()\n",
    "# print(len(df['channelId'].unique())) # 1770 개. 만약 시험이었으면 1770개 for문 돌렸을듯\n",
    "df.loc[df['channelId']=='UC-0C8yVGJy-cS4FGlYKelWw','channelTitle'].unique()\n",
    "\n",
    "## channelId 당 딸린 channelTitle 의 고윳값이 여러 개인 걸 찾고 싶다.\n",
    "# df[['channelId','channelTitle']].value_counts()"
   ]
  },
  {
   "cell_type": "markdown",
   "id": "4429e976",
   "metadata": {},
   "source": [
    "모르겠다. 정답 참조:\n",
    "#### 중복제거 : df[['컬럼1', '컬럼2']].drop_duplicates()"
   ]
  },
  {
   "cell_type": "code",
   "execution_count": 45,
   "id": "2859695c",
   "metadata": {},
   "outputs": [
    {
     "name": "stdout",
     "output_type": "stream",
     "text": [
      "71\n"
     ]
    }
   ],
   "source": [
    "change = df[['channelTitle','channelId']].drop_duplicates().channelId.value_counts()\n",
    "target = change[change>1]\n",
    "print(len(target))"
   ]
  },
  {
   "cell_type": "code",
   "execution_count": 90,
   "id": "f0989951",
   "metadata": {},
   "outputs": [
    {
     "name": "stdout",
     "output_type": "stream",
     "text": [
      "71\n"
     ]
    }
   ],
   "source": [
    "# df[['channelTitle','channelId']]\n",
    "# df[['channelTitle','channelId']].drop_duplicates() # 인기 동영상에 여럿 올라갔어도 1개씩만 체크\n",
    "changeNameList= df[['channelTitle','channelId']].drop_duplicates()['channelId'].value_counts() > 1\n",
    "# 1개씩만 남겼는데도 channelId 가 여럿(1개 초과) 보이는 것 == 채널명 바꾼 것\n",
    "print(changeNameList.sum(0))\n",
    "\n",
    "## 무슨 채널일까.\n",
    "# df.loc[df['channelId'] in changeNameList]\n",
    "# changeNameList 에 있는건 df['channelId'].count() 와 달라서 바로 넣을 수 없다.\n",
    "each1= df[['channelTitle','channelId']].drop_duplicates()['channelId'].value_counts()\n",
    "changeChannelList= each1[changeNameList].index# 확인 .count()\n",
    "changeChannelDFs= df[df['channelId'].map(lambda x: x in changeChannelList)]\n",
    "# 뭔가 이상하다. 심하게 명령어 중복인데.\n",
    "resDF= changeChannelDFs[['channelTitle','channelId']].drop_duplicates().sort_values('channelId') #확인\n",
    "resDF.to_csv('data/channelNameChanges.csv', index=False, encoding='utf-8-sig')"
   ]
  },
  {
   "cell_type": "code",
   "execution_count": null,
   "id": "04233bbb",
   "metadata": {},
   "outputs": [],
   "source": []
  },
  {
   "cell_type": "markdown",
   "id": "a2814233",
   "metadata": {},
   "source": [
    "'22.6.22 16:52 피곤../ 19:14 운동하고 저녁먹고 옴"
   ]
  },
  {
   "cell_type": "code",
   "execution_count": 148,
   "id": "b3962399",
   "metadata": {},
   "outputs": [],
   "source": [
    "######  ######  ######  ######  ######  ######  ######  ######  "
   ]
  },
  {
   "cell_type": "markdown",
   "id": "6705888d",
   "metadata": {},
   "source": [
    "### 일요일에 인기있었던 영상들중 가장많은 영상 종류(categoryId)는 무엇인가?"
   ]
  },
  {
   "cell_type": "code",
   "execution_count": 107,
   "id": "f10b255d",
   "metadata": {},
   "outputs": [
    {
     "data": {
      "text/plain": [
       "24"
      ]
     },
     "execution_count": 107,
     "metadata": {},
     "output_type": "execute_result"
    }
   ],
   "source": [
    "df.loc[((pd.to_datetime(df['trending_date2'])).dt.dayofweek==6), 'categoryId'].value_counts().iloc[[0]].index[0]"
   ]
  },
  {
   "cell_type": "markdown",
   "id": "4ded8699",
   "metadata": {},
   "source": [
    "답\n",
    "- dt.dayofweek==6 (일요일) 을 외우지 않아도 된다\n",
    "> dt.day_name() == 'Sunday' 를 기억한다면\n",
    "- index 여럿 있을 때 첫 번째 것만 뽑고 싶다면 .iloc[[0]].index[0] 하지 않아도 된다\n",
    "> index[0] 만 해도 충분하다"
   ]
  },
  {
   "cell_type": "code",
   "execution_count": 108,
   "id": "cc53f236",
   "metadata": {},
   "outputs": [
    {
     "name": "stdout",
     "output_type": "stream",
     "text": [
      "24\n"
     ]
    }
   ],
   "source": [
    "df['trending_date2'] = pd.to_datetime(df['trending_date2'])\n",
    "answer =df.loc[df['trending_date2'].dt.day_name() =='Sunday'].categoryId.value_counts().index[0]\n",
    "print(answer)"
   ]
  },
  {
   "cell_type": "code",
   "execution_count": 149,
   "id": "ae8afe8a",
   "metadata": {},
   "outputs": [],
   "source": [
    "######  ######  ######  ######  ######  ######  ######  ######  "
   ]
  },
  {
   "cell_type": "markdown",
   "id": "cc5f3441",
   "metadata": {},
   "source": [
    "### 각 요일별 인기 영상들의 categoryId는 각각 몇 개 씩인지 하나의 데이터 프레임으로 표현하라"
   ]
  },
  {
   "cell_type": "code",
   "execution_count": 115,
   "id": "549da367",
   "metadata": {},
   "outputs": [
    {
     "data": {
      "text/html": [
       "<div>\n",
       "<style scoped>\n",
       "    .dataframe tbody tr th:only-of-type {\n",
       "        vertical-align: middle;\n",
       "    }\n",
       "\n",
       "    .dataframe tbody tr th {\n",
       "        vertical-align: top;\n",
       "    }\n",
       "\n",
       "    .dataframe thead th {\n",
       "        text-align: right;\n",
       "    }\n",
       "</style>\n",
       "<table border=\"1\" class=\"dataframe\">\n",
       "  <thead>\n",
       "    <tr style=\"text-align: right;\">\n",
       "      <th></th>\n",
       "      <th>categoryId</th>\n",
       "    </tr>\n",
       "    <tr>\n",
       "      <th>dayName</th>\n",
       "      <th></th>\n",
       "    </tr>\n",
       "  </thead>\n",
       "  <tbody>\n",
       "    <tr>\n",
       "      <th>Friday</th>\n",
       "      <td>8400</td>\n",
       "    </tr>\n",
       "    <tr>\n",
       "      <th>Monday</th>\n",
       "      <td>8799</td>\n",
       "    </tr>\n",
       "    <tr>\n",
       "      <th>Saturday</th>\n",
       "      <td>8400</td>\n",
       "    </tr>\n",
       "    <tr>\n",
       "      <th>Sunday</th>\n",
       "      <td>8600</td>\n",
       "    </tr>\n",
       "    <tr>\n",
       "      <th>Thursday</th>\n",
       "      <td>8600</td>\n",
       "    </tr>\n",
       "    <tr>\n",
       "      <th>Tuesday</th>\n",
       "      <td>8800</td>\n",
       "    </tr>\n",
       "    <tr>\n",
       "      <th>Wednesday</th>\n",
       "      <td>8800</td>\n",
       "    </tr>\n",
       "  </tbody>\n",
       "</table>\n",
       "</div>"
      ],
      "text/plain": [
       "           categoryId\n",
       "dayName              \n",
       "Friday           8400\n",
       "Monday           8799\n",
       "Saturday         8400\n",
       "Sunday           8600\n",
       "Thursday         8600\n",
       "Tuesday          8800\n",
       "Wednesday        8800"
      ]
     },
     "metadata": {},
     "output_type": "display_data"
    }
   ],
   "source": [
    "df['dayName']= (pd.to_datetime(df['trending_date2'])).dt.day_name()\n",
    "# df.columns\n",
    "display(pd.DataFrame(df.groupby(['dayName'])['categoryId'].count()))"
   ]
  },
  {
   "cell_type": "markdown",
   "id": "0e6a7ccf",
   "metadata": {},
   "source": [
    "답:\n",
    "- 문제를 잘못 이해했다. \"요일의\" \"인기 영상들의\" \"categoryId는 각각\" 이라서 3차원을 내었어야 했는데\n",
    "- groupby( ,as_index=False) 옵션을 주면 만들다 만 것처럼 생긴 index 대신 값이 채워져있는 DF 를 얻을 수 있다\n",
    "> df.groupby([df['trending_date2'].dt.day_name(), 'categoryId'], as_index=False).size()"
   ]
  },
  {
   "cell_type": "code",
   "execution_count": 124,
   "id": "dedc17d8",
   "metadata": {},
   "outputs": [
    {
     "data": {
      "text/html": [
       "<div>\n",
       "<style scoped>\n",
       "    .dataframe tbody tr th:only-of-type {\n",
       "        vertical-align: middle;\n",
       "    }\n",
       "\n",
       "    .dataframe tbody tr th {\n",
       "        vertical-align: top;\n",
       "    }\n",
       "\n",
       "    .dataframe thead th {\n",
       "        text-align: right;\n",
       "    }\n",
       "</style>\n",
       "<table border=\"1\" class=\"dataframe\">\n",
       "  <thead>\n",
       "    <tr style=\"text-align: right;\">\n",
       "      <th></th>\n",
       "      <th>trending_date2</th>\n",
       "      <th>categoryId</th>\n",
       "      <th>size</th>\n",
       "    </tr>\n",
       "  </thead>\n",
       "  <tbody>\n",
       "    <tr>\n",
       "      <th>0</th>\n",
       "      <td>Friday</td>\n",
       "      <td>1</td>\n",
       "      <td>243</td>\n",
       "    </tr>\n",
       "    <tr>\n",
       "      <th>1</th>\n",
       "      <td>Friday</td>\n",
       "      <td>2</td>\n",
       "      <td>120</td>\n",
       "    </tr>\n",
       "    <tr>\n",
       "      <th>2</th>\n",
       "      <td>Friday</td>\n",
       "      <td>10</td>\n",
       "      <td>833</td>\n",
       "    </tr>\n",
       "    <tr>\n",
       "      <th>3</th>\n",
       "      <td>Friday</td>\n",
       "      <td>15</td>\n",
       "      <td>187</td>\n",
       "    </tr>\n",
       "    <tr>\n",
       "      <th>4</th>\n",
       "      <td>Friday</td>\n",
       "      <td>17</td>\n",
       "      <td>633</td>\n",
       "    </tr>\n",
       "    <tr>\n",
       "      <th>...</th>\n",
       "      <td>...</td>\n",
       "      <td>...</td>\n",
       "      <td>...</td>\n",
       "    </tr>\n",
       "    <tr>\n",
       "      <th>100</th>\n",
       "      <td>Wednesday</td>\n",
       "      <td>25</td>\n",
       "      <td>468</td>\n",
       "    </tr>\n",
       "    <tr>\n",
       "      <th>101</th>\n",
       "      <td>Wednesday</td>\n",
       "      <td>26</td>\n",
       "      <td>385</td>\n",
       "    </tr>\n",
       "    <tr>\n",
       "      <th>102</th>\n",
       "      <td>Wednesday</td>\n",
       "      <td>27</td>\n",
       "      <td>212</td>\n",
       "    </tr>\n",
       "    <tr>\n",
       "      <th>103</th>\n",
       "      <td>Wednesday</td>\n",
       "      <td>28</td>\n",
       "      <td>165</td>\n",
       "    </tr>\n",
       "    <tr>\n",
       "      <th>104</th>\n",
       "      <td>Wednesday</td>\n",
       "      <td>29</td>\n",
       "      <td>12</td>\n",
       "    </tr>\n",
       "  </tbody>\n",
       "</table>\n",
       "<p>105 rows × 3 columns</p>\n",
       "</div>"
      ],
      "text/plain": [
       "    trending_date2  categoryId  size\n",
       "0           Friday           1   243\n",
       "1           Friday           2   120\n",
       "2           Friday          10   833\n",
       "3           Friday          15   187\n",
       "4           Friday          17   633\n",
       "..             ...         ...   ...\n",
       "100      Wednesday          25   468\n",
       "101      Wednesday          26   385\n",
       "102      Wednesday          27   212\n",
       "103      Wednesday          28   165\n",
       "104      Wednesday          29    12\n",
       "\n",
       "[105 rows x 3 columns]"
      ]
     },
     "metadata": {},
     "output_type": "display_data"
    }
   ],
   "source": [
    "# df['trending_date2'].dt.day_name() # 앞에서 이미 to_datetime 해서\n",
    "group= df.groupby([df['trending_date2'].dt.day_name(), 'categoryId'], as_index=False).size()\n",
    "display(group)"
   ]
  },
  {
   "cell_type": "markdown",
   "id": "f5c80ecd",
   "metadata": {},
   "source": [
    "파이썬에도 엑셀에서 보면서 만들던 피벗이 있다. \n",
    "- 컬럼3개로 이루어진 group\n",
    "- (원래 index 중 하나였던) categoryId를 index 삼고\n",
    "- (원래 index 중 하나였던) trendig_date2 라는 허물을 뒤집어쓴 요일을 column 삼아서\n",
    "- pivot 을 만든다\n",
    "> group.pivot(index='categoryId', columns='trending_date2')"
   ]
  },
  {
   "cell_type": "code",
   "execution_count": 116,
   "id": "9e952a0c",
   "metadata": {},
   "outputs": [
    {
     "data": {
      "text/html": [
       "<div>\n",
       "<style scoped>\n",
       "    .dataframe tbody tr th:only-of-type {\n",
       "        vertical-align: middle;\n",
       "    }\n",
       "\n",
       "    .dataframe tbody tr th {\n",
       "        vertical-align: top;\n",
       "    }\n",
       "\n",
       "    .dataframe thead tr th {\n",
       "        text-align: left;\n",
       "    }\n",
       "\n",
       "    .dataframe thead tr:last-of-type th {\n",
       "        text-align: right;\n",
       "    }\n",
       "</style>\n",
       "<table border=\"1\" class=\"dataframe\">\n",
       "  <thead>\n",
       "    <tr>\n",
       "      <th></th>\n",
       "      <th colspan=\"7\" halign=\"left\">size</th>\n",
       "    </tr>\n",
       "    <tr>\n",
       "      <th>trending_date2</th>\n",
       "      <th>Friday</th>\n",
       "      <th>Monday</th>\n",
       "      <th>Saturday</th>\n",
       "      <th>Sunday</th>\n",
       "      <th>Thursday</th>\n",
       "      <th>Tuesday</th>\n",
       "      <th>Wednesday</th>\n",
       "    </tr>\n",
       "    <tr>\n",
       "      <th>categoryId</th>\n",
       "      <th></th>\n",
       "      <th></th>\n",
       "      <th></th>\n",
       "      <th></th>\n",
       "      <th></th>\n",
       "      <th></th>\n",
       "      <th></th>\n",
       "    </tr>\n",
       "  </thead>\n",
       "  <tbody>\n",
       "    <tr>\n",
       "      <th>1</th>\n",
       "      <td>243</td>\n",
       "      <td>263</td>\n",
       "      <td>255</td>\n",
       "      <td>274</td>\n",
       "      <td>246</td>\n",
       "      <td>257</td>\n",
       "      <td>234</td>\n",
       "    </tr>\n",
       "    <tr>\n",
       "      <th>2</th>\n",
       "      <td>120</td>\n",
       "      <td>105</td>\n",
       "      <td>119</td>\n",
       "      <td>99</td>\n",
       "      <td>128</td>\n",
       "      <td>119</td>\n",
       "      <td>129</td>\n",
       "    </tr>\n",
       "    <tr>\n",
       "      <th>10</th>\n",
       "      <td>833</td>\n",
       "      <td>837</td>\n",
       "      <td>776</td>\n",
       "      <td>830</td>\n",
       "      <td>890</td>\n",
       "      <td>894</td>\n",
       "      <td>917</td>\n",
       "    </tr>\n",
       "    <tr>\n",
       "      <th>15</th>\n",
       "      <td>187</td>\n",
       "      <td>215</td>\n",
       "      <td>198</td>\n",
       "      <td>217</td>\n",
       "      <td>207</td>\n",
       "      <td>208</td>\n",
       "      <td>207</td>\n",
       "    </tr>\n",
       "    <tr>\n",
       "      <th>17</th>\n",
       "      <td>633</td>\n",
       "      <td>668</td>\n",
       "      <td>592</td>\n",
       "      <td>636</td>\n",
       "      <td>682</td>\n",
       "      <td>708</td>\n",
       "      <td>706</td>\n",
       "    </tr>\n",
       "    <tr>\n",
       "      <th>19</th>\n",
       "      <td>90</td>\n",
       "      <td>92</td>\n",
       "      <td>87</td>\n",
       "      <td>91</td>\n",
       "      <td>92</td>\n",
       "      <td>89</td>\n",
       "      <td>85</td>\n",
       "    </tr>\n",
       "    <tr>\n",
       "      <th>20</th>\n",
       "      <td>283</td>\n",
       "      <td>298</td>\n",
       "      <td>296</td>\n",
       "      <td>289</td>\n",
       "      <td>282</td>\n",
       "      <td>285</td>\n",
       "      <td>291</td>\n",
       "    </tr>\n",
       "    <tr>\n",
       "      <th>22</th>\n",
       "      <td>1288</td>\n",
       "      <td>1373</td>\n",
       "      <td>1289</td>\n",
       "      <td>1337</td>\n",
       "      <td>1341</td>\n",
       "      <td>1375</td>\n",
       "      <td>1333</td>\n",
       "    </tr>\n",
       "    <tr>\n",
       "      <th>23</th>\n",
       "      <td>568</td>\n",
       "      <td>594</td>\n",
       "      <td>570</td>\n",
       "      <td>556</td>\n",
       "      <td>560</td>\n",
       "      <td>569</td>\n",
       "      <td>566</td>\n",
       "    </tr>\n",
       "    <tr>\n",
       "      <th>24</th>\n",
       "      <td>2976</td>\n",
       "      <td>3148</td>\n",
       "      <td>3066</td>\n",
       "      <td>3096</td>\n",
       "      <td>2954</td>\n",
       "      <td>3084</td>\n",
       "      <td>3090</td>\n",
       "    </tr>\n",
       "    <tr>\n",
       "      <th>25</th>\n",
       "      <td>444</td>\n",
       "      <td>453</td>\n",
       "      <td>422</td>\n",
       "      <td>437</td>\n",
       "      <td>470</td>\n",
       "      <td>452</td>\n",
       "      <td>468</td>\n",
       "    </tr>\n",
       "    <tr>\n",
       "      <th>26</th>\n",
       "      <td>369</td>\n",
       "      <td>378</td>\n",
       "      <td>364</td>\n",
       "      <td>363</td>\n",
       "      <td>375</td>\n",
       "      <td>394</td>\n",
       "      <td>385</td>\n",
       "    </tr>\n",
       "    <tr>\n",
       "      <th>27</th>\n",
       "      <td>183</td>\n",
       "      <td>205</td>\n",
       "      <td>183</td>\n",
       "      <td>199</td>\n",
       "      <td>194</td>\n",
       "      <td>194</td>\n",
       "      <td>212</td>\n",
       "    </tr>\n",
       "    <tr>\n",
       "      <th>28</th>\n",
       "      <td>171</td>\n",
       "      <td>160</td>\n",
       "      <td>173</td>\n",
       "      <td>167</td>\n",
       "      <td>166</td>\n",
       "      <td>161</td>\n",
       "      <td>165</td>\n",
       "    </tr>\n",
       "    <tr>\n",
       "      <th>29</th>\n",
       "      <td>12</td>\n",
       "      <td>10</td>\n",
       "      <td>10</td>\n",
       "      <td>9</td>\n",
       "      <td>13</td>\n",
       "      <td>11</td>\n",
       "      <td>12</td>\n",
       "    </tr>\n",
       "  </tbody>\n",
       "</table>\n",
       "</div>"
      ],
      "text/plain": [
       "                 size                                                  \n",
       "trending_date2 Friday Monday Saturday Sunday Thursday Tuesday Wednesday\n",
       "categoryId                                                             \n",
       "1                 243    263      255    274      246     257       234\n",
       "2                 120    105      119     99      128     119       129\n",
       "10                833    837      776    830      890     894       917\n",
       "15                187    215      198    217      207     208       207\n",
       "17                633    668      592    636      682     708       706\n",
       "19                 90     92       87     91       92      89        85\n",
       "20                283    298      296    289      282     285       291\n",
       "22               1288   1373     1289   1337     1341    1375      1333\n",
       "23                568    594      570    556      560     569       566\n",
       "24               2976   3148     3066   3096     2954    3084      3090\n",
       "25                444    453      422    437      470     452       468\n",
       "26                369    378      364    363      375     394       385\n",
       "27                183    205      183    199      194     194       212\n",
       "28                171    160      173    167      166     161       165\n",
       "29                 12     10       10      9       13      11        12"
      ]
     },
     "metadata": {},
     "output_type": "display_data"
    }
   ],
   "source": [
    "group = df.groupby([df['trending_date2'].dt.day_name(),'categoryId'],as_index=False).size()\n",
    "answer= group.pivot(index='categoryId',columns='trending_date2')\n",
    "display(answer)"
   ]
  },
  {
   "cell_type": "markdown",
   "id": "4c5161b4",
   "metadata": {},
   "source": [
    "(다시) 각 요일별 인기 영상들의 categoryId는 각각 몇 개 씩인지 하나의 데이터 프레임으로 표현하라"
   ]
  },
  {
   "cell_type": "markdown",
   "id": "995518d8",
   "metadata": {},
   "source": [
    "[python count size difference](https://stackoverflow.com/a/33346694) \n",
    "- size 는 null 을 포함\n",
    "- 댓글: .size() 함수는 모든 열에 대해 .column()이 사용되는 동안 특정 열의 집계 값만 가져옵니다\n",
    "- .count() 는 모든 열의 집계를 가져오지만, 같은DF.groupby([]).집계() 환경에서는 어차피 같은 결과를 가져오기에 이 상황에서는 size()가 적절하다"
   ]
  },
  {
   "cell_type": "code",
   "execution_count": 147,
   "id": "aabdad45",
   "metadata": {},
   "outputs": [
    {
     "data": {
      "text/html": [
       "<div>\n",
       "<style scoped>\n",
       "    .dataframe tbody tr th:only-of-type {\n",
       "        vertical-align: middle;\n",
       "    }\n",
       "\n",
       "    .dataframe tbody tr th {\n",
       "        vertical-align: top;\n",
       "    }\n",
       "\n",
       "    .dataframe thead tr th {\n",
       "        text-align: left;\n",
       "    }\n",
       "\n",
       "    .dataframe thead tr:last-of-type th {\n",
       "        text-align: right;\n",
       "    }\n",
       "</style>\n",
       "<table border=\"1\" class=\"dataframe\">\n",
       "  <thead>\n",
       "    <tr>\n",
       "      <th></th>\n",
       "      <th colspan=\"7\" halign=\"left\">size</th>\n",
       "    </tr>\n",
       "    <tr>\n",
       "      <th>trending_date2</th>\n",
       "      <th>Friday</th>\n",
       "      <th>Monday</th>\n",
       "      <th>Saturday</th>\n",
       "      <th>Sunday</th>\n",
       "      <th>Thursday</th>\n",
       "      <th>Tuesday</th>\n",
       "      <th>Wednesday</th>\n",
       "    </tr>\n",
       "    <tr>\n",
       "      <th>categoryId</th>\n",
       "      <th></th>\n",
       "      <th></th>\n",
       "      <th></th>\n",
       "      <th></th>\n",
       "      <th></th>\n",
       "      <th></th>\n",
       "      <th></th>\n",
       "    </tr>\n",
       "  </thead>\n",
       "  <tbody>\n",
       "    <tr>\n",
       "      <th>1</th>\n",
       "      <td>243</td>\n",
       "      <td>263</td>\n",
       "      <td>255</td>\n",
       "      <td>274</td>\n",
       "      <td>246</td>\n",
       "      <td>257</td>\n",
       "      <td>234</td>\n",
       "    </tr>\n",
       "    <tr>\n",
       "      <th>2</th>\n",
       "      <td>120</td>\n",
       "      <td>105</td>\n",
       "      <td>119</td>\n",
       "      <td>99</td>\n",
       "      <td>128</td>\n",
       "      <td>119</td>\n",
       "      <td>129</td>\n",
       "    </tr>\n",
       "    <tr>\n",
       "      <th>10</th>\n",
       "      <td>833</td>\n",
       "      <td>837</td>\n",
       "      <td>776</td>\n",
       "      <td>830</td>\n",
       "      <td>890</td>\n",
       "      <td>894</td>\n",
       "      <td>917</td>\n",
       "    </tr>\n",
       "    <tr>\n",
       "      <th>15</th>\n",
       "      <td>187</td>\n",
       "      <td>215</td>\n",
       "      <td>198</td>\n",
       "      <td>217</td>\n",
       "      <td>207</td>\n",
       "      <td>208</td>\n",
       "      <td>207</td>\n",
       "    </tr>\n",
       "    <tr>\n",
       "      <th>17</th>\n",
       "      <td>633</td>\n",
       "      <td>668</td>\n",
       "      <td>592</td>\n",
       "      <td>636</td>\n",
       "      <td>682</td>\n",
       "      <td>708</td>\n",
       "      <td>706</td>\n",
       "    </tr>\n",
       "    <tr>\n",
       "      <th>19</th>\n",
       "      <td>90</td>\n",
       "      <td>92</td>\n",
       "      <td>87</td>\n",
       "      <td>91</td>\n",
       "      <td>92</td>\n",
       "      <td>89</td>\n",
       "      <td>85</td>\n",
       "    </tr>\n",
       "    <tr>\n",
       "      <th>20</th>\n",
       "      <td>283</td>\n",
       "      <td>298</td>\n",
       "      <td>296</td>\n",
       "      <td>289</td>\n",
       "      <td>282</td>\n",
       "      <td>285</td>\n",
       "      <td>291</td>\n",
       "    </tr>\n",
       "    <tr>\n",
       "      <th>22</th>\n",
       "      <td>1288</td>\n",
       "      <td>1373</td>\n",
       "      <td>1289</td>\n",
       "      <td>1337</td>\n",
       "      <td>1341</td>\n",
       "      <td>1375</td>\n",
       "      <td>1333</td>\n",
       "    </tr>\n",
       "    <tr>\n",
       "      <th>23</th>\n",
       "      <td>568</td>\n",
       "      <td>594</td>\n",
       "      <td>570</td>\n",
       "      <td>556</td>\n",
       "      <td>560</td>\n",
       "      <td>569</td>\n",
       "      <td>566</td>\n",
       "    </tr>\n",
       "    <tr>\n",
       "      <th>24</th>\n",
       "      <td>2976</td>\n",
       "      <td>3148</td>\n",
       "      <td>3066</td>\n",
       "      <td>3096</td>\n",
       "      <td>2954</td>\n",
       "      <td>3084</td>\n",
       "      <td>3090</td>\n",
       "    </tr>\n",
       "    <tr>\n",
       "      <th>25</th>\n",
       "      <td>444</td>\n",
       "      <td>453</td>\n",
       "      <td>422</td>\n",
       "      <td>437</td>\n",
       "      <td>470</td>\n",
       "      <td>452</td>\n",
       "      <td>468</td>\n",
       "    </tr>\n",
       "    <tr>\n",
       "      <th>26</th>\n",
       "      <td>369</td>\n",
       "      <td>378</td>\n",
       "      <td>364</td>\n",
       "      <td>363</td>\n",
       "      <td>375</td>\n",
       "      <td>394</td>\n",
       "      <td>385</td>\n",
       "    </tr>\n",
       "    <tr>\n",
       "      <th>27</th>\n",
       "      <td>183</td>\n",
       "      <td>205</td>\n",
       "      <td>183</td>\n",
       "      <td>199</td>\n",
       "      <td>194</td>\n",
       "      <td>194</td>\n",
       "      <td>212</td>\n",
       "    </tr>\n",
       "    <tr>\n",
       "      <th>28</th>\n",
       "      <td>171</td>\n",
       "      <td>160</td>\n",
       "      <td>173</td>\n",
       "      <td>167</td>\n",
       "      <td>166</td>\n",
       "      <td>161</td>\n",
       "      <td>165</td>\n",
       "    </tr>\n",
       "    <tr>\n",
       "      <th>29</th>\n",
       "      <td>12</td>\n",
       "      <td>10</td>\n",
       "      <td>10</td>\n",
       "      <td>9</td>\n",
       "      <td>13</td>\n",
       "      <td>11</td>\n",
       "      <td>12</td>\n",
       "    </tr>\n",
       "  </tbody>\n",
       "</table>\n",
       "</div>"
      ],
      "text/plain": [
       "                 size                                                  \n",
       "trending_date2 Friday Monday Saturday Sunday Thursday Tuesday Wednesday\n",
       "categoryId                                                             \n",
       "1                 243    263      255    274      246     257       234\n",
       "2                 120    105      119     99      128     119       129\n",
       "10                833    837      776    830      890     894       917\n",
       "15                187    215      198    217      207     208       207\n",
       "17                633    668      592    636      682     708       706\n",
       "19                 90     92       87     91       92      89        85\n",
       "20                283    298      296    289      282     285       291\n",
       "22               1288   1373     1289   1337     1341    1375      1333\n",
       "23                568    594      570    556      560     569       566\n",
       "24               2976   3148     3066   3096     2954    3084      3090\n",
       "25                444    453      422    437      470     452       468\n",
       "26                369    378      364    363      375     394       385\n",
       "27                183    205      183    199      194     194       212\n",
       "28                171    160      173    167      166     161       165\n",
       "29                 12     10       10      9       13      11        12"
      ]
     },
     "metadata": {},
     "output_type": "display_data"
    }
   ],
   "source": [
    "# print(df.columns)\n",
    "\n",
    "### Step1. 재료 데이터: 요일, categoryId, 개수(size) 를 포함한 DF 를 만든다\n",
    "## 각 요일별 > trending_date2 의 dt.day_name()\n",
    "## 재료1: 요일\n",
    "df['trending_date2']= pd.to_datetime(df['trending_date2'])\n",
    "df['trending_date2'].dt.day_name() \n",
    "## 재료2: categoryId\n",
    "'categoryId'\n",
    "\n",
    "## 대상: count() 말고 size() < 다른가?\n",
    "# 이상스레 여럿 나온다. 왜? display(df.groupby([df['trending_date2'].dt.day_name(), 'categoryId']).count())\n",
    "df.groupby([df['trending_date2'].dt.day_name(), 'categoryId']).size()\n",
    "\n",
    "# 1. groupby () 안은 전부 [] 대괄호로 둘려야 한다.\n",
    "# 2. count() 랑 size() 가 뭔차이인지는 몰라도 결과가 완전 딴판이다.\n",
    "# - count: groupby 로 준 기준에 대해 값이 컬럼 개수만큼 똑같은 게 여럿 나오고\n",
    "# - size: groupby 로 준 기준에 대해 값이 컬럼 한 줄만 나온다.\n",
    "# => 결과 하나씩 쳐보고 눈으로 봐도 count() 가 쓸모가 없고 size() 가 괜찮아 보인다.\n",
    "\n",
    "type(df.groupby([df['trending_date2'].dt.day_name(), 'categoryId']).size())\n",
    "# .groupby([]).size() 결과물은 Series. 이걸 DF 형태로 만들면서 빈칸을 채우려면, as_index=False\n",
    "ingredient= df.groupby([df['trending_date2'].dt.day_name(), 'categoryId'], as_index=False).size()\n",
    "# display(ingredient)\n",
    "\n",
    "### Step2. 가공: 요일 별, categoryId 별, 개수 를 표현한다\n",
    "# help(ingredient.pivot) # pivot(index=None, columns=None, values=None) # column 아니고 columns\n",
    "ingredient.pivot(index='trending_date2', columns='categoryId')\n",
    "# index-columns 뭐가 되든 상관없을 것 같긴 한데, 상수가 x축에 있으면 좀더 예쁘니까\n",
    "display(ingredient.pivot(index='categoryId', columns='trending_date2'))"
   ]
  },
  {
   "cell_type": "code",
   "execution_count": null,
   "id": "d993d4fb",
   "metadata": {},
   "outputs": [],
   "source": []
  },
  {
   "cell_type": "code",
   "execution_count": 148,
   "id": "bc180edb",
   "metadata": {},
   "outputs": [],
   "source": [
    "######  ######  ######  ######  ######  ######  ######  ######  "
   ]
  },
  {
   "cell_type": "markdown",
   "id": "c846e12b",
   "metadata": {},
   "source": [
    "# 댓글의 수로 (comment_count) 영상 반응에 대한 판단을 할 수 있다. viewcount대비 댓글수가 가장 높은 영상을 확인하라 (view_count값이 0인 경우는 제외한다)"
   ]
  },
  {
   "cell_type": "code",
   "execution_count": 163,
   "id": "cfce6214",
   "metadata": {},
   "outputs": [
    {
     "data": {
      "text/html": [
       "<div>\n",
       "<style scoped>\n",
       "    .dataframe tbody tr th:only-of-type {\n",
       "        vertical-align: middle;\n",
       "    }\n",
       "\n",
       "    .dataframe tbody tr th {\n",
       "        vertical-align: top;\n",
       "    }\n",
       "\n",
       "    .dataframe thead th {\n",
       "        text-align: right;\n",
       "    }\n",
       "</style>\n",
       "<table border=\"1\" class=\"dataframe\">\n",
       "  <thead>\n",
       "    <tr style=\"text-align: right;\">\n",
       "      <th></th>\n",
       "      <th>title</th>\n",
       "      <th>channelTitle</th>\n",
       "      <th>categoryId</th>\n",
       "      <th>view_count</th>\n",
       "      <th>likes</th>\n",
       "      <th>dislikes</th>\n",
       "      <th>comment_count</th>\n",
       "      <th>channelId</th>\n",
       "      <th>trending_date2</th>\n",
       "      <th>dayName</th>\n",
       "    </tr>\n",
       "  </thead>\n",
       "  <tbody>\n",
       "    <tr>\n",
       "      <th>50830</th>\n",
       "      <td>60분 동안 댓글이 달리지 않으면, 영상이 삭제됩니다. (챌린지)</td>\n",
       "      <td>팩토리</td>\n",
       "      <td>24</td>\n",
       "      <td>1214527</td>\n",
       "      <td>38246</td>\n",
       "      <td>528</td>\n",
       "      <td>196166</td>\n",
       "      <td>UCs8R3nVeg0E100H6C8qozgw</td>\n",
       "      <td>2021-09-02</td>\n",
       "      <td>Thursday</td>\n",
       "    </tr>\n",
       "  </tbody>\n",
       "</table>\n",
       "</div>"
      ],
      "text/plain": [
       "                                      title channelTitle  categoryId  \\\n",
       "50830  60분 동안 댓글이 달리지 않으면, 영상이 삭제됩니다. (챌린지)          팩토리          24   \n",
       "\n",
       "       view_count  likes  dislikes  comment_count                 channelId  \\\n",
       "50830     1214527  38246       528         196166  UCs8R3nVeg0E100H6C8qozgw   \n",
       "\n",
       "      trending_date2   dayName  \n",
       "50830     2021-09-02  Thursday  "
      ]
     },
     "metadata": {},
     "output_type": "display_data"
    }
   ],
   "source": [
    "# df.columns\n",
    "# comment_count / view_count 값이 가장 높은 것을 찾고, 소수점 4자리 밑으로 적당히 절삭해서 비교 기준값으로 삼았다.\n",
    "nonZeroDF= df[df['view_count']!=0]\n",
    "maxRate= round(max(nonZeroDF['comment_count'] / nonZeroDF['view_count']), 4)\n",
    "# print(maxRate)\n",
    "display(nonZeroDF[((nonZeroDF['comment_count'] / nonZeroDF['view_count'])>maxRate)] )"
   ]
  },
  {
   "cell_type": "markdown",
   "id": "db878f98",
   "metadata": {},
   "source": [
    "답\n",
    "- 영상 줄을 뽑는 게 아니라 영상 이름을 뽑는 거였네"
   ]
  },
  {
   "cell_type": "code",
   "execution_count": 164,
   "id": "cdcc29d1",
   "metadata": {},
   "outputs": [
    {
     "name": "stdout",
     "output_type": "stream",
     "text": [
      "60분 동안 댓글이 달리지 않으면, 영상이 삭제됩니다. (챌린지)\n"
     ]
    }
   ],
   "source": [
    "target2= df.loc[df.view_count!=0]\n",
    "t = target2.copy()\n",
    "t['ratio'] = (target2['comment_count']/target2['view_count']).dropna()\n",
    "result = t.sort_values(by='ratio', ascending=False).iloc[0].title\n",
    "print(result)"
   ]
  },
  {
   "cell_type": "code",
   "execution_count": null,
   "id": "b7faa0eb",
   "metadata": {},
   "outputs": [],
   "source": []
  }
 ],
 "metadata": {
  "kernelspec": {
   "display_name": "Python 3 (ipykernel)",
   "language": "python",
   "name": "python3"
  },
  "language_info": {
   "codemirror_mode": {
    "name": "ipython",
    "version": 3
   },
   "file_extension": ".py",
   "mimetype": "text/x-python",
   "name": "python",
   "nbconvert_exporter": "python",
   "pygments_lexer": "ipython3",
   "version": "3.9.7"
  }
 },
 "nbformat": 4,
 "nbformat_minor": 5
}
