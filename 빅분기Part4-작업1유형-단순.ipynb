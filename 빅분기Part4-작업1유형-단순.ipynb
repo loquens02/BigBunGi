{
 "cells": [
  {
   "cell_type": "markdown",
   "id": "a7358713",
   "metadata": {},
   "source": [
    "# 빅분기Part4-작업1유형-단순한 데이터 분석\n",
    "p.315~ / 되도록 문제보고 바로 풀어보자"
   ]
  },
  {
   "cell_type": "markdown",
   "id": "1fec56fc",
   "metadata": {},
   "source": [
    "22.6.17.금 / ~p.321 권장"
   ]
  },
  {
   "cell_type": "markdown",
   "id": "ed6cd71d",
   "metadata": {},
   "source": [
    "22.6.18.토 / ~p.321 ~p.345 권장"
   ]
  },
  {
   "cell_type": "markdown",
   "id": "6bcacccd",
   "metadata": {},
   "source": [
    "### 1.1 Top 10 구하기\n",
    "boston. MEDV. 작은값부터 오름차순. 10개 행"
   ]
  },
  {
   "cell_type": "markdown",
   "id": "10b39c43",
   "metadata": {},
   "source": [
    "주의: 따로 말은 없었지만 MEDV 컬럼만 출력해야 한다."
   ]
  },
  {
   "cell_type": "code",
   "execution_count": 5,
   "id": "627b2fe1",
   "metadata": {},
   "outputs": [
    {
     "data": {
      "text/plain": [
       "398    5.0\n",
       "405    5.0\n",
       "400    5.6\n",
       "399    6.3\n",
       "414    7.0\n",
       "489    7.0\n",
       "401    7.2\n",
       "385    7.2\n",
       "415    7.2\n",
       "387    7.4\n",
       "Name: MEDV, dtype: float64"
      ]
     },
     "execution_count": 5,
     "metadata": {},
     "output_type": "execute_result"
    }
   ],
   "source": [
    "import pandas as pd\n",
    "data= pd.read_csv('bigData/boston.csv')\n",
    "# print(data.info, data.head())\n",
    "# help(data) # ascending. df.sort_values(columns, ascending=False).head(n)\n",
    "data.sort_values('MEDV', ascending=True).head(10)['MEDV']"
   ]
  },
  {
   "cell_type": "markdown",
   "id": "15e328fa",
   "metadata": {},
   "source": [
    "### 1.2 결측치 확인\n",
    "boston. RM 컬럼. 결측치. |(평균값 대치 한 후 표준편차 값) - (결측치 삭제 후 표준편차 값)|"
   ]
  },
  {
   "cell_type": "markdown",
   "id": "9448f7b3",
   "metadata": {},
   "source": [
    "1. std 계산은 결측치 빼고 계산한다\n",
    "2. 양수 조건이 있으면 안전하게 abs() 는 넣어주자.\n",
    "3. abs() 는 별도 모듈 없이도 기본으로 계산가능!\n",
    "4. std() 도 describe() 없이 컬럼에다 직접 계산할 수 있다!\n",
    "4. 마지막에 변수에 넣어 출력하면 안 된다. 꼭 print 안에 계산식을 넣어주자"
   ]
  },
  {
   "cell_type": "code",
   "execution_count": 19,
   "id": "067b477b",
   "metadata": {},
   "outputs": [
    {
     "name": "stdout",
     "output_type": "stream",
     "text": [
      "0.010595546094104624\n"
     ]
    }
   ],
   "source": [
    "import pandas as pd\n",
    "data= pd.read_csv('bigData/boston.csv')\n",
    "# print(data.info())\n",
    "# print(data.describe().loc['std','RM']) # <=> data.dropna().describe().loc['std','RM']\n",
    "# help(data.fillna)\n",
    "fillData= data.fillna(data.describe().loc['mean'])\n",
    "# print(fillData.info())\n",
    "# print(fillData.describe().loc['std','RM'])\n",
    "\n",
    "# import numpy as np\n",
    "# help(np) #abs. np.abs\n",
    "# help(data) #abs. 기본으로 abs() 가 들어있다!\n",
    "\n",
    "print(abs(data.describe().loc['std','RM'] - fillData.describe().loc['std','RM']))"
   ]
  },
  {
   "cell_type": "code",
   "execution_count": 23,
   "id": "79c37bda",
   "metadata": {},
   "outputs": [
    {
     "name": "stdout",
     "output_type": "stream",
     "text": [
      "0.010595546094104624\n"
     ]
    }
   ],
   "source": [
    "import pandas as pd\n",
    "data= pd.read_csv('bigData/boston.csv')\n",
    "# print(data.fillna(data['RM'].mean())['RM'].std())\n",
    "# print(data['RM'].std())\n",
    "print(abs(data.fillna(data['RM'].mean())['RM'].std()-data['RM'].std()))"
   ]
  },
  {
   "cell_type": "code",
   "execution_count": 24,
   "id": "723fb60d",
   "metadata": {},
   "outputs": [],
   "source": [
    "# # 원본  data에 영향을 주지 않는다. 깊은 복사가 기본제공!\n",
    "# data2= data.copy()\n",
    "# data2.fillna(0, inplace=True) \n",
    "# print(data.info()) \n",
    "# print(data2.info())"
   ]
  },
  {
   "cell_type": "markdown",
   "id": "85b1810d",
   "metadata": {},
   "source": [
    "### 1.3 이상값 확인하기\n",
    "p.325/ boston. ZN 컬럼 대상. ZN 평균값에서 표준편차의 1.5배보다 크거나 작은 ZN 값의 합계"
   ]
  },
  {
   "cell_type": "markdown",
   "id": "46e26118",
   "metadata": {},
   "source": [
    "ZN mean() +- 1.5*std()"
   ]
  },
  {
   "cell_type": "code",
   "execution_count": 32,
   "id": "a2b9c8a5",
   "metadata": {},
   "outputs": [
    {
     "name": "stdout",
     "output_type": "stream",
     "text": [
      "3462.5\n"
     ]
    }
   ],
   "source": [
    "import pandas as pd\n",
    "data= pd.read_csv('bigData/boston.csv')\n",
    "stdZN= data['ZN'].std()\n",
    "meanZN= data['ZN'].mean()\n",
    "# print(meanZN- 1.5*stdZN, meanZN+ 1.5*stdZN)\n",
    "print(data.loc[(data['ZN'] < meanZN- 1.5*stdZN) | (data['ZN'] > meanZN+ 1.5*stdZN), 'ZN'].sum())"
   ]
  },
  {
   "cell_type": "markdown",
   "id": "7d1d8f5c",
   "metadata": {},
   "source": [
    "### 1.4 사분위수 구하기\n",
    "p.331/ boston. CHAS와 RAD 컬럼을 제외하고 컬럼별 IQR 값 구하기. 출력구조는 2열. 1열은 보스턴 데이터 세트의 컬럼이름 표시"
   ]
  },
  {
   "cell_type": "markdown",
   "id": "9ad970e5",
   "metadata": {},
   "source": [
    "주의\n",
    "1. columns에 set 쓰지 말자. 순서 바뀌어서 오답처리될 수도 있다.\n",
    "2. '출력구조 2열'은 Series 안 된다. 책 p.335 이 틀렸다"
   ]
  },
  {
   "cell_type": "code",
   "execution_count": 93,
   "id": "67f47bba",
   "metadata": {},
   "outputs": [
    {
     "name": "stdout",
     "output_type": "stream",
     "text": [
      "(12, 2)\n",
      "          0           1\n",
      "0      CRIM    3.595038\n",
      "1        ZN   12.500000\n",
      "2     INDUS   12.910000\n",
      "3       NOX    0.175000\n",
      "4        RM    0.736000\n",
      "5       AGE   49.050000\n",
      "6       DIS    3.088250\n",
      "7       TAX  387.000000\n",
      "8   PTRATIO    2.800000\n",
      "9         B   20.847500\n",
      "10    LSTAT   10.005000\n",
      "11     MEDV    7.975000\n"
     ]
    }
   ],
   "source": [
    "# 합리적이면서 옳은 방법\n",
    "import pandas as pd\n",
    "data= pd.read_csv('bigData/boston.csv')\n",
    "data.drop(columns=['CHAS','RAD'], inplace=True)\n",
    "cols= data.columns\n",
    "iqr= data.describe().loc['75%'] - data.describe().loc['25%']\n",
    "print(pd.DataFrame(data=zip(cols, iqr)).shape)\n",
    "print(pd.DataFrame(data=zip(cols, iqr)))"
   ]
  },
  {
   "cell_type": "code",
   "execution_count": 88,
   "id": "58df443e",
   "metadata": {},
   "outputs": [],
   "source": [
    "# ## 어차피 Series 결과 가능하면 합리적으로\n",
    "# import pandas as pd\n",
    "# data= pd.read_csv('bigData/boston.csv')\n",
    "# # print(data.columns)\n",
    "# data.drop(columns=['CHAS','RAD'], inplace=True)\n",
    "# # print(data.columns)\n",
    "# # print((data.describe().loc['75%']-data.describe().loc['25%']).shape) # (12,)\n",
    "# print(data.describe().loc['75%']-data.describe().loc['25%'])"
   ]
  },
  {
   "cell_type": "code",
   "execution_count": 89,
   "id": "be88f1ce",
   "metadata": {},
   "outputs": [],
   "source": [
    "# ## 책이랑 똑같이 = 결과물 Series 네\n",
    "# import pandas as pd\n",
    "# data= pd.read_csv('bigData/boston.csv')\n",
    "# # print(data.columns)\n",
    "# data.drop(columns= ['CHAS', 'RAD'], inplace=True)\n",
    "# desc= data.describe()\n",
    "# # print(desc.iloc[[4,6]].shape)\n",
    "# # print(desc.iloc[[4,6]])\n",
    "# # print(desc.iloc[[4,6]].T.shape)\n",
    "# # print(desc.iloc[[4,6]].T)\n",
    "# descQ13= desc.iloc[[4,6]].T\n",
    "# print((descQ13['75%']-descQ13['25%']).shape)\n",
    "# print(descQ13['75%']-descQ13['25%'])"
   ]
  },
  {
   "cell_type": "markdown",
   "id": "26f01405",
   "metadata": {},
   "source": [
    "[python set to list](https://www.geeksforgeeks.org/python-convert-set-into-a-list/) list(set())"
   ]
  },
  {
   "cell_type": "code",
   "execution_count": 90,
   "id": "4e12f62a",
   "metadata": {},
   "outputs": [],
   "source": [
    "# ## 책 => (12,) 틀림\n",
    "# import pandas as pd\n",
    "# data= pd.read_csv('bigData/boston.csv')\n",
    "# # print(data.columns)\n",
    "# data.drop(columns= ['CHAS', 'RAD'], inplace=True)\n",
    "# # print(data.columns)\n",
    "# # print(data.describe().loc[['25%', '75%']])\n",
    "# descQ1Q3= data.describe().loc[['25%', '75%']].T\n",
    "# # print(descQ1Q3)\n",
    "# print((descQ1Q3['75%'] - descQ1Q3['25%']).shape)\n",
    "# print(descQ1Q3['75%'] - descQ1Q3['25%'])"
   ]
  },
  {
   "cell_type": "code",
   "execution_count": 95,
   "id": "49b927f6",
   "metadata": {},
   "outputs": [],
   "source": [
    "# ## 더 귀찮은 방법. 특히 set 하면 순서 바뀌어서 시험 때 답과 다르다고 오답처리할 수도 있다.\n",
    "# # help(boston)\n",
    "# import pandas as pd\n",
    "# boston= pd.read_csv('bigData/boston.csv')\n",
    "# # print(boston.columns)\n",
    "# # targetCols= list(set(boston.columns) - set(['CHAS', 'RAD']))\n",
    "# targetCols= set(boston.columns) - set(['CHAS', 'RAD'])\n",
    "# desc= boston[targetCols].describe()\n",
    "# # print(desc.loc['75%']- desc.loc['25%'])\n",
    "\n",
    "# # 이게 끝이 아니다! 출력구조 => shape 을 보자. 아닌가??\n",
    "# # help(boston) # len\n",
    "# # print(len(desc.loc['75%']- desc.loc['25%'])) # 12\n",
    "\n",
    "# print(pd.DataFrame(data=zip(targetCols, desc.loc['75%']- desc.loc['25%'])).shape)\n",
    "# print(pd.DataFrame(data=zip(targetCols, desc.loc['75%']- desc.loc['25%'])))"
   ]
  },
  {
   "cell_type": "code",
   "execution_count": null,
   "id": "8a5c3aa8",
   "metadata": {},
   "outputs": [],
   "source": []
  },
  {
   "cell_type": "markdown",
   "id": "e0bafd2b",
   "metadata": {},
   "source": [
    "### 1.5 순위 구하기\n",
    "p.336/ boston. MEDV 컬럼에서 30번째 큰 값을 1~29번째로 큰 값에 적용한다. 그리고 MEDV 컬럼의 평균값, 중위값, 최솟값, 최댓값 순으로 한 줄에 출력하기"
   ]
  },
  {
   "cell_type": "markdown",
   "id": "62bb3816",
   "metadata": {},
   "source": [
    "주의\n",
    "1. .sort_values() 로 index 가 뒤섞인 것은 [] 로 접근할 수 없고, .iloc[] 만 가능하다\n",
    "2. .iloc[0:29] 이면 .iloc[0] 부터 iloc[28] 까지라는 의미다. [이상 ~ 미만) 임에 유의!!"
   ]
  },
  {
   "cell_type": "code",
   "execution_count": 146,
   "id": "9acf1e9c",
   "metadata": {},
   "outputs": [
    {
     "name": "stdout",
     "output_type": "stream",
     "text": [
      "22.179644268774698 21.2 5.0 41.7\n"
     ]
    }
   ],
   "source": [
    "import pandas as pd\n",
    "data= pd.read_csv('bigData/boston.csv')\n",
    "# help(data['MEDV']) # ascending. reindex(Series에 없음) # print(len(data['MEDV'])) # help(data) # ascending\n",
    "# print(data['MEDV'].sort_values(ascending=False)) # 큰 수 => False\n",
    "# print(data['MEDV'].sort_values(ascending=False).head(30)) #.head()\n",
    "\n",
    "# big30= data['MEDV'].sort_values(ascending=False).head(30)\n",
    "MEDVdescending= data['MEDV'].sort_values(ascending=False)\n",
    "# print(big30.iloc[0], big30.iloc[29])\n",
    "\n",
    "# big30.iloc[0:28]= big30.iloc[29]\n",
    "#틀렸다! MEDVdescending.iloc[0:28]= MEDVdescending.iloc[29]\n",
    "# print(MEDVdescending.iloc[0:1]) # 1개\n",
    "# print(MEDVdescending.iloc[0:2]) # 2개\n",
    "# print(len(MEDVdescending.iloc[0:28])) #28개\n",
    "# print(MEDVdescending.iloc[0:32])\n",
    "MEDVdescending.iloc[0:29]= MEDVdescending.iloc[29]\n",
    "print(MEDVdescending.mean(), MEDVdescending.median(), MEDVdescending.min(), MEDVdescending.max())"
   ]
  },
  {
   "cell_type": "code",
   "execution_count": null,
   "id": "9e11a34d",
   "metadata": {},
   "outputs": [],
   "source": []
  }
 ],
 "metadata": {
  "kernelspec": {
   "display_name": "Python 3 (ipykernel)",
   "language": "python",
   "name": "python3"
  },
  "language_info": {
   "codemirror_mode": {
    "name": "ipython",
    "version": 3
   },
   "file_extension": ".py",
   "mimetype": "text/x-python",
   "name": "python",
   "nbconvert_exporter": "python",
   "pygments_lexer": "ipython3",
   "version": "3.9.7"
  }
 },
 "nbformat": 4,
 "nbformat_minor": 5
}
