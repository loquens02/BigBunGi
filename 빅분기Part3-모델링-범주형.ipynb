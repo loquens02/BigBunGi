{
 "cells": [
  {
   "cell_type": "markdown",
   "id": "a45d3c0a",
   "metadata": {},
   "source": [
    "# 빅분기Part3-모델링-범주형\n",
    "Classifier / ~297 ~321"
   ]
  },
  {
   "cell_type": "markdown",
   "id": "0e139194",
   "metadata": {},
   "source": [
    "## 전처리- 범주형"
   ]
  },
  {
   "cell_type": "code",
   "execution_count": 73,
   "id": "aaa496a9",
   "metadata": {
    "scrolled": true
   },
   "outputs": [
    {
     "name": "stdout",
     "output_type": "stream",
     "text": [
      "<class 'pandas.core.frame.DataFrame'>\n",
      "RangeIndex: 32 entries, 0 to 31\n",
      "Data columns (total 10 columns):\n",
      " #   Column    Non-Null Count  Dtype   \n",
      "---  ------    --------------  -----   \n",
      " 0   mpg       32 non-null     float64 \n",
      " 1   cyl       32 non-null     float64 \n",
      " 2   disp      32 non-null     float64 \n",
      " 3   hp        32 non-null     float64 \n",
      " 4   drat      32 non-null     float64 \n",
      " 5   vs        32 non-null     category\n",
      " 6   gear      32 non-null     int64   \n",
      " 7   carb      32 non-null     int64   \n",
      " 8   wt_class  32 non-null     category\n",
      " 9   qsec_4    32 non-null     float64 \n",
      "dtypes: category(2), float64(6), int64(2)\n",
      "memory usage: 2.4 KB\n",
      "None          mpg   cyl      disp        hp      drat vs  gear  carb wt_class  \\\n",
      "0   0.451064  0.20  0.257286  0.229023  0.689171  0     4     4        0   \n",
      "1   0.451064  0.20  0.257286  0.229023  0.689171  0     4     4        0   \n",
      "2   0.527660  0.00  0.106792  0.161895  0.658000  1     4     1        0   \n",
      "3   0.468085  0.20  0.540908  0.229023  0.177961  1     3     1        0   \n",
      "4   0.353191  0.40  0.836107  0.485686  0.221601  0     3     2        1   \n",
      "5   0.327660  0.20  0.445403  0.209279  0.000000  1     3     1        1   \n",
      "6   0.165957  0.40  0.836107  0.762093  0.259006  0     3     4        1   \n",
      "7   0.595745  0.36  0.218794  0.039487  0.558251  1     4     2        0   \n",
      "8   0.527660  0.00  0.201719  0.169793  0.701640  1     4     2        0   \n",
      "9   0.374468  0.20  0.279281  0.280355  0.701640  1     4     4        1   \n",
      "10  0.314894  0.20  0.279281  0.280355  0.701640  1     4     4        1   \n",
      "11  0.255319  0.40  0.592423  0.505429  0.171727  0     3     3        1   \n",
      "12  0.293617  0.40  0.592423  0.505429  0.171727  0     3     3        1   \n",
      "13  0.204255  0.40  0.592423  0.505429  0.171727  0     3     3        1   \n",
      "14  0.000000  1.00  1.000000  0.604146  0.084447  0     3     4        1   \n",
      "15  0.000000  0.40  1.000000  0.643633  0.128087  0     3     4        1   \n",
      "16  0.182979  0.40  1.000000  0.702863  0.271475  0     3     4        1   \n",
      "17  0.936170  0.00  0.021995  0.055281  0.801388  1     4     1        0   \n",
      "18  0.851064  0.00  0.013313  0.000000  1.000000  1     4     2        0   \n",
      "19  1.000000  0.00  0.000000  0.051333  0.888668  1     4     1        0   \n",
      "20  0.472340  0.00  0.141811  0.177690  0.564486  1     3     1        0   \n",
      "21  0.217021  0.40  0.714555  0.386969  0.000000  0     3     2        1   \n",
      "22  0.204255  0.40  0.674037  0.386969  0.221601  0     3     2        1   \n",
      "23  0.123404  0.40  0.807166  0.762093  0.583189  0     3     4        1   \n",
      "24  0.374468  0.36  0.951871  0.485686  0.177961  0     3     2        1   \n",
      "25  0.719149  0.00  0.022863  0.055281  0.801388  1     4     1        0   \n",
      "26  0.663830  0.00  0.142390  0.153998  1.000000  0     5     2        0   \n",
      "27  0.851064  0.00  0.069459  0.240869  0.608126  1     5     2        0   \n",
      "28  0.229787  0.40  0.810060  0.837117  0.888668  0     5     4        0   \n",
      "29  0.395745  0.20  0.213874  0.485686  0.514612  0     5     6        0   \n",
      "30  0.195745  0.40  0.665355  1.000000  0.464737  0     5     7        1   \n",
      "31  0.468085  0.00  0.144416  0.225074  0.820091  1     4     2        0   \n",
      "\n",
      "      qsec_4  \n",
      "0   0.333521  \n",
      "1   0.396727  \n",
      "2   0.576185  \n",
      "3   0.000000  \n",
      "4   0.396727  \n",
      "5   0.757901  \n",
      "6   0.263544  \n",
      "7   0.733070  \n",
      "8   1.000000  \n",
      "9   0.541196  \n",
      "10  0.718033  \n",
      "11  0.439616  \n",
      "12  0.462190  \n",
      "13  0.507336  \n",
      "14  0.505079  \n",
      "15  0.487020  \n",
      "16  0.441874  \n",
      "17  0.673251  \n",
      "18  0.566027  \n",
      "19  0.721783  \n",
      "20  0.734199  \n",
      "21  0.379797  \n",
      "22  0.428330  \n",
      "23  0.215011  \n",
      "24  1.000000  \n",
      "25  0.608916  \n",
      "26  0.360609  \n",
      "27  0.383183  \n",
      "28  0.112302  \n",
      "29  0.225169  \n",
      "30  0.123589  \n",
      "31  0.575056   -----\n",
      "\n",
      "Y: 0     1\n",
      "1     1\n",
      "2     1\n",
      "3     0\n",
      "4     0\n",
      "5     0\n",
      "6     0\n",
      "7     0\n",
      "8     0\n",
      "9     0\n",
      "10    0\n",
      "11    0\n",
      "12    0\n",
      "13    0\n",
      "14    0\n",
      "15    0\n",
      "16    0\n",
      "17    1\n",
      "18    1\n",
      "19    1\n",
      "20    0\n",
      "21    0\n",
      "22    0\n",
      "23    0\n",
      "24    0\n",
      "25    1\n",
      "26    1\n",
      "27    1\n",
      "28    1\n",
      "29    1\n",
      "30    1\n",
      "31    1\n",
      "Name: am_new, dtype: category\n",
      "Categories (2, int64): [0, 1] -----\n",
      "전처리 실행시간 0.195996 sec\n"
     ]
    }
   ],
   "source": [
    "### 시간측정, 데이터로드, 종속-독립변수 분리\n",
    "import time\n",
    "start_time= time.time()\n",
    "import pandas as pd\n",
    "data= pd.read_csv('bigData/mtcars.csv')\n",
    "# print(data.info(), data.head(), '-----')\n",
    "# am 인코딩하고 종속변수로 하기\n",
    "data['am_new']= data['am'].replace('manual',1).replace('auto',0).astype('int64').astype('category')\n",
    "# data.loc[data['am']=='manual', 'am_new']= 1 도 가능한데, replace 가 역시 생각이 잘 난다.\n",
    "Y= data['am_new']\n",
    "X= data.drop(columns=['am', 'am_new', 'Unnamed: 0'])\n",
    "pd.set_option('display.max_columns',None)\n",
    "#  X.head()\n",
    "# print(X.info(), X.head(), '-----')\n",
    "\n",
    "### null 체크, 이상한거 없애고 데이터타입 변경, 인코딩\n",
    "# print(X.loc[X.isnull().sum(1)!=0], '-----')\n",
    "X['cyl'].fillna(X.describe().loc['mean','cyl'], inplace=True)\n",
    "X['qsec'].fillna(X.describe().loc['mean','qsec'], inplace=True)\n",
    "# print(X.info(), '-----')\n",
    "X['gear']= X['gear'].replace('*3','3').replace('*5','5').astype('int64')\n",
    "# print(X.info()) # 'am' object\n",
    "# print(pd.get_dummies(X, drop_first=True)) # help(pd.get_dummies)\n",
    "X= pd.get_dummies(X, drop_first=True)\n",
    "\n",
    "\n",
    "### 이상치 교체(meanStd or IQR)\n",
    "## describe -> mean +- 1.5*std, Q3+1.5*IQR 및 Q1-1.5*IQR -> def 컬럼!!별. maxOver minOver. outlierCheck 부터. 다 돌리지마\n",
    "# print(X.loc[:,X.dtypes=='int64'].nunique(), '-----')  # hp22, vs2, gear3, carb6 종\n",
    "# print(X.loc[:,X.dtypes=='int64'], '-----') # 정수형 어떻게 생겼나. iloc[:,2].unique() 붙여서 뭐로 이뤄져있는지 볼수도\n",
    "## 열 조건\n",
    "# 눈으로 보고 중복처리 안 되게, 돌릴만 한 것만 골라내기.\n",
    "def outlierCheck(data):\n",
    "    desc= data.describe()\n",
    "    max1= desc.loc['max']\n",
    "    min1= desc.loc['min']\n",
    "    \n",
    "    mean= desc.loc['mean']\n",
    "    std= desc.loc['std']\n",
    "    minBms= mean-1.5*std # Boundary\n",
    "    maxBms= mean+1.5*std\n",
    "    minOverms= min1 < minBms # Boundary 보다 작으면 이상치\n",
    "    maxOverms= max1 > maxBms\n",
    "    # print('--minOverMs--', minOverMs)    # print('--maxOverMs--', maxOverMs)\n",
    "    \n",
    "    Q1= desc.loc['25%']\n",
    "    Q3= desc.loc['75%']\n",
    "    IQR= Q3-Q1\n",
    "    minBiqr= Q1-1.5*IQR\n",
    "    maxBiqr= Q3+1.5*IQR\n",
    "    minOverIQR= min1< minBiqr\n",
    "    maxOverIQR= max1> maxBiqr\n",
    "    # print('minOverIQR', minOverIQR, '-----') # print('maxOverIQR', maxOverIQR, '-----')\n",
    "    \n",
    "    return minBms, maxBms, minBiqr, maxBiqr\n",
    "\n",
    "# print(outlierCheck(X))\n",
    "\n",
    "## 행 조건. outlierCheck 에서 무슨 컬럼을 돌릴지는 정성적으로 정해뒀다.\n",
    "def outlierReplace(data):\n",
    "    minBms, maxBms, minBiqr, maxBiqr= outlierCheck(X)\n",
    "    # outlierCheck 에서 정한 열 조건\n",
    "    minMScols= ['drat','wt']\n",
    "    maxMScols= ['disp','drat']\n",
    "    minIQRcols= ['qsec']\n",
    "    maxIQRcols= ['cyl', 'hp', 'wt', 'qsec', 'carb']\n",
    "    #행 조건- 각 열 내의 값이 Boundary Over 인지. data[col]<minBms[col]\n",
    "    \n",
    "    for col in minMScols:\n",
    "#         print(f\"BeforeMinMS: {data.loc[ data[col]<minBms[col], col]}, minBms: {minBms[col]:.7}\")\n",
    "        data.loc[ data[col]<minBms[col], col]= minBms[col]\n",
    "    for col in maxMScols:\n",
    "#         print(f\"BeforeMaxMS: {data.loc[ data[col]>maxBms[col], col]}, maxBms: {maxBms[col]:.7}\")\n",
    "        data.loc[ data[col]>maxBms[col], col]= maxBms[col]\n",
    "    for col in minIQRcols:\n",
    "#         print(f\"BeforeMinIQR: {data.loc[ data[col]<minBiqr[col], col]}, minBiqr: {minBiqr[col]:.7}\")\n",
    "        data.loc[ data[col]<minBiqr[col], col]= minBiqr[col]\n",
    "    for col in maxIQRcols:\n",
    "#         print(f\"BeforeMaxIQR: {data.loc[ data[col]>maxBiqr[col], col]}, maxBiqr: {maxBiqr[col]:.7}\")\n",
    "        data.loc[ data[col]>maxBiqr[col], col]= maxBiqr[col]\n",
    "    \n",
    "    return data\n",
    "        \n",
    "X= outlierReplace(X)\n",
    "# print(X.info(), X, '-----')\n",
    "\n",
    "### 파생변수- 스케일링 하기전에\n",
    "## 무게등급\n",
    "condition= X['wt']< 3.3\n",
    "X.loc[condition,'wt_class']= 0\n",
    "X.loc[~condition,'wt_class']=1\n",
    "X.drop(columns='wt', inplace= True)\n",
    "## 1 mile\n",
    "X['qsec_4']= X['qsec']*4\n",
    "X.drop(columns='qsec', inplace=True)\n",
    "# print(X.info(), X, '-----')\n",
    "\n",
    "### 범주형 명시- 단 xgboost 할거면 하지 말기\n",
    "# print(X.loc[:,X.dtypes=='int64'])\n",
    "X['vs']= X['vs'].astype('category')\n",
    "X['wt_class']= X['wt_class'].astype('int64').astype('category')\n",
    "# print(X.info(), X, '-----')\n",
    "\n",
    "### 스케일링- 범위\n",
    "# from sklearn import preprocessing \n",
    "# help(preprocessing) #scaler #MinMaxScaler, StandardScaler, RobustScaler\n",
    "from sklearn.preprocessing import MinMaxScaler, StandardScaler, RobustScaler\n",
    "# help(MinMaxScaler) #example #scaler = MinMaxScaler() #fit_ : fit_transform\n",
    "# (self, X, y=None, **fit_params)\n",
    "# 통째가 아니라 한 컬럼만 DF로 넣어야! def scaling(data, scalers):  --- 인자 형식 외워야!\n",
    "def scaling(scalers, columnDF):\n",
    "    # 스케일링 해줄 객체\n",
    "    if scalers=='MinMax':\n",
    "        scaler= MinMaxScaler()\n",
    "    elif scalers== 'Standrad':\n",
    "        scaler== StandardScaler()\n",
    "    elif scalers== 'Robust':\n",
    "        scaler== RobustScaler()\n",
    "    # 객체가 스케일링 해줌\n",
    "    #scaler.fit_transform(columnDF) # scaler.fit_transform(data)\n",
    "    scaledCol= pd.DataFrame(scaler.fit_transform(columnDF)) # scaling 후에 DF 로 바꿔야\n",
    "    return scaledCol\n",
    "\n",
    "# fit_transform에 Series 넣으면 나오는 에러:  if your data has a single feature \n",
    "# or array.reshape(1, -1)\n",
    "# scaling('MinMax', X[['qsec']])\n",
    "\n",
    "# print(X.columns[X.dtypes=='float64'])\n",
    "floatCols= X.columns[X.dtypes=='float64']\n",
    "for col in floatCols:\n",
    "    #컬럼으로 받아야! X= scaling('MinMax', X[[col]])\n",
    "    X[col]= scaling('MinMax', X[[col]])\n",
    "\n",
    "print(X.info(), X, '-----')\n",
    "print('\\nY:', Y, '-----')\n",
    "\n",
    "## LabelEncoder 연습\n",
    "# face= ['happy','sad','soso']\n",
    "# from sklearn import preprocessing # help(preprocessing)\n",
    "# from sklearn.preprocessing import LabelEncoder\n",
    "# encoder= LabelEncoder()\n",
    "# print(face, encoder.fit_transform(face), '-----'))\n",
    "\n",
    "print(f\"전처리 실행시간 {time.time()-start_time:.7} sec\")"
   ]
  },
  {
   "cell_type": "markdown",
   "id": "88e9babe",
   "metadata": {},
   "source": [
    "## 모델링-범주형\n",
    "Classifier / p.296"
   ]
  },
  {
   "cell_type": "code",
   "execution_count": 76,
   "id": "a9f406a1",
   "metadata": {},
   "outputs": [],
   "source": [
    "from sklearn.model_selection import train_test_split\n",
    "# help(train_test_split) #  X_train, X_test, y_train, y_test = train_test_split(\\X, y, test_size=0.33, random_state=42)\n",
    "X_train, X_test, y_train, y_test = train_test_split(X, Y, test_size=0.3, random_state=10)"
   ]
  },
  {
   "cell_type": "code",
   "execution_count": 83,
   "id": "89fcf50c",
   "metadata": {},
   "outputs": [],
   "source": [
    "# print(X_train.info(), X_train.head(2), '---')\n",
    "# print(X_test.info(), X_test.head(2), '---')\n",
    "# print(y_train.head(2), '---')\n",
    "# print(y_test.head(2), '---')"
   ]
  },
  {
   "cell_type": "markdown",
   "id": "ce1d47dd",
   "metadata": {},
   "source": [
    "### 모델-DecisionTreeClassifier\n",
    "의사결정나무 분류 모델 / p.298\n",
    "- 분류평가 방법: roc_auc_score, 정확도 accuracy_score, 정밀도 precision_score, 재현율 recall_score\n",
    "- [정확도 정밀도 민감도 재현율](https://www.google.com/search?q=%EC%A0%95%ED%99%95%EB%8F%84+%EC%A0%95%EB%B0%80%EB%8F%84+%EB%AF%BC%EA%B0%90%EB%8F%84+%EC%9E%AC%ED%98%84%EC%9C%A8&newwindow=1&sxsrf=ALiCzsaaB4XgFJae_3wEdTNY05x2Fpll5A:1655458624640&source=lnms&tbm=isch&sa=X&ved=2ahUKEwjr-4v6l7T4AhVIB6YKHQkXCaMQ_AUoAXoECAEQAw&biw=1292&bih=665&dpr=1)"
   ]
  },
  {
   "attachments": {
    "image.png": {
     "image/png": "[encoded data removed]"
    }
   },
   "cell_type": "markdown",
   "id": "1e6cd8e1",
   "metadata": {},
   "source": [
    "![image.png](attachment:image.png)"
   ]
  },
  {
   "cell_type": "code",
   "execution_count": 94,
   "id": "8c9ee378",
   "metadata": {},
   "outputs": [
    {
     "name": "stdout",
     "output_type": "stream",
     "text": [
      "test roc_auc:  0.7857142857142857\n",
      "test 정확도accuracy (실제==예측)/all:  0.7\n",
      "test 정밀도precision (실제T==예측T)/예측T:  0.5\n",
      "test 재현율(민감도)recall (실제T==예측T)/실제T:  1.0\n"
     ]
    }
   ],
   "source": [
    "# import sklearn # help(sklearn) # package/ tree\n",
    "# from sklearn import tree # help(tree) # class/ DecisionTreeClassifier\n",
    "from sklearn.tree import DecisionTreeClassifier\n",
    "# help(DecisionTreeClassifier) # example/ clf = DecisionTreeClassifier(random_state=0)\n",
    "\n",
    "## 학습자. 70% 학습. 70% 예측. 그 외 30% 예측\n",
    "model= DecisionTreeClassifier()\n",
    "model.fit(X_train, y_train)\n",
    "y_train_predict= model.predict(X_train)\n",
    "y_test_predict= model.predict(X_test)\n",
    "\n",
    "## 모델 평가 [70%, 그 외 30%] - [roc_auc_score, accuracy_score, precision_score, recall_score]\n",
    "# import sklearn # help(sklearn) # package/ metrics\n",
    "# from sklearn import metrics # help(metrics) # _score 검색. roc_auc_score, accuracy_score\n",
    "# , 간간이 보이는 precision으로 유추해야 precision_score, 한참 내려가면 recall_score\n",
    "from sklearn.metrics import roc_auc_score, accuracy_score, precision_score, recall_score\n",
    "# help(roc_auc_score) # examples/ roc_auc_score(y, clf.predict_proba(X)[:, 1])\n",
    "\n",
    "print('test roc_auc: ', roc_auc_score(y_test, y_test_predict))\n",
    "print('test 정확도accuracy (실제==예측)/all: ', accuracy_score(y_test, y_test_predict))\n",
    "print('test 정밀도precision (실제T==예측T)/예측T: ', precision_score(y_test, y_test_predict))\n",
    "print('test 재현율(민감도)recall (실제T==예측T)/실제T: ', recall_score(y_test, y_test_predict))"
   ]
  },
  {
   "cell_type": "code",
   "execution_count": null,
   "id": "980cd99f",
   "metadata": {},
   "outputs": [],
   "source": []
  },
  {
   "cell_type": "markdown",
   "id": "c397fe6c",
   "metadata": {},
   "source": [
    "### 모델- 랜덤포레스트 분류\n",
    "RandomForestClassifier / p.300"
   ]
  },
  {
   "cell_type": "code",
   "execution_count": 127,
   "id": "97010a40",
   "metadata": {},
   "outputs": [
    {
     "name": "stdout",
     "output_type": "stream",
     "text": [
      "train roc_auc:  1.0\n",
      "test roc_auc:  0.8571428571428572\n",
      "test accuracy_score:  0.8\n",
      "test precision_score:  0.6\n",
      "test recall_score:  1.0\n"
     ]
    }
   ],
   "source": [
    "# import sklearn # help(sklearn) #ensemble\n",
    "# from sklearn import ensemble # help(ensemble) #randomforest. RandomForestClassifier\n",
    "from sklearn.ensemble import RandomForestClassifier\n",
    "# help(RandomForestClassifier) #clf = RandomForestClassifier(max_depth=2, random_state=0) #clf.fit(X, y)\n",
    "\n",
    "## 학습자. 70% 학습. 70% 예측. 나머지 30% 예측\n",
    "model= RandomForestClassifier()\n",
    "model.fit(X_train, y_train)\n",
    "y_train_predict= model.predict(X_train)\n",
    "y_test_predict= model.predict(X_test)\n",
    "\n",
    "## 모델 평가. 나머지 30% [roc_auc_score, accuracy_score, precision_score, recall_score]\n",
    "# from sklearn import metrics # help(metrics) #_score 검색. 2,3번째, ctrl F Enter 주욱 누르고 있으면 가끔.\n",
    "from sklearn.metrics import roc_auc_score, accuracy_score, precision_score, recall_score\n",
    "\n",
    "print('train roc_auc: ', roc_auc_score(y_train, y_train_predict)) # 1.0 완벽한 과적합\n",
    "print('test roc_auc: ', roc_auc_score(y_test, y_test_predict))\n",
    "print('test accuracy_score: ', accuracy_score(y_test, y_test_predict))\n",
    "print('test precision_score: ', precision_score(y_test, y_test_predict))\n",
    "print('test recall_score: ', recall_score(y_test, y_test_predict))"
   ]
  },
  {
   "cell_type": "markdown",
   "id": "b789b8d6",
   "metadata": {},
   "source": [
    "##### 뭔가 잘못 되었다. 모델 관계없이 score 가 계속 똑같이 나온다\n",
    "전처리 부분에서 'am' 걸러낼 때 뭔가 실수했나??\n",
    "- 다시 실행하니 random_state 바뀌어서 다른 게 나오긴 한다. \n",
    "- roc_auc 0.69 ~ 0.85714\n",
    "\n",
    "> 계속 똑같이 나오는 이유 추정: 같은 데이터 셋이라, accuracy, precision, recall 은 같게 나오나??"
   ]
  },
  {
   "cell_type": "code",
   "execution_count": null,
   "id": "25f2bdf0",
   "metadata": {},
   "outputs": [],
   "source": []
  },
  {
   "cell_type": "markdown",
   "id": "1da3470f",
   "metadata": {},
   "source": [
    "### 모델- 로지스틱 회귀\n",
    "LogisticRegression / p.301"
   ]
  },
  {
   "cell_type": "code",
   "execution_count": 132,
   "id": "2c827701",
   "metadata": {},
   "outputs": [
    {
     "name": "stdout",
     "output_type": "stream",
     "text": [
      "test roc_auc:  0.9285714285714286\n"
     ]
    }
   ],
   "source": [
    "from sklearn.linear_model import LogisticRegression\n",
    "# 분류 모델인데 이름이.. '선형회귀' 라서 ㅇㅇ\n",
    "# help(LogisticRegression) # clf = LogisticRegression(random_state=0).fit(X, y) #clf.predict(X[:2, :])\n",
    "# import sklearn # help(sklearn) #linear_model\n",
    "# from sklearn import linear_model # help(linear_model) # classes/ LogisticRegression\n",
    "\n",
    "## 학습자 70% 학습. 70% 예측, 나머지 30% 예측\n",
    "model= LogisticRegression().fit(X_train, y_train)\n",
    "# y_train_predict= model.predict(X_train) # 잘 학습했을거라고 가정하고 생략?!\n",
    "y_test_predict= model.predict(X_test)\n",
    "\n",
    "## 모델 평가. 나머지 30%. roc_auc_score\n",
    "from sklearn.metrics import roc_auc_score\n",
    "print('test roc_auc: ', roc_auc_score(y_test, y_test_predict))"
   ]
  },
  {
   "cell_type": "code",
   "execution_count": null,
   "id": "403e958a",
   "metadata": {},
   "outputs": [],
   "source": []
  },
  {
   "cell_type": "markdown",
   "id": "af53d90b",
   "metadata": {},
   "source": [
    "### 모델- XGBClassifier\n",
    "eXtreme Gradient Boosting / p.302\n",
    "- 값 예측: model.predict(실제y_test, 예측y_test_predict)\n",
    "- 확률예측:model.predict_proba(x_test) "
   ]
  },
  {
   "cell_type": "code",
   "execution_count": 153,
   "id": "c9464881",
   "metadata": {},
   "outputs": [
    {
     "name": "stdout",
     "output_type": "stream",
     "text": [
      "확률예측:  [[0.48592138 0.5140786 ]\n",
      " [0.33667523 0.6633248 ]\n",
      " [0.96512055 0.03487942]\n",
      " [0.1298446  0.8701554 ]\n",
      " [0.31327152 0.6867285 ]\n",
      " [0.88660794 0.11339206]\n",
      " [0.96512055 0.03487942]\n",
      " [0.6066751  0.3933249 ]\n",
      " [0.952859   0.04714101]\n",
      " [0.1038906  0.8961094 ]]\n",
      "(10, 2) 1열: 값이 0일 확률, 2열: 값이 1일 확률\n",
      "값 예측:  [1 1 0 1 1 0 0 0 0 1]\n",
      "(10,)\n",
      "test roc_auc:  0.619047619047619\n"
     ]
    },
    {
     "name": "stderr",
     "output_type": "stream",
     "text": [
      "C:\\Users\\optim\\AppData\\Local\\Temp/ipykernel_11612/2775519470.py:7: SettingWithCopyWarning: \n",
      "A value is trying to be set on a copy of a slice from a DataFrame.\n",
      "Try using .loc[row_indexer,col_indexer] = value instead\n",
      "\n",
      "See the caveats in the documentation: https://pandas.pydata.org/pandas-docs/stable/user_guide/indexing.html#returning-a-view-versus-a-copy\n",
      "  X_train['vs']= X_train['vs'].astype('int64')\n",
      "C:\\Users\\optim\\AppData\\Local\\Temp/ipykernel_11612/2775519470.py:8: SettingWithCopyWarning: \n",
      "A value is trying to be set on a copy of a slice from a DataFrame.\n",
      "Try using .loc[row_indexer,col_indexer] = value instead\n",
      "\n",
      "See the caveats in the documentation: https://pandas.pydata.org/pandas-docs/stable/user_guide/indexing.html#returning-a-view-versus-a-copy\n",
      "  X_train['wt_class']= X_train['wt_class'].astype('int64')\n",
      "C:\\Users\\optim\\AppData\\Local\\Temp/ipykernel_11612/2775519470.py:11: SettingWithCopyWarning: \n",
      "A value is trying to be set on a copy of a slice from a DataFrame.\n",
      "Try using .loc[row_indexer,col_indexer] = value instead\n",
      "\n",
      "See the caveats in the documentation: https://pandas.pydata.org/pandas-docs/stable/user_guide/indexing.html#returning-a-view-versus-a-copy\n",
      "  X_test['vs']= X_test['vs'].astype('int64')\n",
      "C:\\Users\\optim\\AppData\\Local\\Temp/ipykernel_11612/2775519470.py:12: SettingWithCopyWarning: \n",
      "A value is trying to be set on a copy of a slice from a DataFrame.\n",
      "Try using .loc[row_indexer,col_indexer] = value instead\n",
      "\n",
      "See the caveats in the documentation: https://pandas.pydata.org/pandas-docs/stable/user_guide/indexing.html#returning-a-view-versus-a-copy\n",
      "  X_test['wt_class']= X_test['wt_class'].astype('int64')\n"
     ]
    }
   ],
   "source": [
    "# !pip install xgboost\n",
    "from xgboost import XGBClassifier\n",
    "# import xgboost # help(xgboost) # class/ XGBClassifier\n",
    "\n",
    "# xgboost 에 넣는 데이터는 category 쓰기 어렵다.\n",
    "# print(X_train.info())\n",
    "X_train['vs']= X_train['vs'].astype('int64')\n",
    "X_train['wt_class']= X_train['wt_class'].astype('int64')\n",
    "y_train= y_train.astype('int64')\n",
    "\n",
    "X_test['vs']= X_test['vs'].astype('int64')\n",
    "X_test['wt_class']= X_test['wt_class'].astype('int64')\n",
    "y_test= y_test.astype('int64')\n",
    "\n",
    "# 70% 학습\n",
    "model= XGBClassifier().fit(X_train, y_train)\n",
    "\n",
    "## 확률 예측. 나머지 30%\n",
    "y_test_proba= model.predict_proba(X_test)\n",
    "print('확률예측: ', y_test_proba)\n",
    "print(y_test_proba.shape, '1열: 값이 0일 확률, 2열: 값이 1일 확률')\n",
    "\n",
    "# ## 값 예측. 잘 했다 가정하고 나머지 30%\n",
    "y_test_predict= model.predict(X_test)\n",
    "print('값 예측: ', y_test_predict)\n",
    "print(y_test_predict.shape)\n",
    "\n",
    "from sklearn.metrics import roc_auc_score\n",
    "print('test roc_auc: ', roc_auc_score(y_test, y_test_predict))"
   ]
  },
  {
   "cell_type": "code",
   "execution_count": null,
   "id": "27828690",
   "metadata": {},
   "outputs": [],
   "source": []
  },
  {
   "cell_type": "markdown",
   "id": "6a523071",
   "metadata": {},
   "source": [
    "### 모델- SVC, 배깅, KNN, 다층퍼센트론\n",
    "- from sklearn.svm import SVC\n",
    "- from sklearn.ensemble imiport BaggingClassifier\n",
    "- from sklearn.neighbors import KNeighborsClassifier\n",
    "- from sklearn.neural_network import MLPClassifier\n",
    "> from sklearn.metrics import roc_auc_score"
   ]
  },
  {
   "cell_type": "markdown",
   "id": "c20d9cb1",
   "metadata": {},
   "source": [
    "[svc predict_proba is not available when probability=False](https://beausty23.tistory.com/146)\n",
    "- model 객체 생성시 svm = SVC(probability=True)"
   ]
  },
  {
   "cell_type": "code",
   "execution_count": 164,
   "id": "42e22996",
   "metadata": {},
   "outputs": [
    {
     "name": "stdout",
     "output_type": "stream",
     "text": [
      "test proba:  [[0.58624081 0.41375919]\n",
      " [0.42782933 0.57217067]\n",
      " [0.98199308 0.01800692]\n",
      " [0.23535138 0.76464862]\n",
      " [0.52980726 0.47019274]\n",
      " [0.97334678 0.02665322]\n",
      " [0.96454914 0.03545086]\n",
      " [0.19058007 0.80941993]\n",
      " [0.954478   0.045522  ]\n",
      " [0.08978401 0.91021599]]\n"
     ]
    },
    {
     "name": "stderr",
     "output_type": "stream",
     "text": [
      "e:\\ProgramData\\Anaconda3\\lib\\site-packages\\sklearn\\neural_network\\_multilayer_perceptron.py:614: ConvergenceWarning: Stochastic Optimizer: Maximum iterations (200) reached and the optimization hasn't converged yet.\n",
      "  warnings.warn(\n"
     ]
    }
   ],
   "source": [
    "from sklearn.svm import SVC\n",
    "from sklearn.ensemble import BaggingClassifier\n",
    "from sklearn.neighbors import KNeighborsClassifier\n",
    "from sklearn.neural_network import MLPClassifier\n",
    "from sklearn.metrics import roc_auc_score\n",
    "\n",
    "def modelingClassifier(models):\n",
    "    if models=='svc':\n",
    "        model= SVC(probability=True) #서포트 벡터 분류. Support Vector Classification\n",
    "    elif models=='bagging':\n",
    "        model= BaggingClassifier()\n",
    "    elif models=='knn':\n",
    "        model= KNeighborsClassifier()\n",
    "    elif models=='mlp':\n",
    "        model= MLPClassifier()\n",
    "    model.fit(X_train, y_train)\n",
    "    return model\n",
    "\n",
    "def predictTestClassifier(model, how):\n",
    "    if how=='value':\n",
    "        y_test_predict= model.predict(X_test)\n",
    "        print('test value roc_auc: ', roc_auc_score(y_test, y_test_predict))\n",
    "    elif how=='proba':\n",
    "        y_test_proba= model.predict_proba(X_test)\n",
    "        print('test proba: ', y_test_proba)\n",
    "\n",
    "# model= modelingClassifier('svc')\n",
    "model= modelingClassifier('mlp')\n",
    "# predictTestClassifier(model, 'value')\n",
    "predictTestClassifier(model, 'proba')"
   ]
  },
  {
   "cell_type": "code",
   "execution_count": null,
   "id": "4a8a8d7d",
   "metadata": {},
   "outputs": [],
   "source": []
  },
  {
   "cell_type": "code",
   "execution_count": 165,
   "id": "c8d558b6",
   "metadata": {},
   "outputs": [
    {
     "name": "stdout",
     "output_type": "stream",
     "text": [
      "bigData\n",
      "data\n",
      "j.bat\n",
      "鍮낅텇湲� �빋=�떎湲곕떒�떟_encoding_utf.pdf\n",
      "鍮낅텇湲캰art2.ipynb\n",
      "鍮낅텇湲캰art2.py\n",
      "鍮낅텇湲캰art3-�뜲�씠�꽣 紐⑥뼇援ъ“�듅吏�.ipynb\n",
      "鍮낅텇湲캰art3-�뜲�씠�꽣-紐⑥뼇援ъ“�듅吏�.py\n",
      "鍮낅텇湲캰art3-紐⑤뜽留�-踰붿＜�삎.ipynb\n",
      "鍮낅텇湲캰art3-紐⑤뜽留�-踰붿＜�삎.py\n",
      "鍮낅텇湲캰art3-紐⑤뜽留�-�뿰�냽�삎.ipynb\n",
      "鍮낅텇湲캰art3-紐⑤뜽留�-�뿰�냽�삎.py\n",
      "鍮낅텇湲캰art3-�쟾泥섎━-�뒪耳��씪留�_�씤肄붾뵫.ipynb\n",
      "鍮낅텇湲캰art3-�쟾泥섎━-�뒪耳��씪留�_�씤肄붾뵫.py\n",
      "鍮낅텇湲캰art3-�쟾泥섎━-�씠�긽移�.ipynb\n",
      "鍮낅텇湲캰art3-�쟾泥섎━-�씠�긽移�.py\n"
     ]
    }
   ],
   "source": [
    "!ls"
   ]
  },
  {
   "cell_type": "markdown",
   "id": "bf87e57a",
   "metadata": {},
   "source": [
    "# 제출방법- 작업 1유형"
   ]
  },
  {
   "cell_type": "code",
   "execution_count": 168,
   "id": "b06f913f",
   "metadata": {},
   "outputs": [
    {
     "name": "stdout",
     "output_type": "stream",
     "text": [
      "0.619047619047619\n"
     ]
    }
   ],
   "source": [
    "# 값 하나만!! 나머지는 다 주석처리\n",
    "print(roc_auc_score(y_test, y_test_predict))"
   ]
  },
  {
   "cell_type": "markdown",
   "id": "f2bd1bec",
   "metadata": {},
   "source": [
    "# 제출방법- 작업 2유형\n",
    "p.309"
   ]
  },
  {
   "cell_type": "code",
   "execution_count": 170,
   "id": "eb298f88",
   "metadata": {},
   "outputs": [
    {
     "name": "stdout",
     "output_type": "stream",
     "text": [
      "<class 'numpy.ndarray'>\n"
     ]
    }
   ],
   "source": [
    "# 파생변수 만졌으면 컬럼명도 rename 해야 한다고 함\n",
    "\n",
    "# 제출할 대상이 DataFrame 인지 아닌지 확인\n",
    "print(type(y_test_proba))\n",
    "# 아니면 DataFrame 으로 변경후 to_csv\n",
    "# 이 때, 반드시!! 인덱스 번호는 False 로 둔다. \n",
    "pd.DataFrame(y_test_proba).to_csv('data/job2_y_test_proba.csv', index=False)"
   ]
  },
  {
   "cell_type": "code",
   "execution_count": 183,
   "id": "96ef0db0",
   "metadata": {},
   "outputs": [],
   "source": [
    "# help(dir)\n",
    "# from sklearn import tree #help(tree)\n",
    "# dir(DecisionTreeClassifier) # 정보가 영 없다.\n",
    "# help(RandomForestClassifier) # 3번째 줄에 n_estimators 있다"
   ]
  }
 ],
 "metadata": {
  "kernelspec": {
   "display_name": "Python 3 (ipykernel)",
   "language": "python",
   "name": "python3"
  },
  "language_info": {
   "codemirror_mode": {
    "name": "ipython",
    "version": 3
   },
   "file_extension": ".py",
   "mimetype": "text/x-python",
   "name": "python",
   "nbconvert_exporter": "python",
   "pygments_lexer": "ipython3",
   "version": "3.9.7"
  }
 },
 "nbformat": 4,
 "nbformat_minor": 5
}
