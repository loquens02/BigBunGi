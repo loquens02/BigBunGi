{
 "cells": [
  {
   "cell_type": "markdown",
   "id": "56f17242",
   "metadata": {},
   "source": [
    "# 빅분기Part5-작업2유형-분석연습-3번문제\n",
    "p.445~/ 자전거 대여량"
   ]
  },
  {
   "cell_type": "markdown",
   "id": "99a63e22",
   "metadata": {},
   "source": [
    "- 목적: 시간당 자전거 대여량. bike_y_train [datetime, count]. 10886개\n",
    "- 데이터: 고객의 자전거 대여 속성. bike_x_train, bike_x_test. 10886, 6493 개\n",
    "- 계절[1봄 2여름 3가을 4겨울], 공휴일[1공휴일 0아님], 근무일[1근무일 0아님], 날씨[1깨끗 2구르미 3눈비 4폭우우박]\n",
    "- 평가: R2 score"
   ]
  },
  {
   "cell_type": "markdown",
   "id": "7e5c9e29",
   "metadata": {},
   "source": [
    "22.6.22.수 10:00"
   ]
  },
  {
   "cell_type": "markdown",
   "id": "158b2b1c",
   "metadata": {},
   "source": [
    "데이터로드, y_train 에서 datetime 떼기\n",
    "// null, 상관관계, 뭔가이상한거, 파생변수\n",
    "// 모델링, R2 score"
   ]
  },
  {
   "cell_type": "code",
   "execution_count": 51,
   "id": "3d5117c7",
   "metadata": {},
   "outputs": [
    {
     "data": {
      "text/plain": [
       "계절\n",
       "1    312498\n",
       "2    588282\n",
       "3    640662\n",
       "4    544034\n",
       "Name: count, dtype: int64"
      ]
     },
     "metadata": {},
     "output_type": "display_data"
    },
    {
     "data": {
      "text/plain": [
       "공휴일\n",
       "0    2027668\n",
       "1      57808\n",
       "Name: count, dtype: int64"
      ]
     },
     "metadata": {},
     "output_type": "display_data"
    },
    {
     "data": {
      "text/plain": [
       "근무일\n",
       "0     654872\n",
       "1    1430604\n",
       "Name: count, dtype: int64"
      ]
     },
     "metadata": {},
     "output_type": "display_data"
    },
    {
     "data": {
      "text/plain": [
       "날씨\n",
       "1    1476063\n",
       "2     507160\n",
       "3     102089\n",
       "4        164\n",
       "Name: count, dtype: int64"
      ]
     },
     "metadata": {},
     "output_type": "display_data"
    },
    {
     "data": {
      "text/plain": [
       "체감온도구간\n",
       "0    254392\n",
       "1    454130\n",
       "2    508583\n",
       "3    868371\n",
       "Name: count, dtype: int64"
      ]
     },
     "metadata": {},
     "output_type": "display_data"
    },
    {
     "data": {
      "text/plain": [
       "습도구간\n",
       "0    733305\n",
       "1    556874\n",
       "2    446562\n",
       "3    348735\n",
       "Name: count, dtype: int64"
      ]
     },
     "metadata": {},
     "output_type": "display_data"
    },
    {
     "data": {
      "text/plain": [
       "풍속구간\n",
       "0    340464\n",
       "1    586141\n",
       "2    413355\n",
       "3    745516\n",
       "Name: count, dtype: int64"
      ]
     },
     "metadata": {},
     "output_type": "display_data"
    }
   ],
   "source": [
    "import pandas as pd\n",
    "x_train= pd.read_csv('bigData/bike_x_train.csv', encoding='CP949')\n",
    "y_train= pd.read_csv('bigData/bike_y_train.csv')\n",
    "x_test= pd.read_csv('bigData/bike_x_test.csv', encoding='CP949')\n",
    "\n",
    "def viewData(n=2):\n",
    "    display('----  ---- x_train ----  ----  ')\n",
    "    display(x_train.info(), x_train.head(n), x_train.tail(n))\n",
    "    display('----  ---- y_train ----  ----  ')\n",
    "    display(y_train.info(), y_train.head(n), y_train.tail(n))\n",
    "    display('----  ---- x_test ----  ----  ')\n",
    "    display(x_test.info(), x_test.head(n), x_test.tail(n))\n",
    "    \n",
    "# viewData() #null 이 없고 다 숫자. 그래도 혹시 모르니 value_counts()\n",
    "x_train_date= x_train.iloc[:,0] # 2011-1-1 ~ 2012-12-19 23:00\n",
    "x_test_date= x_test.iloc[:,0] # 2011-1-20 ~ 2012-12-31 23:00\n",
    "\n",
    "## 시간당이니까 시간을 쓰면 더 좋지 않을까\n",
    "x_train.drop(columns='datetime', inplace=True)\n",
    "x_test.drop(columns='datetime', inplace=True)\n",
    "y_train.drop(columns='datetime', inplace=True) # 2011-1-1 ~ 2012-12-19 23:00\n",
    "\n",
    "# viewData()\n",
    "\n",
    "## 상관관계\n",
    "# (x_train.corr() > 0.6) | (x_train.corr() < -0.6) # 온도~ 체감온도\n",
    "x_train.describe()\n",
    "def temperatureCate(data, col, newCol):\n",
    "    desc= data[col].describe()\n",
    "    q1= desc.loc['25%']\n",
    "    q2= desc.loc['50%']\n",
    "    q3= desc.loc['75%']\n",
    "    low= data[col] < q1\n",
    "    mid= (data[col]>=q1) & (data[col]<q2)\n",
    "    high= (data[col]>=q2) & (data[col]<q3)\n",
    "    veryHigh= data[col]>=q3\n",
    "    \n",
    "    data.loc[low, newCol]= 0\n",
    "    data.loc[mid, newCol]= 1\n",
    "    data.loc[high, newCol]= 2\n",
    "    data.loc[veryHigh, newCol]= 3\n",
    "    \n",
    "    data[newCol]= data[newCol].astype('int64').astype('category')\n",
    "    data.drop(columns=col, inplace=True)\n",
    "    return data\n",
    "\n",
    "x_train.drop(columns='온도', inplace=True)\n",
    "x_test.drop(columns='온도', inplace=True)\n",
    "x_train= temperatureCate(x_train, '체감온도', '체감온도구간')\n",
    "x_test= temperatureCate(x_test, '체감온도', '체감온도구간')\n",
    "x_train= temperatureCate(x_train, '습도', '습도구간')\n",
    "x_test= temperatureCate(x_test, '습도', '습도구간')\n",
    "x_train= temperatureCate(x_train, '풍속', '풍속구간')\n",
    "x_test= temperatureCate(x_test, '풍속', '풍속구간')\n",
    "\n",
    "# viewData() #구간 확인\n",
    "def categorize(data, col):\n",
    "    data[col]= data[col].astype('category')\n",
    "\n",
    "categorize(x_train, '계절')\n",
    "categorize(x_test, '계절')\n",
    "categorize(x_train, '공휴일')\n",
    "categorize(x_test, '공휴일')\n",
    "categorize(x_train, '근무일')\n",
    "categorize(x_test, '근무일')\n",
    "categorize(x_train, '날씨')\n",
    "categorize(x_test, '날씨')\n",
    "\n",
    "# viewData()\n",
    "\n",
    "## 스케일링 할 것도 없고, 이상한거 있나 확인만- 깔끔\n",
    "## 책- 독립변수들이 대여량에 미치는 영향 보기\n",
    "cols= x_train.columns\n",
    "varnCount= pd.concat([x_train, y_train], axis=1)\n",
    "for col in cols:\n",
    "    #display(x_train[col].value_counts())\n",
    "    #display(varnCount.groupby([col])['count'].sum()) # 값에 따라 현저한 차이가 난다. => 유의미\n",
    "\n",
    "## 모델링\n",
    "from sklearn.ensemble import RandomForestRegressor\n",
    "model= RandomForestRegressor()\n",
    "model.fit(x_train, y_train.iloc[:,0])\n",
    "y_train_predict= model.predict(x_train) # score\n",
    "y_test_predict= model.predict(x_test) # csv\n",
    "\n",
    "from sklearn.metrics import r2_score\n",
    "# print(r2_score(y_train, pd.Series(y_train_predict))) # R2 는 0에 가까울수록 좋다. 0.3968\n",
    "\n",
    "## 제출\n",
    "# help(pd.concat)\n",
    "resDF= pd.concat([x_test_date, pd.Series(y_test_predict.round(0)).astype('int64')], axis=1) #원본 y_train 과 비교\n",
    "# print(resDF.columns)\n",
    "resDF.rename(columns= {0:\"count\"}, inplace=True) # columns= 붙여야 적용\n",
    "# display(resDF)\n",
    "\n",
    "# resDF.to_csv('data/bike-khj.csv', index=False)"
   ]
  },
  {
   "cell_type": "markdown",
   "id": "f2cec92b",
   "metadata": {},
   "source": [
    "22.6.22.수 10:48"
   ]
  },
  {
   "cell_type": "markdown",
   "id": "d8ff87af",
   "metadata": {},
   "source": [
    "더 해야 할 것\n",
    "- datatime 뜯어보기. cf p.453\n",
    "- y_test_predict 에 음수가 있는지 확인"
   ]
  },
  {
   "cell_type": "code",
   "execution_count": null,
   "id": "e2e9d55a",
   "metadata": {},
   "outputs": [],
   "source": []
  }
 ],
 "metadata": {
  "kernelspec": {
   "display_name": "Python 3 (ipykernel)",
   "language": "python",
   "name": "python3"
  },
  "language_info": {
   "codemirror_mode": {
    "name": "ipython",
    "version": 3
   },
   "file_extension": ".py",
   "mimetype": "text/x-python",
   "name": "python",
   "nbconvert_exporter": "python",
   "pygments_lexer": "ipython3",
   "version": "3.9.7"
  }
 },
 "nbformat": 4,
 "nbformat_minor": 5
}
