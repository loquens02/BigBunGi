{
 "cells": [
  {
   "cell_type": "markdown",
   "id": "085608a3",
   "metadata": {},
   "source": [
    "# 데이터 분석 절차 체득하기2- 전처리"
   ]
  },
  {
   "cell_type": "markdown",
   "id": "1a38f053",
   "metadata": {},
   "source": [
    "## 종속변수(결과,효과)와 독립변수(원인) 분리\n",
    "p.233"
   ]
  },
  {
   "cell_type": "code",
   "execution_count": 234,
   "id": "52bf74c7",
   "metadata": {},
   "outputs": [],
   "source": [
    "import time\n",
    "start_time= time.time()\n",
    "# print(f\"{time.time()-start_time} sec\")"
   ]
  },
  {
   "cell_type": "code",
   "execution_count": 235,
   "id": "4108d2aa",
   "metadata": {},
   "outputs": [],
   "source": [
    "import pandas as pd"
   ]
  },
  {
   "cell_type": "code",
   "execution_count": 236,
   "id": "a1ac4f7f",
   "metadata": {},
   "outputs": [
    {
     "name": "stdout",
     "output_type": "stream",
     "text": [
      "bigData\n",
      "data\n",
      "j.bat\n",
      "鍮낅텇湲캰art2.ipynb\n",
      "鍮낅텇湲캰art2.py\n",
      "鍮낅텇湲캰art3-�뜲�씠�꽣 紐⑥뼇援ъ“�듅吏�.ipynb\n",
      "鍮낅텇湲캰art3-�뜲�씠�꽣-紐⑥뼇援ъ“�듅吏�.py\n",
      "鍮낅텇湲캰art3-�쟾泥섎━.ipynb\n",
      "移댁뭅�삤�넚 諛쏆�� �뙆�씪 - 諛붾줈 媛�湲�.lnk\n"
     ]
    }
   ],
   "source": [
    "!ls"
   ]
  },
  {
   "cell_type": "code",
   "execution_count": 237,
   "id": "89b2f4b6",
   "metadata": {},
   "outputs": [],
   "source": [
    "data= pd.read_csv('bigData/mtcars.csv')"
   ]
  },
  {
   "cell_type": "code",
   "execution_count": 238,
   "id": "905b56c6",
   "metadata": {},
   "outputs": [
    {
     "name": "stdout",
     "output_type": "stream",
     "text": [
      "<class 'pandas.core.frame.DataFrame'>\n",
      "RangeIndex: 32 entries, 0 to 31\n",
      "Data columns (total 12 columns):\n",
      " #   Column      Non-Null Count  Dtype  \n",
      "---  ------      --------------  -----  \n",
      " 0   Unnamed: 0  32 non-null     object \n",
      " 1   mpg         32 non-null     float64\n",
      " 2   cyl         30 non-null     float64\n",
      " 3   disp        32 non-null     float64\n",
      " 4   hp          32 non-null     int64  \n",
      " 5   drat        32 non-null     float64\n",
      " 6   wt          32 non-null     float64\n",
      " 7   qsec        31 non-null     float64\n",
      " 8   vs          32 non-null     int64  \n",
      " 9   am          32 non-null     object \n",
      " 10  gear        32 non-null     object \n",
      " 11  carb        32 non-null     int64  \n",
      "dtypes: float64(6), int64(3), object(3)\n",
      "memory usage: 3.1+ KB\n"
     ]
    }
   ],
   "source": [
    "data.info()"
   ]
  },
  {
   "cell_type": "code",
   "execution_count": 239,
   "id": "d6df042c",
   "metadata": {},
   "outputs": [],
   "source": [
    "X= data.drop(columns= 'mpg')\n",
    "Y= data['mpg']"
   ]
  },
  {
   "cell_type": "code",
   "execution_count": 240,
   "id": "17665ac2",
   "metadata": {},
   "outputs": [
    {
     "name": "stdout",
     "output_type": "stream",
     "text": [
      "(32, 11)\n",
      "(32,)\n"
     ]
    }
   ],
   "source": [
    "print(X.shape)\n",
    "print(Y.shape)"
   ]
  },
  {
   "cell_type": "code",
   "execution_count": 241,
   "id": "d90a6897",
   "metadata": {},
   "outputs": [
    {
     "data": {
      "text/plain": [
       "(32,)"
      ]
     },
     "execution_count": 241,
     "metadata": {},
     "output_type": "execute_result"
    }
   ],
   "source": [
    "X['cyl'].shape # null 껴있어도 shape 는 전체 개수 출력! - 혹시나 종속변수에 null 껴있어서 shape 맞출 걱정 ㄴㄴ"
   ]
  },
  {
   "cell_type": "code",
   "execution_count": 242,
   "id": "3538e18c",
   "metadata": {},
   "outputs": [
    {
     "name": "stdout",
     "output_type": "stream",
     "text": [
      "\n",
      "----= ----= real data ----=\n",
      "      Unnamed: 0  cyl   disp   hp  drat     wt   qsec  vs      am gear  carb\n",
      "0      Mazda RX4  6.0  160.0  110   3.9  2.620  16.46   0  manual    4     4\n",
      "1  Mazda RX4 Wag  6.0  160.0  110   3.9  2.875  17.02   0  manual    4     4\n",
      "\n",
      "----= ----= null check ----=\n",
      "          Unnamed: 0  cyl   disp   hp  drat     wt   qsec  vs    am gear  carb\n",
      "7          Merc 240D  NaN  146.7   62  3.69  3.190   20.0   1  auto    4     2\n",
      "10         Merc 280C  6.0  167.6  123  3.92  3.440    NaN   1  auto    4     4\n",
      "24  Pontiac Firebird  NaN  400.0  175  3.08  3.845  100.0   0  auto    3     2\n",
      "\n",
      "----= ----= 수치형 변수 ----=\n",
      "Index(['cyl', 'disp', 'hp', 'drat', 'wt', 'qsec', 'vs', 'carb'], dtype='object')\n",
      "\n",
      "----= ----= object에 수치형 껴있나 ----=\n",
      "am\n",
      "['manual' 'auto']\n",
      "\n",
      "gear\n",
      "['4' '3' '*3' '5' '*5']\n",
      "\n",
      "\n",
      "----= ----= 이상치: mean + 4*std < max 면 거의 확실. min도 보고----= \n",
      "            cyl        disp          hp      drat        wt        qsec  \\\n",
      "mean   7.600000  230.721875  146.687500  3.596563  3.217250   19.866774   \n",
      "min    4.000000   71.100000   52.000000  2.760000  1.513000    0.100000   \n",
      "max   50.000000  472.000000  335.000000  4.930000  5.424000  100.000000   \n",
      "std    8.194195  123.938694   68.562868  0.534679  0.978457   15.310469   \n",
      "\n",
      "            vs    carb  \n",
      "mean  0.437500  2.8125  \n",
      "min   0.000000  1.0000  \n",
      "max   1.000000  8.0000  \n",
      "std   0.504016  1.6152  \n",
      "\n",
      "----= ----= time check ----=\n",
      "0.1450026 sec\n"
     ]
    }
   ],
   "source": [
    "start_time= time.time()\n",
    "print(\"\\n----= ----= real data ----=\")\n",
    "pd.set_option('display.max_columns', None)\n",
    "print(X.head(2))\n",
    "print(\"\\n----= ----= null check ----=\")\n",
    "print(X[X.isnull().sum(1) != 0])\n",
    "print(\"\\n----= ----= 수치형 변수 ----=\")\n",
    "print(X.describe().columns)\n",
    "print(\"\\n----= ----= object에 수치형 껴있나 ----=\")\n",
    "objCols= X.loc[:,X.dtypes == object].columns\n",
    "for idx, _ in enumerate(objCols):\n",
    "    if idx==0:\n",
    "        continue # 맨앞 것은 명백히 문자열이더라\n",
    "    print(f\"{_}\\n{X[_].unique()}\\n\")\n",
    "print(\"\\n----= ----= 이상치: mean + 4*std < max 면 거의 확실. min도 보고----= \") # 그래도 눈으로 보는 게 특이 케이스를 더 잘 거를듯\n",
    "print(X.describe().loc[['mean','min','max','std'],:]) # 400m 가는데 0.1초도 이상하지만 100초도 너무 이상한데?\n",
    "print(\"\\n----= ----= time check ----=\")\n",
    "print(f\"{time.time()-start_time:.7f} sec\")"
   ]
  },
  {
   "cell_type": "code",
   "execution_count": 243,
   "id": "a20ea205",
   "metadata": {},
   "outputs": [
    {
     "name": "stdout",
     "output_type": "stream",
     "text": [
      "          Unnamed: 0  cyl   disp   hp  drat     wt   qsec  vs      am gear  \\\n",
      "0          Mazda RX4  6.0  160.0  110  3.90  2.620  16.46   0  manual    4   \n",
      "1      Mazda RX4 Wag  6.0  160.0  110  3.90  2.875  17.02   0  manual    4   \n",
      "2         Datsun 710  4.0  108.0   93  3.85  2.320  18.61   1  manual    4   \n",
      "3     Hornet 4 Drive  6.0  258.0  110  3.08  3.215   0.10   1    auto    3   \n",
      "4  Hornet Sportabout  8.0  360.0  175  3.15  3.440  17.02   0    auto    3   \n",
      "\n",
      "   carb  \n",
      "0     4  \n",
      "1     4  \n",
      "2     1  \n",
      "3     1  \n",
      "4     2  \n",
      "          Unnamed: 0  cyl   disp   hp  drat     wt   qsec  vs    am gear  carb\n",
      "7          Merc 240D  NaN  146.7   62  3.69  3.190   20.0   1  auto    4     2\n",
      "10         Merc 280C  6.0  167.6  123  3.92  3.440    NaN   1  auto    4     4\n",
      "24  Pontiac Firebird  NaN  400.0  175  3.08  3.845  100.0   0  auto    3     2\n",
      "Index(['cyl', 'disp', 'hp', 'drat', 'wt', 'qsec', 'vs', 'carb'], dtype='object')\n",
      "am\n",
      "['manual' 'auto']\n",
      "\n",
      "gear\n",
      "['4' '3' '*3' '5' '*5']\n",
      "\n",
      "            cyl        disp          hp      drat        wt        qsec  \\\n",
      "mean   7.600000  230.721875  146.687500  3.596563  3.217250   19.866774   \n",
      "min    4.000000   71.100000   52.000000  2.760000  1.513000    0.100000   \n",
      "max   50.000000  472.000000  335.000000  4.930000  5.424000  100.000000   \n",
      "std    8.194195  123.938694   68.562868  0.534679  0.978457   15.310469   \n",
      "\n",
      "            vs    carb  \n",
      "mean  0.437500  2.8125  \n",
      "min   0.000000  1.0000  \n",
      "max   1.000000  8.0000  \n",
      "std   0.504016  1.6152  \n",
      "0.1310017 sec\n"
     ]
    }
   ],
   "source": [
    "start_time= time.time()\n",
    "pd.set_option('display.max_columns',None)\n",
    "print(X.head())\n",
    "print(X[X.isnull().sum(1) != 0])\n",
    "print(X.describe().columns)\n",
    "objCols= X.loc[:, X.dtypes == object].columns\n",
    "for idx,_ in enumerate(objCols):\n",
    "    if idx==0:\n",
    "        continue\n",
    "    print(f\"{_}\\n{X[_].unique()}\\n\")\n",
    "print(X.describe().loc[['mean','min','max','std'], :])\n",
    "print(f\"{time.time() - start_time:.7f} sec\")\n",
    "\n",
    "\n",
    "\n",
    "\n",
    "# start_time= time.time()\n",
    "# print(\"\\n----= ----= real data ----=\")\n",
    "# pd.set_option('display.max_columns', None)\n",
    "# print(X.head(2))\n",
    "# print(\"\\n----= ----= null check ----=\")\n",
    "# print(X[X.isnull().sum(1) != 0])\n",
    "# print(\"\\n----= ----= 수치형 변수 ----=\")\n",
    "# print(X.describe().columns)\n",
    "# print(\"\\n----= ----= object에 수치형 껴있나 ----=\")\n",
    "# objCols= X.loc[:,X.dtypes == object].columns\n",
    "# for idx, _ in enumerate(objCols):\n",
    "#     if idx==0:\n",
    "#         continue # 맨앞 것은 명백히 문자열이더라\n",
    "#     print(f\"{_}\\n{X[_].unique()}\\n\")\n",
    "# print(\"\\n----= ----= 이상치: mean + 4*std < max 면 거의 확실. min도 보고----= \") # 그래도 눈으로 보는 게 특이 케이스를 더 잘 거를듯\n",
    "# print(X.describe().loc[['mean','min','max','std'],:]) # 400m 가는데 0.1초도 이상하지만 100초도 너무 이상한데?\n",
    "# print(\"\\n----= ----= time check ----=\")\n",
    "# print(f\"{time.time()-start_time:.7f} sec\")"
   ]
  },
  {
   "cell_type": "code",
   "execution_count": 244,
   "id": "089b4247",
   "metadata": {},
   "outputs": [
    {
     "data": {
      "text/plain": [
       "0    21.0\n",
       "1    21.0\n",
       "2    22.8\n",
       "3    21.4\n",
       "4    18.7\n",
       "Name: mpg, dtype: float64"
      ]
     },
     "execution_count": 244,
     "metadata": {},
     "output_type": "execute_result"
    }
   ],
   "source": [
    "Y.head(5)"
   ]
  },
  {
   "cell_type": "markdown",
   "id": "732f8fe6",
   "metadata": {},
   "source": [
    "### 데이터 관찰 및 가공\n",
    "p.234"
   ]
  },
  {
   "cell_type": "markdown",
   "id": "86abcd24",
   "metadata": {},
   "source": [
    "과정\n",
    "1. 종속변수에 영향없는 불필요 변수(컬럼) 제거\n",
    "2. 누락된 값 수정 및 제거\n",
    "3. 잘못된 값 수정 및 제거\n",
    "4. 이상값 조정\n",
    "5. 각 숫자 범위 동일하게 맞추기\n",
    "6. 적절한 데이터 타입으로 변경\n",
    "7. 문자로 구성된 범주형 데이터를 숫자형으로 변경\n",
    "8. 분석에 필요한 새로운 열(파생변수) 만들기"
   ]
  },
  {
   "cell_type": "markdown",
   "id": "349c9108",
   "metadata": {},
   "source": [
    "##### 영향없는 변수 제거"
   ]
  },
  {
   "cell_type": "code",
   "execution_count": 245,
   "id": "447cac90",
   "metadata": {},
   "outputs": [
    {
     "name": "stdout",
     "output_type": "stream",
     "text": [
      "          Unnamed: 0  cyl   disp   hp  drat     wt   qsec  vs      am gear  \\\n",
      "0          Mazda RX4  6.0  160.0  110  3.90  2.620  16.46   0  manual    4   \n",
      "1      Mazda RX4 Wag  6.0  160.0  110  3.90  2.875  17.02   0  manual    4   \n",
      "2         Datsun 710  4.0  108.0   93  3.85  2.320  18.61   1  manual    4   \n",
      "3     Hornet 4 Drive  6.0  258.0  110  3.08  3.215   0.10   1    auto    3   \n",
      "4  Hornet Sportabout  8.0  360.0  175  3.15  3.440  17.02   0    auto    3   \n",
      "\n",
      "   carb  \n",
      "0     4  \n",
      "1     4  \n",
      "2     1  \n",
      "3     1  \n",
      "4     2  \n"
     ]
    }
   ],
   "source": [
    "print(X.head())"
   ]
  },
  {
   "cell_type": "code",
   "execution_count": 246,
   "id": "a68482da",
   "metadata": {},
   "outputs": [
    {
     "name": "stdout",
     "output_type": "stream",
     "text": [
      "   cyl   disp   hp  drat     wt   qsec  vs      am gear  carb\n",
      "0  6.0  160.0  110  3.90  2.620  16.46   0  manual    4     4\n",
      "1  6.0  160.0  110  3.90  2.875  17.02   0  manual    4     4\n",
      "2  4.0  108.0   93  3.85  2.320  18.61   1  manual    4     1\n",
      "3  6.0  258.0  110  3.08  3.215   0.10   1    auto    3     1\n",
      "4  8.0  360.0  175  3.15  3.440  17.02   0    auto    3     2\n"
     ]
    }
   ],
   "source": [
    "X.drop(columns='Unnamed: 0', inplace= True)\n",
    "print(X.head())"
   ]
  },
  {
   "cell_type": "code",
   "execution_count": 247,
   "id": "7c32bc5c",
   "metadata": {},
   "outputs": [],
   "source": [
    "# 혹은\n",
    "# X= X.iloc[:, 1:] # 두 번째 열부터 끝까지 다시 저장"
   ]
  },
  {
   "cell_type": "markdown",
   "id": "ebd71fbe",
   "metadata": {},
   "source": [
    "##### 결측값 처리"
   ]
  },
  {
   "cell_type": "code",
   "execution_count": 248,
   "id": "96708b9b",
   "metadata": {},
   "outputs": [
    {
     "name": "stdout",
     "output_type": "stream",
     "text": [
      "cyl     2\n",
      "disp    0\n",
      "hp      0\n",
      "drat    0\n",
      "wt      0\n",
      "qsec    1\n",
      "vs      0\n",
      "am      0\n",
      "gear    0\n",
      "carb    0\n",
      "dtype: int64\n"
     ]
    }
   ],
   "source": [
    "print(X.isnull().sum())"
   ]
  },
  {
   "cell_type": "code",
   "execution_count": 249,
   "id": "77e68b09",
   "metadata": {},
   "outputs": [
    {
     "name": "stdout",
     "output_type": "stream",
     "text": [
      "    cyl   disp   hp  drat     wt   qsec  vs    am gear  carb\n",
      "7   NaN  146.7   62  3.69  3.190   20.0   1  auto    4     2\n",
      "10  6.0  167.6  123  3.92  3.440    NaN   1  auto    4     4\n",
      "24  NaN  400.0  175  3.08  3.845  100.0   0  auto    3     2\n"
     ]
    }
   ],
   "source": [
    "nullCheck= X.loc[X.isnull().sum(1)!=0, :]\n",
    "print(nullCheck)\n",
    "#print(type(nullCheck)) # DataFrame"
   ]
  },
  {
   "cell_type": "markdown",
   "id": "63976abf",
   "metadata": {},
   "source": [
    "##### 결측값 처리- 평균값 대치\n",
    "p.238"
   ]
  },
  {
   "cell_type": "code",
   "execution_count": 250,
   "id": "c6e71755",
   "metadata": {},
   "outputs": [
    {
     "name": "stdout",
     "output_type": "stream",
     "text": [
      "7.6\n"
     ]
    }
   ],
   "source": [
    "# cyl\n",
    "X_cyl_mean= X['cyl'].mean()\n",
    "print(X_cyl_mean)"
   ]
  },
  {
   "cell_type": "code",
   "execution_count": 251,
   "id": "7e7d2e04",
   "metadata": {},
   "outputs": [],
   "source": [
    "X['cyl'].fillna(X_cyl_mean, inplace=True)"
   ]
  },
  {
   "cell_type": "code",
   "execution_count": 252,
   "id": "0f20cdad",
   "metadata": {},
   "outputs": [
    {
     "data": {
      "text/html": [
       "<div>\n",
       "<style scoped>\n",
       "    .dataframe tbody tr th:only-of-type {\n",
       "        vertical-align: middle;\n",
       "    }\n",
       "\n",
       "    .dataframe tbody tr th {\n",
       "        vertical-align: top;\n",
       "    }\n",
       "\n",
       "    .dataframe thead th {\n",
       "        text-align: right;\n",
       "    }\n",
       "</style>\n",
       "<table border=\"1\" class=\"dataframe\">\n",
       "  <thead>\n",
       "    <tr style=\"text-align: right;\">\n",
       "      <th></th>\n",
       "      <th>cyl</th>\n",
       "      <th>disp</th>\n",
       "      <th>hp</th>\n",
       "      <th>drat</th>\n",
       "      <th>wt</th>\n",
       "      <th>qsec</th>\n",
       "      <th>vs</th>\n",
       "      <th>am</th>\n",
       "      <th>gear</th>\n",
       "      <th>carb</th>\n",
       "    </tr>\n",
       "  </thead>\n",
       "  <tbody>\n",
       "    <tr>\n",
       "      <th>7</th>\n",
       "      <td>NaN</td>\n",
       "      <td>146.7</td>\n",
       "      <td>62</td>\n",
       "      <td>3.69</td>\n",
       "      <td>3.190</td>\n",
       "      <td>20.0</td>\n",
       "      <td>1</td>\n",
       "      <td>auto</td>\n",
       "      <td>4</td>\n",
       "      <td>2</td>\n",
       "    </tr>\n",
       "    <tr>\n",
       "      <th>10</th>\n",
       "      <td>6.0</td>\n",
       "      <td>167.6</td>\n",
       "      <td>123</td>\n",
       "      <td>3.92</td>\n",
       "      <td>3.440</td>\n",
       "      <td>NaN</td>\n",
       "      <td>1</td>\n",
       "      <td>auto</td>\n",
       "      <td>4</td>\n",
       "      <td>4</td>\n",
       "    </tr>\n",
       "    <tr>\n",
       "      <th>24</th>\n",
       "      <td>NaN</td>\n",
       "      <td>400.0</td>\n",
       "      <td>175</td>\n",
       "      <td>3.08</td>\n",
       "      <td>3.845</td>\n",
       "      <td>100.0</td>\n",
       "      <td>0</td>\n",
       "      <td>auto</td>\n",
       "      <td>3</td>\n",
       "      <td>2</td>\n",
       "    </tr>\n",
       "  </tbody>\n",
       "</table>\n",
       "</div>"
      ],
      "text/plain": [
       "    cyl   disp   hp  drat     wt   qsec  vs    am gear  carb\n",
       "7   NaN  146.7   62  3.69  3.190   20.0   1  auto    4     2\n",
       "10  6.0  167.6  123  3.92  3.440    NaN   1  auto    4     4\n",
       "24  NaN  400.0  175  3.08  3.845  100.0   0  auto    3     2"
      ]
     },
     "execution_count": 252,
     "metadata": {},
     "output_type": "execute_result"
    }
   ],
   "source": [
    "nullCheck"
   ]
  },
  {
   "cell_type": "code",
   "execution_count": 253,
   "id": "dcb10b92",
   "metadata": {},
   "outputs": [
    {
     "data": {
      "text/plain": [
       "0      6.0\n",
       "1      6.0\n",
       "2      4.0\n",
       "3      6.0\n",
       "4      8.0\n",
       "5      6.0\n",
       "6      8.0\n",
       "7      7.6\n",
       "8      4.0\n",
       "9      6.0\n",
       "10     6.0\n",
       "11     8.0\n",
       "12     8.0\n",
       "13     8.0\n",
       "14    50.0\n",
       "15     8.0\n",
       "16     8.0\n",
       "17     4.0\n",
       "18     4.0\n",
       "19     4.0\n",
       "20     4.0\n",
       "21     8.0\n",
       "22     8.0\n",
       "23     8.0\n",
       "24     7.6\n",
       "25     4.0\n",
       "26     4.0\n",
       "27     4.0\n",
       "28     8.0\n",
       "29     6.0\n",
       "30     8.0\n",
       "31     4.0\n",
       "Name: cyl, dtype: float64"
      ]
     },
     "execution_count": 253,
     "metadata": {},
     "output_type": "execute_result"
    }
   ],
   "source": [
    "X['cyl']"
   ]
  },
  {
   "cell_type": "code",
   "execution_count": 254,
   "id": "465eaf5b",
   "metadata": {},
   "outputs": [
    {
     "name": "stdout",
     "output_type": "stream",
     "text": [
      "cyl     0\n",
      "disp    0\n",
      "hp      0\n",
      "drat    0\n",
      "wt      0\n",
      "qsec    1\n",
      "vs      0\n",
      "am      0\n",
      "gear    0\n",
      "carb    0\n",
      "dtype: int64\n"
     ]
    }
   ],
   "source": [
    "print(X.isnull().sum())"
   ]
  },
  {
   "cell_type": "markdown",
   "id": "7b7d8485",
   "metadata": {},
   "source": [
    "##### 결측값 처리- 중위값으로 대체"
   ]
  },
  {
   "cell_type": "code",
   "execution_count": 255,
   "id": "b68cedc9",
   "metadata": {},
   "outputs": [
    {
     "name": "stdout",
     "output_type": "stream",
     "text": [
      "17.6\n"
     ]
    }
   ],
   "source": [
    "X_qsec_median= X['qsec'].median()\n",
    "print(X_qsec_median)"
   ]
  },
  {
   "cell_type": "code",
   "execution_count": 256,
   "id": "648e384f",
   "metadata": {},
   "outputs": [],
   "source": [
    "# 지금은 하나 남았으니 괜찮지만, 컬럼 단위로 넣자!\n",
    "# X.fillna(X_qsec_median)"
   ]
  },
  {
   "cell_type": "code",
   "execution_count": 257,
   "id": "06076c9a",
   "metadata": {},
   "outputs": [
    {
     "name": "stdout",
     "output_type": "stream",
     "text": [
      "cyl       6.0\n",
      "disp    167.6\n",
      "hp        123\n",
      "drat     3.92\n",
      "wt       3.44\n",
      "qsec     17.6\n",
      "vs          1\n",
      "am       auto\n",
      "gear        4\n",
      "carb        4\n",
      "Name: 10, dtype: object\n"
     ]
    }
   ],
   "source": [
    "X['qsec'].fillna(X_qsec_median, inplace=True)\n",
    "print(X.iloc[10,:])"
   ]
  },
  {
   "cell_type": "code",
   "execution_count": 258,
   "id": "be95467d",
   "metadata": {},
   "outputs": [
    {
     "name": "stdout",
     "output_type": "stream",
     "text": [
      "Empty DataFrame\n",
      "Columns: [cyl, disp, hp, drat, wt, qsec, vs, am, gear, carb]\n",
      "Index: []\n"
     ]
    }
   ],
   "source": [
    "print(X.loc[X.isnull().sum(1)!=0, :]) # null 없어진 걸 확인"
   ]
  },
  {
   "cell_type": "code",
   "execution_count": 259,
   "id": "dac39465",
   "metadata": {},
   "outputs": [
    {
     "name": "stdout",
     "output_type": "stream",
     "text": [
      "cyl     0\n",
      "disp    0\n",
      "hp      0\n",
      "drat    0\n",
      "wt      0\n",
      "qsec    0\n",
      "vs      0\n",
      "am      0\n",
      "gear    0\n",
      "carb    0\n",
      "dtype: int64\n"
     ]
    }
   ],
   "source": [
    "print(X.isnull().sum())"
   ]
  },
  {
   "cell_type": "markdown",
   "id": "81b7385d",
   "metadata": {},
   "source": [
    "##### 결측치 행 삭제\n",
    "실전/시험 모두에서 이러면 안 되지만, 시험에서 따로 명시했을 때"
   ]
  },
  {
   "cell_type": "code",
   "execution_count": 260,
   "id": "7e1086a3",
   "metadata": {},
   "outputs": [],
   "source": [
    "# X.dropna()"
   ]
  },
  {
   "cell_type": "markdown",
   "id": "b0279ee8",
   "metadata": {},
   "source": [
    "### 잘못된 값 올바르게 변경\n",
    "p.240"
   ]
  },
  {
   "cell_type": "code",
   "execution_count": 261,
   "id": "bf026e7e",
   "metadata": {},
   "outputs": [
    {
     "name": "stdout",
     "output_type": "stream",
     "text": [
      "am: ['manual' 'auto']\n",
      "gear: ['4' '3' '*3' '5' '*5']\n"
     ]
    }
   ],
   "source": [
    "objCols= X.loc[:,X.dtypes==object].columns\n",
    "for _ in objCols:\n",
    "    print(f\"{_}: {X[_].unique()}\")"
   ]
  },
  {
   "cell_type": "code",
   "execution_count": 262,
   "id": "6d0c3411",
   "metadata": {},
   "outputs": [
    {
     "name": "stdout",
     "output_type": "stream",
     "text": [
      "0     4\n",
      "1     4\n",
      "2     4\n",
      "3     3\n",
      "4     3\n",
      "5     3\n",
      "6     3\n",
      "7     4\n",
      "8     4\n",
      "9     4\n",
      "10    4\n",
      "11    3\n",
      "12    3\n",
      "13    3\n",
      "14    3\n",
      "15    3\n",
      "16    3\n",
      "17    4\n",
      "18    4\n",
      "19    4\n",
      "20    3\n",
      "21    3\n",
      "22    3\n",
      "23    3\n",
      "24    3\n",
      "25    4\n",
      "26    5\n",
      "27    5\n",
      "28    5\n",
      "29    5\n",
      "30    5\n",
      "31    4\n",
      "Name: gear, dtype: object\n"
     ]
    }
   ],
   "source": [
    "#print(X.replace('*3','3').replace('*5','5')) # replace 같은 건 DataFrame 에 함부로 적용하면 원복이 안 된다\n",
    "print(X['gear'].replace('*3','3').replace('*5','5')) "
   ]
  },
  {
   "cell_type": "code",
   "execution_count": 263,
   "id": "b34958ac",
   "metadata": {},
   "outputs": [
    {
     "name": "stdout",
     "output_type": "stream",
     "text": [
      "0     4\n",
      "1     4\n",
      "2     4\n",
      "3     3\n",
      "4     3\n",
      "5     3\n",
      "6     3\n",
      "7     4\n",
      "8     4\n",
      "9     4\n",
      "10    4\n",
      "11    3\n",
      "12    3\n",
      "13    3\n",
      "14    3\n",
      "15    3\n",
      "16    3\n",
      "17    4\n",
      "18    4\n",
      "19    4\n",
      "20    3\n",
      "21    3\n",
      "22    3\n",
      "23    3\n",
      "24    3\n",
      "25    4\n",
      "26    5\n",
      "27    5\n",
      "28    5\n",
      "29    5\n",
      "30    5\n",
      "31    4\n",
      "Name: gear, dtype: object\n"
     ]
    }
   ],
   "source": [
    "# 위에서 출력을 확인하고, 의도대로 되었으면 바꾼다\n",
    "X['gear']= X['gear'].replace('*3','3').replace('*5','5')\n",
    "print(X['gear'])"
   ]
  },
  {
   "cell_type": "code",
   "execution_count": 264,
   "id": "75cb2c70",
   "metadata": {},
   "outputs": [
    {
     "data": {
      "text/plain": [
       "array(['4', '3', '5'], dtype=object)"
      ]
     },
     "execution_count": 264,
     "metadata": {},
     "output_type": "execute_result"
    }
   ],
   "source": [
    "X['gear'].unique()"
   ]
  },
  {
   "cell_type": "markdown",
   "id": "9a8e5da1",
   "metadata": {},
   "source": [
    "##### 이상치 처리\n",
    "p.242\n",
    "1. 데이터 스케일링\n",
    "2. 다른 값으로 교체\n",
    "- 사분범위(IQR= Q3 - Q1) 활용: Q3 + 1.5*IQR= Q3 + 1.5Q3 - 1.5Q1= 2.5Q3 - 1.5Q1"
   ]
  },
  {
   "cell_type": "code",
   "execution_count": 265,
   "id": "3c0d9480",
   "metadata": {},
   "outputs": [
    {
     "name": "stdout",
     "output_type": "stream",
     "text": [
      "             cyl        disp          hp       drat         wt        qsec  \\\n",
      "count  32.000000   32.000000   32.000000  32.000000  32.000000   32.000000   \n",
      "mean    7.600000  230.721875  146.687500   3.596563   3.217250   19.795938   \n",
      "std     7.925459  123.938694   68.562868   0.534679   0.978457   15.066831   \n",
      "min     4.000000   71.100000   52.000000   2.760000   1.513000    0.100000   \n",
      "25%     4.000000  120.825000   96.500000   3.080000   2.581250   16.827500   \n",
      "50%     6.000000  196.300000  123.000000   3.695000   3.325000   17.600000   \n",
      "75%     8.000000  326.000000  180.000000   3.920000   3.610000   18.682500   \n",
      "max    50.000000  472.000000  335.000000   4.930000   5.424000  100.000000   \n",
      "\n",
      "              vs     carb  \n",
      "count  32.000000  32.0000  \n",
      "mean    0.437500   2.8125  \n",
      "std     0.504016   1.6152  \n",
      "min     0.000000   1.0000  \n",
      "25%     0.000000   2.0000  \n",
      "50%     0.000000   2.0000  \n",
      "75%     1.000000   4.0000  \n",
      "max     1.000000   8.0000  \n"
     ]
    }
   ],
   "source": [
    "X_describe= X.describe()\n",
    "print(X_describe)"
   ]
  },
  {
   "cell_type": "markdown",
   "id": "d5c852da",
   "metadata": {},
   "source": [
    "#### 책 안 보고 하고 싶은대로 한 것\n",
    "복잡해서 기억하기 어려울 듯"
   ]
  },
  {
   "cell_type": "code",
   "execution_count": 266,
   "id": "25ea5916",
   "metadata": {
    "scrolled": true
   },
   "outputs": [
    {
     "name": "stdout",
     "output_type": "stream",
     "text": [
      "cyl       8.0000\n",
      "disp    326.0000\n",
      "hp      180.0000\n",
      "drat      3.9200\n",
      "wt        3.6100\n",
      "qsec     18.6825\n",
      "vs        1.0000\n",
      "carb      4.0000\n",
      "Name: 75%, dtype: float64\n",
      "cyl       4.00000\n",
      "disp    120.82500\n",
      "hp       96.50000\n",
      "drat      3.08000\n",
      "wt        2.58125\n",
      "qsec     16.82750\n",
      "vs        0.00000\n",
      "carb      2.00000\n",
      "Name: 25%, dtype: float64\n",
      "cyl       4.00000\n",
      "disp    205.17500\n",
      "hp       83.50000\n",
      "drat      0.84000\n",
      "wt        1.02875\n",
      "qsec      1.85500\n",
      "vs        1.00000\n",
      "carb      2.00000\n",
      "dtype: float64\n",
      "cyl      14.000000\n",
      "disp    633.762500\n",
      "hp      305.250000\n",
      "drat      5.180000\n",
      "wt        5.153125\n",
      "qsec     21.465000\n",
      "vs        2.500000\n",
      "carb      7.000000\n",
      "dtype: float64\n",
      "cyl      14.000000\n",
      "disp    633.762500\n",
      "hp      305.250000\n",
      "drat      5.180000\n",
      "wt        5.153125\n",
      "qsec     21.465000\n",
      "vs        2.500000\n",
      "carb      7.000000\n",
      "dtype: float64\n",
      "5.153125000000001\n",
      "cyl      True\n",
      "disp    False\n",
      "hp       True\n",
      "drat    False\n",
      "wt       True\n",
      "qsec     True\n",
      "vs      False\n",
      "carb     True\n",
      "dtype: bool\n",
      "Index(['cyl', 'hp', 'wt', 'qsec', 'carb'], dtype='object')\n",
      "cyl      14.000000\n",
      "disp    633.762500\n",
      "hp      305.250000\n",
      "drat      5.180000\n",
      "wt        5.153125\n",
      "qsec     21.465000\n",
      "vs        2.500000\n",
      "carb      7.000000\n",
      "dtype: float64\n",
      "\n",
      "Index(['cyl', 'hp', 'wt', 'qsec', 'carb'], dtype='object')\n",
      "\n",
      "     cyl   hp     wt    qsec  carb\n",
      "14  50.0  205  5.250   17.98     4\n",
      "15   8.0  215  5.424   17.82     4\n",
      "24   7.6  175  3.845  100.00     2\n",
      "30   8.0  335  3.570   14.60     8\n"
     ]
    }
   ],
   "source": [
    "X_Q3= X_describe.loc['75%']; print(X_Q3)\n",
    "X_Q1= X_describe.loc['25%']; print(X_Q1)\n",
    "\n",
    "X_IQR= X_describe.loc['75%'] - X_describe.loc['25%']; print(X_IQR)\n",
    "\n",
    "# 이상치: Q3 + 1.5 * IQR 을 초과하는 것\n",
    "# > 2.5*Q3 - 1.5Q1 을 초과하는 것. 왜 값이 다르지?? . Q3 +  ++++++++++++++++ !! 더하기다!\n",
    "\n",
    "# 빼기 아니고 더하기! print(X_describe.loc['75%'] - 1.5* X_IQR)\n",
    "print(X_describe.loc['75%'] + 1.5* X_IQR)\n",
    "\n",
    "print(2.5*X_Q3 - 1.5*X_Q1)\n",
    "\n",
    "outBoundary= 2.5*X_Q3 - 1.5*X_Q1 # 최대 경계값\n",
    "\n",
    "# X_describe.loc[:,X_describe.loc['max'] >= outBoundary] # 굳이?\n",
    "X_describe.loc['max'] >= outBoundary # 무슨 컬럼이 이상치가 있는지만 알면 충분\n",
    "\n",
    "# 실데이터 어디에 이상치가 있는지 확인\n",
    "\n",
    "# [dataframe compare series](https://stackoverflow.com/a/40889125) df.gt(s, axis=0)\n",
    "# - lt\n",
    "# gt\n",
    "# le\n",
    "# ge\n",
    "# ne\n",
    "# eq\n",
    "# - axis 1 0 뭔지?\n",
    "\n",
    "# X > outBoundary # deprecated 예정\n",
    "X.ge(outBoundary, axis=1) # 컬럼 살리고 행을 기준으로 값 비교. isnull().sum(1) 에서도 컬럼 살리고 행 합할 때 '1' 쓴다.\n",
    "# 전부 False 로 나옴. 의도한 게 아니다. X.ge(outBoundary, axis=0)\n",
    "\n",
    "# axis=1 확인용\n",
    "print(outBoundary['wt'])\n",
    "X.iloc[16:18]\n",
    "\n",
    "# help(X.ge) #axis : {0 or 'index', 1 or 'columns'}, default 'columns'\n",
    "\n",
    "# X.ge(outBoundary, axis='columns')\n",
    "X.ge(outBoundary)\n",
    "\n",
    "X.loc[X.ge(outBoundary, axis='columns').sum(axis='columns') != 0]\n",
    "\n",
    "# 뭘.. 하려고 했더라 >> [ max > 2.5Q3 - 1.5Q1 ]\n",
    "# - 이상치 있어보이는 컬럼만 보기\n",
    "# - 개별 값 말고 max 값만 Q3+1.5IQR 넘는 것\n",
    "\n",
    "X_describe= X.describe()\n",
    "outlierColsTF= X_describe.loc['max'] > 2.5*X_describe.loc['75%'] - 1.5*X_describe.loc['25%']\n",
    "print(outlierColsTF)\n",
    "\n",
    "# X.dtypes == object\n",
    "# X.loc[:,X.dtypes == object] # 열 조건 되는거 재확인\n",
    "\n",
    "outlierCols= X_describe.columns[outlierColsTF] # !!! T/F Columns 에서 Columns 이름 뽑아내는 방법\n",
    "print(outlierCols)\n",
    "# 안 되는 이유: X는 컬럼이 10개인데, X_describe는 8개라서. X.loc[:,outlierCols]\n",
    "\n",
    "# 내가 뭘.. 하려고 했더라2\n",
    "# 1. max 값이 최대경계값보다 큰 컬럼 알기\n",
    "# 2. 그 컬럼 중에서\n",
    "# 3. max 값이 들어있는 행만 보기\n",
    "\n",
    "outBoundary= 2.5*X_describe.loc['75%'] - 1.5*X_describe.loc['25%']; print(outBoundary) # 최대 경계값\n",
    "print()\n",
    "outlierCols= X_describe.columns[X_describe.loc['max'] >= outBoundary]; print(outlierCols)\n",
    "print()\n",
    "X_out= X[outlierCols]\n",
    "X_outlier_max= X_out[X_out.eq(X_describe.loc['max']).sum(1) !=0]\n",
    "print(X_outlier_max)\n",
    "\n",
    "# 이걸 시험장에서 어떻게 기억하누\n",
    "# X[outlierCols][X[outlierCols].eq(X_describe.loc['max'], axis='columns').sum(axis='columns') !=0]\n",
    "\n",
    "# 이렇게 간추리고도, 각 열에서 max 값이 뭔지 찾아야 한다."
   ]
  },
  {
   "cell_type": "markdown",
   "id": "4643ab23",
   "metadata": {},
   "source": [
    "### 책 대로 + 간편 계산\n",
    "p.246\n",
    "1. 사분위수로 이상치 찾기\n",
    "- 최대경계값 = Q3 + 1.5IQR = 2.5Q3 - 1.5Q1\n",
    "- 각 열 max 값 >= 최대경계값. 각각 보기!"
   ]
  },
  {
   "cell_type": "markdown",
   "id": "204f4f60",
   "metadata": {},
   "source": [
    "##### 이상치가 있을 것 같은 컬럼 확인"
   ]
  },
  {
   "cell_type": "code",
   "execution_count": 267,
   "id": "53255700",
   "metadata": {},
   "outputs": [
    {
     "name": "stdout",
     "output_type": "stream",
     "text": [
      "cyl      14.000000\n",
      "disp    633.762500\n",
      "hp      305.250000\n",
      "drat      5.180000\n",
      "wt        5.153125\n",
      "qsec     21.465000\n",
      "vs        2.500000\n",
      "carb      7.000000\n",
      "dtype: float64\n",
      "cyl      True\n",
      "disp    False\n",
      "hp       True\n",
      "drat    False\n",
      "wt       True\n",
      "qsec     True\n",
      "vs      False\n",
      "carb     True\n",
      "dtype: bool\n"
     ]
    }
   ],
   "source": [
    "X_desc= X.describe()\n",
    "outBoundaryMax= 2.5*X_desc.loc['75%'] - 1.5*X_desc.loc['25%']\n",
    "print(outBoundaryMax)\n",
    "outColsTF= X_desc.loc['max'] >= outBoundaryMax\n",
    "print(outColsTF)"
   ]
  },
  {
   "cell_type": "markdown",
   "id": "c094b755",
   "metadata": {},
   "source": [
    "cyl, hp, wt, qsec, carb"
   ]
  },
  {
   "cell_type": "code",
   "execution_count": 268,
   "id": "9c506694",
   "metadata": {},
   "outputs": [],
   "source": [
    "# Max 를 굳이 찾을 필요가 없다\n",
    "# float equal 계산을 믿니?\n",
    "\n",
    "# outColsMax= X_desc.loc['max'][outColsTF]\n",
    "# print(outColsMax)\n",
    "#print(type(outColsMax)) # Series\n",
    "# for idx, _ in zip(outColsMax.index, outColsMax):"
   ]
  },
  {
   "cell_type": "markdown",
   "id": "5259149f",
   "metadata": {},
   "source": [
    "컬럼 별로 각각 최대경계값 이상인 행 찾기"
   ]
  },
  {
   "cell_type": "code",
   "execution_count": 269,
   "id": "112455eb",
   "metadata": {},
   "outputs": [
    {
     "name": "stdout",
     "output_type": "stream",
     "text": [
      "     cyl   disp   hp  drat    wt   qsec  vs    am gear  carb\n",
      "14  50.0  472.0  205  2.93  5.25  17.98   0  auto    3     4\n"
     ]
    }
   ],
   "source": [
    "print(X.loc[X['cyl'] >= outBoundaryMax['cyl']])"
   ]
  },
  {
   "cell_type": "code",
   "execution_count": 270,
   "id": "e1d1822a",
   "metadata": {},
   "outputs": [
    {
     "name": "stdout",
     "output_type": "stream",
     "text": [
      "Index(['cyl', 'hp', 'wt', 'qsec', 'carb'], dtype='object')\n",
      "cyl:\n",
      "     cyl   disp   hp  drat    wt   qsec  vs    am gear  carb\n",
      "14  50.0  472.0  205  2.93  5.25  17.98   0  auto    3     4\n",
      "\n",
      "hp:\n",
      "    cyl   disp   hp  drat    wt  qsec  vs      am gear  carb\n",
      "30  8.0  301.0  335  3.54  3.57  14.6   0  manual    5     8\n",
      "\n",
      "wt:\n",
      "     cyl   disp   hp  drat     wt   qsec  vs    am gear  carb\n",
      "14  50.0  472.0  205  2.93  5.250  17.98   0  auto    3     4\n",
      "15   8.0  460.0  215  3.00  5.424  17.82   0  auto    3     4\n",
      "16   8.0  440.0  230  3.23  5.345  17.42   0  auto    3     4\n",
      "\n",
      "qsec:\n",
      "    cyl   disp   hp  drat     wt   qsec  vs    am gear  carb\n",
      "8   4.0  140.8   95  3.92  3.150   22.9   1  auto    4     2\n",
      "24  7.6  400.0  175  3.08  3.845  100.0   0  auto    3     2\n",
      "\n",
      "carb:\n",
      "    cyl   disp   hp  drat    wt  qsec  vs      am gear  carb\n",
      "30  8.0  301.0  335  3.54  3.57  14.6   0  manual    5     8\n",
      "\n"
     ]
    }
   ],
   "source": [
    "outCols= X_desc.columns[outColsTF]; print(outCols)\n",
    "for col in outCols:\n",
    "    print(f\"{col}:\\n{X.loc[X[col] >= outBoundaryMax[col]]}\\n\")"
   ]
  },
  {
   "cell_type": "markdown",
   "id": "91b900e1",
   "metadata": {},
   "source": [
    "### 이상치 처리- 사분위수- cyl, hp\n",
    "p.246. 바로 위 결과를 눈으로 보며."
   ]
  },
  {
   "cell_type": "code",
   "execution_count": 271,
   "id": "ec4f2b98",
   "metadata": {},
   "outputs": [
    {
     "data": {
      "text/plain": [
       "50.0"
      ]
     },
     "execution_count": 271,
     "metadata": {},
     "output_type": "execute_result"
    }
   ],
   "source": [
    "X.loc[14,'cyl']"
   ]
  },
  {
   "cell_type": "code",
   "execution_count": 272,
   "id": "b9c9e2d4",
   "metadata": {
    "scrolled": true
   },
   "outputs": [
    {
     "data": {
      "text/plain": [
       "14.0"
      ]
     },
     "execution_count": 272,
     "metadata": {},
     "output_type": "execute_result"
    }
   ],
   "source": [
    "outBoundaryMax['cyl']"
   ]
  },
  {
   "cell_type": "code",
   "execution_count": 273,
   "id": "cf787efd",
   "metadata": {},
   "outputs": [],
   "source": [
    "#outBoundaryMax= 2.5*X_desc.loc['75%'] - 1.5*X_desc.loc['25%'] #X_desc= X.describe()\n",
    "X.loc[14,'cyl']= outBoundaryMax['cyl']"
   ]
  },
  {
   "cell_type": "code",
   "execution_count": 274,
   "id": "afc2d4f7",
   "metadata": {},
   "outputs": [
    {
     "data": {
      "text/plain": [
       "14.0"
      ]
     },
     "execution_count": 274,
     "metadata": {},
     "output_type": "execute_result"
    }
   ],
   "source": [
    "X.loc[14,'cyl'] # 확인"
   ]
  },
  {
   "cell_type": "code",
   "execution_count": 275,
   "id": "02f0299c",
   "metadata": {},
   "outputs": [
    {
     "data": {
      "text/plain": [
       "335"
      ]
     },
     "execution_count": 275,
     "metadata": {},
     "output_type": "execute_result"
    }
   ],
   "source": [
    "X.loc[30,'hp']"
   ]
  },
  {
   "cell_type": "code",
   "execution_count": 276,
   "id": "560a7267",
   "metadata": {},
   "outputs": [
    {
     "data": {
      "text/plain": [
       "305.25"
      ]
     },
     "execution_count": 276,
     "metadata": {},
     "output_type": "execute_result"
    }
   ],
   "source": [
    "outBoundaryMax['hp']"
   ]
  },
  {
   "cell_type": "code",
   "execution_count": 277,
   "id": "46b59869",
   "metadata": {},
   "outputs": [
    {
     "name": "stdout",
     "output_type": "stream",
     "text": [
      "305.25\n"
     ]
    }
   ],
   "source": [
    "X.loc[30,'hp']= outBoundaryMax['hp']\n",
    "print(X.loc[30,'hp'])"
   ]
  },
  {
   "cell_type": "markdown",
   "id": "8f21f281",
   "metadata": {},
   "source": [
    "(최대 경계값: Q3 + 1.5*IQR) <= Max"
   ]
  },
  {
   "cell_type": "markdown",
   "id": "795ce5f6",
   "metadata": {},
   "source": [
    "(최소 경계값: Q1 - 1.5*IQR) >= min"
   ]
  },
  {
   "cell_type": "code",
   "execution_count": 278,
   "id": "82a9c0e3",
   "metadata": {},
   "outputs": [
    {
     "name": "stdout",
     "output_type": "stream",
     "text": [
      "cyl      -2.000000\n",
      "disp   -186.937500\n",
      "hp      -28.750000\n",
      "drat      1.820000\n",
      "wt        1.038125\n",
      "qsec     14.045000\n",
      "vs       -1.500000\n",
      "carb     -1.000000\n",
      "dtype: float64\n"
     ]
    }
   ],
   "source": [
    "outBoundaryMin= X_desc.loc['25%'] - 1.5 * (X_desc.loc['75%'] - X_desc.loc['25%'])\n",
    "print(outBoundaryMin)"
   ]
  },
  {
   "cell_type": "code",
   "execution_count": 279,
   "id": "d5555c18",
   "metadata": {},
   "outputs": [
    {
     "data": {
      "text/plain": [
       "cyl     False\n",
       "disp    False\n",
       "hp      False\n",
       "drat    False\n",
       "wt      False\n",
       "qsec     True\n",
       "vs      False\n",
       "carb    False\n",
       "dtype: bool"
      ]
     },
     "execution_count": 279,
     "metadata": {},
     "output_type": "execute_result"
    }
   ],
   "source": [
    "X_desc.loc['min'] <= outBoundaryMin"
   ]
  },
  {
   "cell_type": "markdown",
   "id": "a2dec67a",
   "metadata": {},
   "source": [
    "### 이상치 처리- 평균 표준편차- qsec, carb\n",
    "p.249"
   ]
  },
  {
   "cell_type": "markdown",
   "id": "8ad5a2f2",
   "metadata": {},
   "source": [
    "- 최대경계값: mean + 1.5*std. 이것보다 크면 이상치\n",
    "- 최소경계값: mean - 1.5*std. 보다 작으면 이상치"
   ]
  },
  {
   "cell_type": "code",
   "execution_count": 280,
   "id": "2986c8fb",
   "metadata": {},
   "outputs": [
    {
     "data": {
      "text/plain": [
       "mpg      20.090625\n",
       "cyl       7.600000\n",
       "disp    230.721875\n",
       "hp      146.687500\n",
       "drat      3.596563\n",
       "wt        3.217250\n",
       "qsec     19.866774\n",
       "vs        0.437500\n",
       "carb      2.812500\n",
       "dtype: float64"
      ]
     },
     "execution_count": 280,
     "metadata": {},
     "output_type": "execute_result"
    }
   ],
   "source": [
    "# help(data.mean()) # numeric_only default True is deprecated. 추후 None 으로 바뀔 것\n",
    "data.mean(numeric_only=True)\n",
    "# data.loc[:,data.dtypes != object].mean()"
   ]
  },
  {
   "cell_type": "code",
   "execution_count": 281,
   "id": "3e23f191",
   "metadata": {},
   "outputs": [],
   "source": [
    "#Error! Series 에는 이런 인자 없다. data['mpg'].std(numeric_only=True)"
   ]
  },
  {
   "cell_type": "code",
   "execution_count": 282,
   "id": "2149ecae",
   "metadata": {},
   "outputs": [],
   "source": [
    "def outlierMeanStd(data, column):\n",
    "    mean= data[column].mean()\n",
    "    std= data[column].std()\n",
    "    minBoundary= mean - 1.5*std\n",
    "    maxBoundary= mean + 1.5*std\n",
    "    print(f\"최소경계값: {minBoundary}, 최대경계값: {maxBoundary}\")\n",
    "    outlier_index= data[column][ (data[column] < minBoundary) | (maxBoundary < data[column]) ].index\n",
    "    return outlier_index"
   ]
  },
  {
   "cell_type": "code",
   "execution_count": 283,
   "id": "cd2386e2",
   "metadata": {},
   "outputs": [],
   "source": [
    "def outlierMeanStdReplace(data, column):\n",
    "    mean= data[column].mean()\n",
    "    std= data[column].std()\n",
    "    minBoundary= mean - 1.5*std\n",
    "    maxBoundary= mean + 1.5*std\n",
    "    print(f\"최소경계값: {minBoundary}, 최대경계값: {maxBoundary}\")\n",
    "    \n",
    "    minBoundaryOver= data[column] < minBoundary\n",
    "    maxBoundaryOver= maxBoundary < data[column]\n",
    "    outlier= data[column][ minBoundaryOver | maxBoundaryOver ] # 자체가 value. 가져온다면 .index\n",
    "    print(f\"이상치 idx 값: {outlier}\")\n",
    "    \n",
    "    # 둘 다 걸릴 수 있다\n",
    "    if minBoundaryOver.sum():\n",
    "        data.loc[outlier.index, column]= minBoundary\n",
    "    if maxBoundaryOver.sum():\n",
    "        data.loc[outlier.index, column]= maxBoundary\n",
    "    \n",
    "    return data"
   ]
  },
  {
   "cell_type": "code",
   "execution_count": 284,
   "id": "5debc874",
   "metadata": {},
   "outputs": [
    {
     "name": "stdout",
     "output_type": "stream",
     "text": [
      "0\n"
     ]
    },
    {
     "data": {
      "text/plain": [
       "1"
      ]
     },
     "execution_count": 284,
     "metadata": {},
     "output_type": "execute_result"
    }
   ],
   "source": [
    "print((data[column] < minBoundary).sum())\n",
    "(maxBoundary < data[column]).sum()"
   ]
  },
  {
   "cell_type": "code",
   "execution_count": 285,
   "id": "469db6c5",
   "metadata": {},
   "outputs": [
    {
     "name": "stdout",
     "output_type": "stream",
     "text": [
      "최소경계값: -2.8043094560577657, 최대경계값: 42.39618445605777\n"
     ]
    },
    {
     "data": {
      "text/plain": [
       "Int64Index([24], dtype='int64')"
      ]
     },
     "execution_count": 285,
     "metadata": {},
     "output_type": "execute_result"
    }
   ],
   "source": [
    "outlierMeanStd(X, 'qsec')"
   ]
  },
  {
   "cell_type": "code",
   "execution_count": 286,
   "id": "a54636e6",
   "metadata": {},
   "outputs": [
    {
     "data": {
      "text/html": [
       "<div>\n",
       "<style scoped>\n",
       "    .dataframe tbody tr th:only-of-type {\n",
       "        vertical-align: middle;\n",
       "    }\n",
       "\n",
       "    .dataframe tbody tr th {\n",
       "        vertical-align: top;\n",
       "    }\n",
       "\n",
       "    .dataframe thead th {\n",
       "        text-align: right;\n",
       "    }\n",
       "</style>\n",
       "<table border=\"1\" class=\"dataframe\">\n",
       "  <thead>\n",
       "    <tr style=\"text-align: right;\">\n",
       "      <th></th>\n",
       "      <th>cyl</th>\n",
       "      <th>disp</th>\n",
       "      <th>hp</th>\n",
       "      <th>drat</th>\n",
       "      <th>wt</th>\n",
       "      <th>qsec</th>\n",
       "      <th>vs</th>\n",
       "      <th>carb</th>\n",
       "    </tr>\n",
       "  </thead>\n",
       "  <tbody>\n",
       "    <tr>\n",
       "      <th>count</th>\n",
       "      <td>32.000000</td>\n",
       "      <td>32.000000</td>\n",
       "      <td>32.000000</td>\n",
       "      <td>32.000000</td>\n",
       "      <td>32.000000</td>\n",
       "      <td>32.000000</td>\n",
       "      <td>32.000000</td>\n",
       "      <td>32.0000</td>\n",
       "    </tr>\n",
       "    <tr>\n",
       "      <th>mean</th>\n",
       "      <td>6.475000</td>\n",
       "      <td>230.721875</td>\n",
       "      <td>145.757812</td>\n",
       "      <td>3.596563</td>\n",
       "      <td>3.217250</td>\n",
       "      <td>19.795938</td>\n",
       "      <td>0.437500</td>\n",
       "      <td>2.8125</td>\n",
       "    </tr>\n",
       "    <tr>\n",
       "      <th>std</th>\n",
       "      <td>2.198973</td>\n",
       "      <td>123.938694</td>\n",
       "      <td>66.083936</td>\n",
       "      <td>0.534679</td>\n",
       "      <td>0.978457</td>\n",
       "      <td>15.066831</td>\n",
       "      <td>0.504016</td>\n",
       "      <td>1.6152</td>\n",
       "    </tr>\n",
       "    <tr>\n",
       "      <th>min</th>\n",
       "      <td>4.000000</td>\n",
       "      <td>71.100000</td>\n",
       "      <td>52.000000</td>\n",
       "      <td>2.760000</td>\n",
       "      <td>1.513000</td>\n",
       "      <td>0.100000</td>\n",
       "      <td>0.000000</td>\n",
       "      <td>1.0000</td>\n",
       "    </tr>\n",
       "    <tr>\n",
       "      <th>25%</th>\n",
       "      <td>4.000000</td>\n",
       "      <td>120.825000</td>\n",
       "      <td>96.500000</td>\n",
       "      <td>3.080000</td>\n",
       "      <td>2.581250</td>\n",
       "      <td>16.827500</td>\n",
       "      <td>0.000000</td>\n",
       "      <td>2.0000</td>\n",
       "    </tr>\n",
       "    <tr>\n",
       "      <th>50%</th>\n",
       "      <td>6.000000</td>\n",
       "      <td>196.300000</td>\n",
       "      <td>123.000000</td>\n",
       "      <td>3.695000</td>\n",
       "      <td>3.325000</td>\n",
       "      <td>17.600000</td>\n",
       "      <td>0.000000</td>\n",
       "      <td>2.0000</td>\n",
       "    </tr>\n",
       "    <tr>\n",
       "      <th>75%</th>\n",
       "      <td>8.000000</td>\n",
       "      <td>326.000000</td>\n",
       "      <td>180.000000</td>\n",
       "      <td>3.920000</td>\n",
       "      <td>3.610000</td>\n",
       "      <td>18.682500</td>\n",
       "      <td>1.000000</td>\n",
       "      <td>4.0000</td>\n",
       "    </tr>\n",
       "    <tr>\n",
       "      <th>max</th>\n",
       "      <td>14.000000</td>\n",
       "      <td>472.000000</td>\n",
       "      <td>305.250000</td>\n",
       "      <td>4.930000</td>\n",
       "      <td>5.424000</td>\n",
       "      <td>100.000000</td>\n",
       "      <td>1.000000</td>\n",
       "      <td>8.0000</td>\n",
       "    </tr>\n",
       "  </tbody>\n",
       "</table>\n",
       "</div>"
      ],
      "text/plain": [
       "             cyl        disp          hp       drat         wt        qsec  \\\n",
       "count  32.000000   32.000000   32.000000  32.000000  32.000000   32.000000   \n",
       "mean    6.475000  230.721875  145.757812   3.596563   3.217250   19.795938   \n",
       "std     2.198973  123.938694   66.083936   0.534679   0.978457   15.066831   \n",
       "min     4.000000   71.100000   52.000000   2.760000   1.513000    0.100000   \n",
       "25%     4.000000  120.825000   96.500000   3.080000   2.581250   16.827500   \n",
       "50%     6.000000  196.300000  123.000000   3.695000   3.325000   17.600000   \n",
       "75%     8.000000  326.000000  180.000000   3.920000   3.610000   18.682500   \n",
       "max    14.000000  472.000000  305.250000   4.930000   5.424000  100.000000   \n",
       "\n",
       "              vs     carb  \n",
       "count  32.000000  32.0000  \n",
       "mean    0.437500   2.8125  \n",
       "std     0.504016   1.6152  \n",
       "min     0.000000   1.0000  \n",
       "25%     0.000000   2.0000  \n",
       "50%     0.000000   2.0000  \n",
       "75%     1.000000   4.0000  \n",
       "max     1.000000   8.0000  "
      ]
     },
     "execution_count": 286,
     "metadata": {},
     "output_type": "execute_result"
    }
   ],
   "source": [
    "X.describe()"
   ]
  },
  {
   "cell_type": "code",
   "execution_count": 287,
   "id": "98729521",
   "metadata": {},
   "outputs": [
    {
     "name": "stdout",
     "output_type": "stream",
     "text": [
      "최소경계값: -2.8043094560577657, 최대경계값: 42.39618445605777\n"
     ]
    },
    {
     "data": {
      "text/plain": [
       "24    100.0\n",
       "Name: qsec, dtype: float64"
      ]
     },
     "execution_count": 287,
     "metadata": {},
     "output_type": "execute_result"
    }
   ],
   "source": [
    "X.loc[outlierMeanStd(X, 'qsec'), 'qsec']"
   ]
  },
  {
   "cell_type": "code",
   "execution_count": 288,
   "id": "3faf42a7",
   "metadata": {},
   "outputs": [
    {
     "name": "stdout",
     "output_type": "stream",
     "text": [
      "최소경계값: -2.8043094560577657, 최대경계값: 42.39618445605777\n",
      "이상치 idx 값: 24    100.0\n",
      "Name: qsec, dtype: float64\n"
     ]
    },
    {
     "data": {
      "text/html": [
       "<div>\n",
       "<style scoped>\n",
       "    .dataframe tbody tr th:only-of-type {\n",
       "        vertical-align: middle;\n",
       "    }\n",
       "\n",
       "    .dataframe tbody tr th {\n",
       "        vertical-align: top;\n",
       "    }\n",
       "\n",
       "    .dataframe thead th {\n",
       "        text-align: right;\n",
       "    }\n",
       "</style>\n",
       "<table border=\"1\" class=\"dataframe\">\n",
       "  <thead>\n",
       "    <tr style=\"text-align: right;\">\n",
       "      <th></th>\n",
       "      <th>cyl</th>\n",
       "      <th>disp</th>\n",
       "      <th>hp</th>\n",
       "      <th>drat</th>\n",
       "      <th>wt</th>\n",
       "      <th>qsec</th>\n",
       "      <th>vs</th>\n",
       "      <th>am</th>\n",
       "      <th>gear</th>\n",
       "      <th>carb</th>\n",
       "    </tr>\n",
       "  </thead>\n",
       "  <tbody>\n",
       "    <tr>\n",
       "      <th>0</th>\n",
       "      <td>6.0</td>\n",
       "      <td>160.0</td>\n",
       "      <td>110.00</td>\n",
       "      <td>3.90</td>\n",
       "      <td>2.620</td>\n",
       "      <td>16.460000</td>\n",
       "      <td>0</td>\n",
       "      <td>manual</td>\n",
       "      <td>4</td>\n",
       "      <td>4</td>\n",
       "    </tr>\n",
       "    <tr>\n",
       "      <th>1</th>\n",
       "      <td>6.0</td>\n",
       "      <td>160.0</td>\n",
       "      <td>110.00</td>\n",
       "      <td>3.90</td>\n",
       "      <td>2.875</td>\n",
       "      <td>17.020000</td>\n",
       "      <td>0</td>\n",
       "      <td>manual</td>\n",
       "      <td>4</td>\n",
       "      <td>4</td>\n",
       "    </tr>\n",
       "    <tr>\n",
       "      <th>2</th>\n",
       "      <td>4.0</td>\n",
       "      <td>108.0</td>\n",
       "      <td>93.00</td>\n",
       "      <td>3.85</td>\n",
       "      <td>2.320</td>\n",
       "      <td>18.610000</td>\n",
       "      <td>1</td>\n",
       "      <td>manual</td>\n",
       "      <td>4</td>\n",
       "      <td>1</td>\n",
       "    </tr>\n",
       "    <tr>\n",
       "      <th>3</th>\n",
       "      <td>6.0</td>\n",
       "      <td>258.0</td>\n",
       "      <td>110.00</td>\n",
       "      <td>3.08</td>\n",
       "      <td>3.215</td>\n",
       "      <td>0.100000</td>\n",
       "      <td>1</td>\n",
       "      <td>auto</td>\n",
       "      <td>3</td>\n",
       "      <td>1</td>\n",
       "    </tr>\n",
       "    <tr>\n",
       "      <th>4</th>\n",
       "      <td>8.0</td>\n",
       "      <td>360.0</td>\n",
       "      <td>175.00</td>\n",
       "      <td>3.15</td>\n",
       "      <td>3.440</td>\n",
       "      <td>17.020000</td>\n",
       "      <td>0</td>\n",
       "      <td>auto</td>\n",
       "      <td>3</td>\n",
       "      <td>2</td>\n",
       "    </tr>\n",
       "    <tr>\n",
       "      <th>5</th>\n",
       "      <td>6.0</td>\n",
       "      <td>225.0</td>\n",
       "      <td>105.00</td>\n",
       "      <td>2.76</td>\n",
       "      <td>3.460</td>\n",
       "      <td>20.220000</td>\n",
       "      <td>1</td>\n",
       "      <td>auto</td>\n",
       "      <td>3</td>\n",
       "      <td>1</td>\n",
       "    </tr>\n",
       "    <tr>\n",
       "      <th>6</th>\n",
       "      <td>8.0</td>\n",
       "      <td>360.0</td>\n",
       "      <td>245.00</td>\n",
       "      <td>3.21</td>\n",
       "      <td>3.570</td>\n",
       "      <td>15.840000</td>\n",
       "      <td>0</td>\n",
       "      <td>auto</td>\n",
       "      <td>3</td>\n",
       "      <td>4</td>\n",
       "    </tr>\n",
       "    <tr>\n",
       "      <th>7</th>\n",
       "      <td>7.6</td>\n",
       "      <td>146.7</td>\n",
       "      <td>62.00</td>\n",
       "      <td>3.69</td>\n",
       "      <td>3.190</td>\n",
       "      <td>20.000000</td>\n",
       "      <td>1</td>\n",
       "      <td>auto</td>\n",
       "      <td>4</td>\n",
       "      <td>2</td>\n",
       "    </tr>\n",
       "    <tr>\n",
       "      <th>8</th>\n",
       "      <td>4.0</td>\n",
       "      <td>140.8</td>\n",
       "      <td>95.00</td>\n",
       "      <td>3.92</td>\n",
       "      <td>3.150</td>\n",
       "      <td>22.900000</td>\n",
       "      <td>1</td>\n",
       "      <td>auto</td>\n",
       "      <td>4</td>\n",
       "      <td>2</td>\n",
       "    </tr>\n",
       "    <tr>\n",
       "      <th>9</th>\n",
       "      <td>6.0</td>\n",
       "      <td>167.6</td>\n",
       "      <td>123.00</td>\n",
       "      <td>3.92</td>\n",
       "      <td>3.440</td>\n",
       "      <td>18.300000</td>\n",
       "      <td>1</td>\n",
       "      <td>auto</td>\n",
       "      <td>4</td>\n",
       "      <td>4</td>\n",
       "    </tr>\n",
       "    <tr>\n",
       "      <th>10</th>\n",
       "      <td>6.0</td>\n",
       "      <td>167.6</td>\n",
       "      <td>123.00</td>\n",
       "      <td>3.92</td>\n",
       "      <td>3.440</td>\n",
       "      <td>17.600000</td>\n",
       "      <td>1</td>\n",
       "      <td>auto</td>\n",
       "      <td>4</td>\n",
       "      <td>4</td>\n",
       "    </tr>\n",
       "    <tr>\n",
       "      <th>11</th>\n",
       "      <td>8.0</td>\n",
       "      <td>275.8</td>\n",
       "      <td>180.00</td>\n",
       "      <td>3.07</td>\n",
       "      <td>4.070</td>\n",
       "      <td>17.400000</td>\n",
       "      <td>0</td>\n",
       "      <td>auto</td>\n",
       "      <td>3</td>\n",
       "      <td>3</td>\n",
       "    </tr>\n",
       "    <tr>\n",
       "      <th>12</th>\n",
       "      <td>8.0</td>\n",
       "      <td>275.8</td>\n",
       "      <td>180.00</td>\n",
       "      <td>3.07</td>\n",
       "      <td>3.730</td>\n",
       "      <td>17.600000</td>\n",
       "      <td>0</td>\n",
       "      <td>auto</td>\n",
       "      <td>3</td>\n",
       "      <td>3</td>\n",
       "    </tr>\n",
       "    <tr>\n",
       "      <th>13</th>\n",
       "      <td>8.0</td>\n",
       "      <td>275.8</td>\n",
       "      <td>180.00</td>\n",
       "      <td>3.07</td>\n",
       "      <td>3.780</td>\n",
       "      <td>18.000000</td>\n",
       "      <td>0</td>\n",
       "      <td>auto</td>\n",
       "      <td>3</td>\n",
       "      <td>3</td>\n",
       "    </tr>\n",
       "    <tr>\n",
       "      <th>14</th>\n",
       "      <td>14.0</td>\n",
       "      <td>472.0</td>\n",
       "      <td>205.00</td>\n",
       "      <td>2.93</td>\n",
       "      <td>5.250</td>\n",
       "      <td>17.980000</td>\n",
       "      <td>0</td>\n",
       "      <td>auto</td>\n",
       "      <td>3</td>\n",
       "      <td>4</td>\n",
       "    </tr>\n",
       "    <tr>\n",
       "      <th>15</th>\n",
       "      <td>8.0</td>\n",
       "      <td>460.0</td>\n",
       "      <td>215.00</td>\n",
       "      <td>3.00</td>\n",
       "      <td>5.424</td>\n",
       "      <td>17.820000</td>\n",
       "      <td>0</td>\n",
       "      <td>auto</td>\n",
       "      <td>3</td>\n",
       "      <td>4</td>\n",
       "    </tr>\n",
       "    <tr>\n",
       "      <th>16</th>\n",
       "      <td>8.0</td>\n",
       "      <td>440.0</td>\n",
       "      <td>230.00</td>\n",
       "      <td>3.23</td>\n",
       "      <td>5.345</td>\n",
       "      <td>17.420000</td>\n",
       "      <td>0</td>\n",
       "      <td>auto</td>\n",
       "      <td>3</td>\n",
       "      <td>4</td>\n",
       "    </tr>\n",
       "    <tr>\n",
       "      <th>17</th>\n",
       "      <td>4.0</td>\n",
       "      <td>78.7</td>\n",
       "      <td>66.00</td>\n",
       "      <td>4.08</td>\n",
       "      <td>2.200</td>\n",
       "      <td>19.470000</td>\n",
       "      <td>1</td>\n",
       "      <td>manual</td>\n",
       "      <td>4</td>\n",
       "      <td>1</td>\n",
       "    </tr>\n",
       "    <tr>\n",
       "      <th>18</th>\n",
       "      <td>4.0</td>\n",
       "      <td>75.7</td>\n",
       "      <td>52.00</td>\n",
       "      <td>4.93</td>\n",
       "      <td>1.615</td>\n",
       "      <td>18.520000</td>\n",
       "      <td>1</td>\n",
       "      <td>manual</td>\n",
       "      <td>4</td>\n",
       "      <td>2</td>\n",
       "    </tr>\n",
       "    <tr>\n",
       "      <th>19</th>\n",
       "      <td>4.0</td>\n",
       "      <td>71.1</td>\n",
       "      <td>65.00</td>\n",
       "      <td>4.22</td>\n",
       "      <td>1.835</td>\n",
       "      <td>19.900000</td>\n",
       "      <td>1</td>\n",
       "      <td>manual</td>\n",
       "      <td>4</td>\n",
       "      <td>1</td>\n",
       "    </tr>\n",
       "    <tr>\n",
       "      <th>20</th>\n",
       "      <td>4.0</td>\n",
       "      <td>120.1</td>\n",
       "      <td>97.00</td>\n",
       "      <td>3.70</td>\n",
       "      <td>2.465</td>\n",
       "      <td>20.010000</td>\n",
       "      <td>1</td>\n",
       "      <td>auto</td>\n",
       "      <td>3</td>\n",
       "      <td>1</td>\n",
       "    </tr>\n",
       "    <tr>\n",
       "      <th>21</th>\n",
       "      <td>8.0</td>\n",
       "      <td>318.0</td>\n",
       "      <td>150.00</td>\n",
       "      <td>2.76</td>\n",
       "      <td>3.520</td>\n",
       "      <td>16.870000</td>\n",
       "      <td>0</td>\n",
       "      <td>auto</td>\n",
       "      <td>3</td>\n",
       "      <td>2</td>\n",
       "    </tr>\n",
       "    <tr>\n",
       "      <th>22</th>\n",
       "      <td>8.0</td>\n",
       "      <td>304.0</td>\n",
       "      <td>150.00</td>\n",
       "      <td>3.15</td>\n",
       "      <td>3.435</td>\n",
       "      <td>17.300000</td>\n",
       "      <td>0</td>\n",
       "      <td>auto</td>\n",
       "      <td>3</td>\n",
       "      <td>2</td>\n",
       "    </tr>\n",
       "    <tr>\n",
       "      <th>23</th>\n",
       "      <td>8.0</td>\n",
       "      <td>350.0</td>\n",
       "      <td>245.00</td>\n",
       "      <td>3.73</td>\n",
       "      <td>3.840</td>\n",
       "      <td>15.410000</td>\n",
       "      <td>0</td>\n",
       "      <td>auto</td>\n",
       "      <td>3</td>\n",
       "      <td>4</td>\n",
       "    </tr>\n",
       "    <tr>\n",
       "      <th>24</th>\n",
       "      <td>7.6</td>\n",
       "      <td>400.0</td>\n",
       "      <td>175.00</td>\n",
       "      <td>3.08</td>\n",
       "      <td>3.845</td>\n",
       "      <td>42.396184</td>\n",
       "      <td>0</td>\n",
       "      <td>auto</td>\n",
       "      <td>3</td>\n",
       "      <td>2</td>\n",
       "    </tr>\n",
       "    <tr>\n",
       "      <th>25</th>\n",
       "      <td>4.0</td>\n",
       "      <td>79.0</td>\n",
       "      <td>66.00</td>\n",
       "      <td>4.08</td>\n",
       "      <td>1.935</td>\n",
       "      <td>18.900000</td>\n",
       "      <td>1</td>\n",
       "      <td>manual</td>\n",
       "      <td>4</td>\n",
       "      <td>1</td>\n",
       "    </tr>\n",
       "    <tr>\n",
       "      <th>26</th>\n",
       "      <td>4.0</td>\n",
       "      <td>120.3</td>\n",
       "      <td>91.00</td>\n",
       "      <td>4.43</td>\n",
       "      <td>2.140</td>\n",
       "      <td>16.700000</td>\n",
       "      <td>0</td>\n",
       "      <td>manual</td>\n",
       "      <td>5</td>\n",
       "      <td>2</td>\n",
       "    </tr>\n",
       "    <tr>\n",
       "      <th>27</th>\n",
       "      <td>4.0</td>\n",
       "      <td>95.1</td>\n",
       "      <td>113.00</td>\n",
       "      <td>3.77</td>\n",
       "      <td>1.513</td>\n",
       "      <td>16.900000</td>\n",
       "      <td>1</td>\n",
       "      <td>manual</td>\n",
       "      <td>5</td>\n",
       "      <td>2</td>\n",
       "    </tr>\n",
       "    <tr>\n",
       "      <th>28</th>\n",
       "      <td>8.0</td>\n",
       "      <td>351.0</td>\n",
       "      <td>264.00</td>\n",
       "      <td>4.22</td>\n",
       "      <td>3.170</td>\n",
       "      <td>14.500000</td>\n",
       "      <td>0</td>\n",
       "      <td>manual</td>\n",
       "      <td>5</td>\n",
       "      <td>4</td>\n",
       "    </tr>\n",
       "    <tr>\n",
       "      <th>29</th>\n",
       "      <td>6.0</td>\n",
       "      <td>145.0</td>\n",
       "      <td>175.00</td>\n",
       "      <td>3.62</td>\n",
       "      <td>2.770</td>\n",
       "      <td>15.500000</td>\n",
       "      <td>0</td>\n",
       "      <td>manual</td>\n",
       "      <td>5</td>\n",
       "      <td>6</td>\n",
       "    </tr>\n",
       "    <tr>\n",
       "      <th>30</th>\n",
       "      <td>8.0</td>\n",
       "      <td>301.0</td>\n",
       "      <td>305.25</td>\n",
       "      <td>3.54</td>\n",
       "      <td>3.570</td>\n",
       "      <td>14.600000</td>\n",
       "      <td>0</td>\n",
       "      <td>manual</td>\n",
       "      <td>5</td>\n",
       "      <td>8</td>\n",
       "    </tr>\n",
       "    <tr>\n",
       "      <th>31</th>\n",
       "      <td>4.0</td>\n",
       "      <td>121.0</td>\n",
       "      <td>109.00</td>\n",
       "      <td>4.11</td>\n",
       "      <td>2.780</td>\n",
       "      <td>18.600000</td>\n",
       "      <td>1</td>\n",
       "      <td>manual</td>\n",
       "      <td>4</td>\n",
       "      <td>2</td>\n",
       "    </tr>\n",
       "  </tbody>\n",
       "</table>\n",
       "</div>"
      ],
      "text/plain": [
       "     cyl   disp      hp  drat     wt       qsec  vs      am gear  carb\n",
       "0    6.0  160.0  110.00  3.90  2.620  16.460000   0  manual    4     4\n",
       "1    6.0  160.0  110.00  3.90  2.875  17.020000   0  manual    4     4\n",
       "2    4.0  108.0   93.00  3.85  2.320  18.610000   1  manual    4     1\n",
       "3    6.0  258.0  110.00  3.08  3.215   0.100000   1    auto    3     1\n",
       "4    8.0  360.0  175.00  3.15  3.440  17.020000   0    auto    3     2\n",
       "5    6.0  225.0  105.00  2.76  3.460  20.220000   1    auto    3     1\n",
       "6    8.0  360.0  245.00  3.21  3.570  15.840000   0    auto    3     4\n",
       "7    7.6  146.7   62.00  3.69  3.190  20.000000   1    auto    4     2\n",
       "8    4.0  140.8   95.00  3.92  3.150  22.900000   1    auto    4     2\n",
       "9    6.0  167.6  123.00  3.92  3.440  18.300000   1    auto    4     4\n",
       "10   6.0  167.6  123.00  3.92  3.440  17.600000   1    auto    4     4\n",
       "11   8.0  275.8  180.00  3.07  4.070  17.400000   0    auto    3     3\n",
       "12   8.0  275.8  180.00  3.07  3.730  17.600000   0    auto    3     3\n",
       "13   8.0  275.8  180.00  3.07  3.780  18.000000   0    auto    3     3\n",
       "14  14.0  472.0  205.00  2.93  5.250  17.980000   0    auto    3     4\n",
       "15   8.0  460.0  215.00  3.00  5.424  17.820000   0    auto    3     4\n",
       "16   8.0  440.0  230.00  3.23  5.345  17.420000   0    auto    3     4\n",
       "17   4.0   78.7   66.00  4.08  2.200  19.470000   1  manual    4     1\n",
       "18   4.0   75.7   52.00  4.93  1.615  18.520000   1  manual    4     2\n",
       "19   4.0   71.1   65.00  4.22  1.835  19.900000   1  manual    4     1\n",
       "20   4.0  120.1   97.00  3.70  2.465  20.010000   1    auto    3     1\n",
       "21   8.0  318.0  150.00  2.76  3.520  16.870000   0    auto    3     2\n",
       "22   8.0  304.0  150.00  3.15  3.435  17.300000   0    auto    3     2\n",
       "23   8.0  350.0  245.00  3.73  3.840  15.410000   0    auto    3     4\n",
       "24   7.6  400.0  175.00  3.08  3.845  42.396184   0    auto    3     2\n",
       "25   4.0   79.0   66.00  4.08  1.935  18.900000   1  manual    4     1\n",
       "26   4.0  120.3   91.00  4.43  2.140  16.700000   0  manual    5     2\n",
       "27   4.0   95.1  113.00  3.77  1.513  16.900000   1  manual    5     2\n",
       "28   8.0  351.0  264.00  4.22  3.170  14.500000   0  manual    5     4\n",
       "29   6.0  145.0  175.00  3.62  2.770  15.500000   0  manual    5     6\n",
       "30   8.0  301.0  305.25  3.54  3.570  14.600000   0  manual    5     8\n",
       "31   4.0  121.0  109.00  4.11  2.780  18.600000   1  manual    4     2"
      ]
     },
     "execution_count": 288,
     "metadata": {},
     "output_type": "execute_result"
    }
   ],
   "source": [
    "# 한 번만 실행해야 한다.\n",
    "\n",
    "outlierMeanStdReplace(X, 'qsec')\n",
    "\n",
    "# 한 번만 실행해야 한다."
   ]
  },
  {
   "cell_type": "code",
   "execution_count": 301,
   "id": "acd48712",
   "metadata": {},
   "outputs": [
    {
     "name": "stdout",
     "output_type": "stream",
     "text": [
      "최소경계값: 9.426792927321257, 최대경계값: 26.564843601182353\n"
     ]
    },
    {
     "data": {
      "text/plain": [
       "3      0.100000\n",
       "24    42.396184\n",
       "Name: qsec, dtype: float64"
      ]
     },
     "execution_count": 301,
     "metadata": {},
     "output_type": "execute_result"
    }
   ],
   "source": [
    "X.loc[outlierMeanStd(X, 'qsec'), 'qsec'] # outlierMeanStdReplace 실행 후 모습. 경계값이 바뀌었다."
   ]
  },
  {
   "cell_type": "code",
   "execution_count": 289,
   "id": "42c1642b",
   "metadata": {},
   "outputs": [],
   "source": [
    "def swap(a,b):\n",
    "    temp= b\n",
    "    b=a\n",
    "    a=temp\n",
    "    return (a,b) #a,b 로 보내서 a,b 로 받았더니 unpack Error. 원래 되지 않았나???"
   ]
  },
  {
   "cell_type": "code",
   "execution_count": 290,
   "id": "8dcdca63",
   "metadata": {},
   "outputs": [
    {
     "data": {
      "text/plain": [
       "(10, 5)"
      ]
     },
     "execution_count": 290,
     "metadata": {},
     "output_type": "execute_result"
    }
   ],
   "source": [
    "a= 5\n",
    "b= 10\n",
    "swap(a,b)"
   ]
  },
  {
   "cell_type": "code",
   "execution_count": 291,
   "id": "57339b20",
   "metadata": {},
   "outputs": [
    {
     "data": {
      "text/plain": [
       "5"
      ]
     },
     "execution_count": 291,
     "metadata": {},
     "output_type": "execute_result"
    }
   ],
   "source": [
    "a"
   ]
  },
  {
   "cell_type": "markdown",
   "id": "3e0c3c94",
   "metadata": {},
   "source": [
    "인자 전달 방식은 얕은 복사. 바뀌길 바란다면 바꾼걸 받아줘야."
   ]
  },
  {
   "cell_type": "markdown",
   "id": "2af068c4",
   "metadata": {},
   "source": [
    "얕은 복사인줄 알았는데, 함수 안에서 data.loc[outlier.index, column]= minBoundary 를 하면 바깥도 바뀌더라!\n",
    "> !!"
   ]
  },
  {
   "cell_type": "code",
   "execution_count": 292,
   "id": "04da540f",
   "metadata": {},
   "outputs": [],
   "source": [
    "# 2번 실행하면 경계값이 바뀌어서 안 된다. 그냥 index 눈으로 찾아서 상수로 넣자.\n",
    "# X.loc[outlierMeanStd(X, 'qsec'), 'qsec']"
   ]
  },
  {
   "cell_type": "code",
   "execution_count": 293,
   "id": "f0295f42",
   "metadata": {},
   "outputs": [],
   "source": [
    "# 2번 실행하면 경계값이 바뀌어서 안 된다\n",
    "# outlierMeanStdReplace(X, 'qsec')"
   ]
  },
  {
   "cell_type": "code",
   "execution_count": 294,
   "id": "77ac68a9",
   "metadata": {},
   "outputs": [
    {
     "data": {
      "text/html": [
       "<div>\n",
       "<style scoped>\n",
       "    .dataframe tbody tr th:only-of-type {\n",
       "        vertical-align: middle;\n",
       "    }\n",
       "\n",
       "    .dataframe tbody tr th {\n",
       "        vertical-align: top;\n",
       "    }\n",
       "\n",
       "    .dataframe thead th {\n",
       "        text-align: right;\n",
       "    }\n",
       "</style>\n",
       "<table border=\"1\" class=\"dataframe\">\n",
       "  <thead>\n",
       "    <tr style=\"text-align: right;\">\n",
       "      <th></th>\n",
       "      <th>cyl</th>\n",
       "      <th>disp</th>\n",
       "      <th>hp</th>\n",
       "      <th>drat</th>\n",
       "      <th>wt</th>\n",
       "      <th>qsec</th>\n",
       "      <th>vs</th>\n",
       "      <th>am</th>\n",
       "      <th>gear</th>\n",
       "      <th>carb</th>\n",
       "    </tr>\n",
       "  </thead>\n",
       "  <tbody>\n",
       "    <tr>\n",
       "      <th>0</th>\n",
       "      <td>6.0</td>\n",
       "      <td>160.0</td>\n",
       "      <td>110.00</td>\n",
       "      <td>3.90</td>\n",
       "      <td>2.620</td>\n",
       "      <td>16.460000</td>\n",
       "      <td>0</td>\n",
       "      <td>manual</td>\n",
       "      <td>4</td>\n",
       "      <td>4</td>\n",
       "    </tr>\n",
       "    <tr>\n",
       "      <th>1</th>\n",
       "      <td>6.0</td>\n",
       "      <td>160.0</td>\n",
       "      <td>110.00</td>\n",
       "      <td>3.90</td>\n",
       "      <td>2.875</td>\n",
       "      <td>17.020000</td>\n",
       "      <td>0</td>\n",
       "      <td>manual</td>\n",
       "      <td>4</td>\n",
       "      <td>4</td>\n",
       "    </tr>\n",
       "    <tr>\n",
       "      <th>2</th>\n",
       "      <td>4.0</td>\n",
       "      <td>108.0</td>\n",
       "      <td>93.00</td>\n",
       "      <td>3.85</td>\n",
       "      <td>2.320</td>\n",
       "      <td>18.610000</td>\n",
       "      <td>1</td>\n",
       "      <td>manual</td>\n",
       "      <td>4</td>\n",
       "      <td>1</td>\n",
       "    </tr>\n",
       "    <tr>\n",
       "      <th>3</th>\n",
       "      <td>6.0</td>\n",
       "      <td>258.0</td>\n",
       "      <td>110.00</td>\n",
       "      <td>3.08</td>\n",
       "      <td>3.215</td>\n",
       "      <td>0.100000</td>\n",
       "      <td>1</td>\n",
       "      <td>auto</td>\n",
       "      <td>3</td>\n",
       "      <td>1</td>\n",
       "    </tr>\n",
       "    <tr>\n",
       "      <th>4</th>\n",
       "      <td>8.0</td>\n",
       "      <td>360.0</td>\n",
       "      <td>175.00</td>\n",
       "      <td>3.15</td>\n",
       "      <td>3.440</td>\n",
       "      <td>17.020000</td>\n",
       "      <td>0</td>\n",
       "      <td>auto</td>\n",
       "      <td>3</td>\n",
       "      <td>2</td>\n",
       "    </tr>\n",
       "    <tr>\n",
       "      <th>5</th>\n",
       "      <td>6.0</td>\n",
       "      <td>225.0</td>\n",
       "      <td>105.00</td>\n",
       "      <td>2.76</td>\n",
       "      <td>3.460</td>\n",
       "      <td>20.220000</td>\n",
       "      <td>1</td>\n",
       "      <td>auto</td>\n",
       "      <td>3</td>\n",
       "      <td>1</td>\n",
       "    </tr>\n",
       "    <tr>\n",
       "      <th>6</th>\n",
       "      <td>8.0</td>\n",
       "      <td>360.0</td>\n",
       "      <td>245.00</td>\n",
       "      <td>3.21</td>\n",
       "      <td>3.570</td>\n",
       "      <td>15.840000</td>\n",
       "      <td>0</td>\n",
       "      <td>auto</td>\n",
       "      <td>3</td>\n",
       "      <td>4</td>\n",
       "    </tr>\n",
       "    <tr>\n",
       "      <th>7</th>\n",
       "      <td>7.6</td>\n",
       "      <td>146.7</td>\n",
       "      <td>62.00</td>\n",
       "      <td>3.69</td>\n",
       "      <td>3.190</td>\n",
       "      <td>20.000000</td>\n",
       "      <td>1</td>\n",
       "      <td>auto</td>\n",
       "      <td>4</td>\n",
       "      <td>2</td>\n",
       "    </tr>\n",
       "    <tr>\n",
       "      <th>8</th>\n",
       "      <td>4.0</td>\n",
       "      <td>140.8</td>\n",
       "      <td>95.00</td>\n",
       "      <td>3.92</td>\n",
       "      <td>3.150</td>\n",
       "      <td>22.900000</td>\n",
       "      <td>1</td>\n",
       "      <td>auto</td>\n",
       "      <td>4</td>\n",
       "      <td>2</td>\n",
       "    </tr>\n",
       "    <tr>\n",
       "      <th>9</th>\n",
       "      <td>6.0</td>\n",
       "      <td>167.6</td>\n",
       "      <td>123.00</td>\n",
       "      <td>3.92</td>\n",
       "      <td>3.440</td>\n",
       "      <td>18.300000</td>\n",
       "      <td>1</td>\n",
       "      <td>auto</td>\n",
       "      <td>4</td>\n",
       "      <td>4</td>\n",
       "    </tr>\n",
       "    <tr>\n",
       "      <th>10</th>\n",
       "      <td>6.0</td>\n",
       "      <td>167.6</td>\n",
       "      <td>123.00</td>\n",
       "      <td>3.92</td>\n",
       "      <td>3.440</td>\n",
       "      <td>17.600000</td>\n",
       "      <td>1</td>\n",
       "      <td>auto</td>\n",
       "      <td>4</td>\n",
       "      <td>4</td>\n",
       "    </tr>\n",
       "    <tr>\n",
       "      <th>11</th>\n",
       "      <td>8.0</td>\n",
       "      <td>275.8</td>\n",
       "      <td>180.00</td>\n",
       "      <td>3.07</td>\n",
       "      <td>4.070</td>\n",
       "      <td>17.400000</td>\n",
       "      <td>0</td>\n",
       "      <td>auto</td>\n",
       "      <td>3</td>\n",
       "      <td>3</td>\n",
       "    </tr>\n",
       "    <tr>\n",
       "      <th>12</th>\n",
       "      <td>8.0</td>\n",
       "      <td>275.8</td>\n",
       "      <td>180.00</td>\n",
       "      <td>3.07</td>\n",
       "      <td>3.730</td>\n",
       "      <td>17.600000</td>\n",
       "      <td>0</td>\n",
       "      <td>auto</td>\n",
       "      <td>3</td>\n",
       "      <td>3</td>\n",
       "    </tr>\n",
       "    <tr>\n",
       "      <th>13</th>\n",
       "      <td>8.0</td>\n",
       "      <td>275.8</td>\n",
       "      <td>180.00</td>\n",
       "      <td>3.07</td>\n",
       "      <td>3.780</td>\n",
       "      <td>18.000000</td>\n",
       "      <td>0</td>\n",
       "      <td>auto</td>\n",
       "      <td>3</td>\n",
       "      <td>3</td>\n",
       "    </tr>\n",
       "    <tr>\n",
       "      <th>14</th>\n",
       "      <td>14.0</td>\n",
       "      <td>472.0</td>\n",
       "      <td>205.00</td>\n",
       "      <td>2.93</td>\n",
       "      <td>5.250</td>\n",
       "      <td>17.980000</td>\n",
       "      <td>0</td>\n",
       "      <td>auto</td>\n",
       "      <td>3</td>\n",
       "      <td>4</td>\n",
       "    </tr>\n",
       "    <tr>\n",
       "      <th>15</th>\n",
       "      <td>8.0</td>\n",
       "      <td>460.0</td>\n",
       "      <td>215.00</td>\n",
       "      <td>3.00</td>\n",
       "      <td>5.424</td>\n",
       "      <td>17.820000</td>\n",
       "      <td>0</td>\n",
       "      <td>auto</td>\n",
       "      <td>3</td>\n",
       "      <td>4</td>\n",
       "    </tr>\n",
       "    <tr>\n",
       "      <th>16</th>\n",
       "      <td>8.0</td>\n",
       "      <td>440.0</td>\n",
       "      <td>230.00</td>\n",
       "      <td>3.23</td>\n",
       "      <td>5.345</td>\n",
       "      <td>17.420000</td>\n",
       "      <td>0</td>\n",
       "      <td>auto</td>\n",
       "      <td>3</td>\n",
       "      <td>4</td>\n",
       "    </tr>\n",
       "    <tr>\n",
       "      <th>17</th>\n",
       "      <td>4.0</td>\n",
       "      <td>78.7</td>\n",
       "      <td>66.00</td>\n",
       "      <td>4.08</td>\n",
       "      <td>2.200</td>\n",
       "      <td>19.470000</td>\n",
       "      <td>1</td>\n",
       "      <td>manual</td>\n",
       "      <td>4</td>\n",
       "      <td>1</td>\n",
       "    </tr>\n",
       "    <tr>\n",
       "      <th>18</th>\n",
       "      <td>4.0</td>\n",
       "      <td>75.7</td>\n",
       "      <td>52.00</td>\n",
       "      <td>4.93</td>\n",
       "      <td>1.615</td>\n",
       "      <td>18.520000</td>\n",
       "      <td>1</td>\n",
       "      <td>manual</td>\n",
       "      <td>4</td>\n",
       "      <td>2</td>\n",
       "    </tr>\n",
       "    <tr>\n",
       "      <th>19</th>\n",
       "      <td>4.0</td>\n",
       "      <td>71.1</td>\n",
       "      <td>65.00</td>\n",
       "      <td>4.22</td>\n",
       "      <td>1.835</td>\n",
       "      <td>19.900000</td>\n",
       "      <td>1</td>\n",
       "      <td>manual</td>\n",
       "      <td>4</td>\n",
       "      <td>1</td>\n",
       "    </tr>\n",
       "    <tr>\n",
       "      <th>20</th>\n",
       "      <td>4.0</td>\n",
       "      <td>120.1</td>\n",
       "      <td>97.00</td>\n",
       "      <td>3.70</td>\n",
       "      <td>2.465</td>\n",
       "      <td>20.010000</td>\n",
       "      <td>1</td>\n",
       "      <td>auto</td>\n",
       "      <td>3</td>\n",
       "      <td>1</td>\n",
       "    </tr>\n",
       "    <tr>\n",
       "      <th>21</th>\n",
       "      <td>8.0</td>\n",
       "      <td>318.0</td>\n",
       "      <td>150.00</td>\n",
       "      <td>2.76</td>\n",
       "      <td>3.520</td>\n",
       "      <td>16.870000</td>\n",
       "      <td>0</td>\n",
       "      <td>auto</td>\n",
       "      <td>3</td>\n",
       "      <td>2</td>\n",
       "    </tr>\n",
       "    <tr>\n",
       "      <th>22</th>\n",
       "      <td>8.0</td>\n",
       "      <td>304.0</td>\n",
       "      <td>150.00</td>\n",
       "      <td>3.15</td>\n",
       "      <td>3.435</td>\n",
       "      <td>17.300000</td>\n",
       "      <td>0</td>\n",
       "      <td>auto</td>\n",
       "      <td>3</td>\n",
       "      <td>2</td>\n",
       "    </tr>\n",
       "    <tr>\n",
       "      <th>23</th>\n",
       "      <td>8.0</td>\n",
       "      <td>350.0</td>\n",
       "      <td>245.00</td>\n",
       "      <td>3.73</td>\n",
       "      <td>3.840</td>\n",
       "      <td>15.410000</td>\n",
       "      <td>0</td>\n",
       "      <td>auto</td>\n",
       "      <td>3</td>\n",
       "      <td>4</td>\n",
       "    </tr>\n",
       "    <tr>\n",
       "      <th>24</th>\n",
       "      <td>7.6</td>\n",
       "      <td>400.0</td>\n",
       "      <td>175.00</td>\n",
       "      <td>3.08</td>\n",
       "      <td>3.845</td>\n",
       "      <td>42.396184</td>\n",
       "      <td>0</td>\n",
       "      <td>auto</td>\n",
       "      <td>3</td>\n",
       "      <td>2</td>\n",
       "    </tr>\n",
       "    <tr>\n",
       "      <th>25</th>\n",
       "      <td>4.0</td>\n",
       "      <td>79.0</td>\n",
       "      <td>66.00</td>\n",
       "      <td>4.08</td>\n",
       "      <td>1.935</td>\n",
       "      <td>18.900000</td>\n",
       "      <td>1</td>\n",
       "      <td>manual</td>\n",
       "      <td>4</td>\n",
       "      <td>1</td>\n",
       "    </tr>\n",
       "    <tr>\n",
       "      <th>26</th>\n",
       "      <td>4.0</td>\n",
       "      <td>120.3</td>\n",
       "      <td>91.00</td>\n",
       "      <td>4.43</td>\n",
       "      <td>2.140</td>\n",
       "      <td>16.700000</td>\n",
       "      <td>0</td>\n",
       "      <td>manual</td>\n",
       "      <td>5</td>\n",
       "      <td>2</td>\n",
       "    </tr>\n",
       "    <tr>\n",
       "      <th>27</th>\n",
       "      <td>4.0</td>\n",
       "      <td>95.1</td>\n",
       "      <td>113.00</td>\n",
       "      <td>3.77</td>\n",
       "      <td>1.513</td>\n",
       "      <td>16.900000</td>\n",
       "      <td>1</td>\n",
       "      <td>manual</td>\n",
       "      <td>5</td>\n",
       "      <td>2</td>\n",
       "    </tr>\n",
       "    <tr>\n",
       "      <th>28</th>\n",
       "      <td>8.0</td>\n",
       "      <td>351.0</td>\n",
       "      <td>264.00</td>\n",
       "      <td>4.22</td>\n",
       "      <td>3.170</td>\n",
       "      <td>14.500000</td>\n",
       "      <td>0</td>\n",
       "      <td>manual</td>\n",
       "      <td>5</td>\n",
       "      <td>4</td>\n",
       "    </tr>\n",
       "    <tr>\n",
       "      <th>29</th>\n",
       "      <td>6.0</td>\n",
       "      <td>145.0</td>\n",
       "      <td>175.00</td>\n",
       "      <td>3.62</td>\n",
       "      <td>2.770</td>\n",
       "      <td>15.500000</td>\n",
       "      <td>0</td>\n",
       "      <td>manual</td>\n",
       "      <td>5</td>\n",
       "      <td>6</td>\n",
       "    </tr>\n",
       "    <tr>\n",
       "      <th>30</th>\n",
       "      <td>8.0</td>\n",
       "      <td>301.0</td>\n",
       "      <td>305.25</td>\n",
       "      <td>3.54</td>\n",
       "      <td>3.570</td>\n",
       "      <td>14.600000</td>\n",
       "      <td>0</td>\n",
       "      <td>manual</td>\n",
       "      <td>5</td>\n",
       "      <td>8</td>\n",
       "    </tr>\n",
       "    <tr>\n",
       "      <th>31</th>\n",
       "      <td>4.0</td>\n",
       "      <td>121.0</td>\n",
       "      <td>109.00</td>\n",
       "      <td>4.11</td>\n",
       "      <td>2.780</td>\n",
       "      <td>18.600000</td>\n",
       "      <td>1</td>\n",
       "      <td>manual</td>\n",
       "      <td>4</td>\n",
       "      <td>2</td>\n",
       "    </tr>\n",
       "  </tbody>\n",
       "</table>\n",
       "</div>"
      ],
      "text/plain": [
       "     cyl   disp      hp  drat     wt       qsec  vs      am gear  carb\n",
       "0    6.0  160.0  110.00  3.90  2.620  16.460000   0  manual    4     4\n",
       "1    6.0  160.0  110.00  3.90  2.875  17.020000   0  manual    4     4\n",
       "2    4.0  108.0   93.00  3.85  2.320  18.610000   1  manual    4     1\n",
       "3    6.0  258.0  110.00  3.08  3.215   0.100000   1    auto    3     1\n",
       "4    8.0  360.0  175.00  3.15  3.440  17.020000   0    auto    3     2\n",
       "5    6.0  225.0  105.00  2.76  3.460  20.220000   1    auto    3     1\n",
       "6    8.0  360.0  245.00  3.21  3.570  15.840000   0    auto    3     4\n",
       "7    7.6  146.7   62.00  3.69  3.190  20.000000   1    auto    4     2\n",
       "8    4.0  140.8   95.00  3.92  3.150  22.900000   1    auto    4     2\n",
       "9    6.0  167.6  123.00  3.92  3.440  18.300000   1    auto    4     4\n",
       "10   6.0  167.6  123.00  3.92  3.440  17.600000   1    auto    4     4\n",
       "11   8.0  275.8  180.00  3.07  4.070  17.400000   0    auto    3     3\n",
       "12   8.0  275.8  180.00  3.07  3.730  17.600000   0    auto    3     3\n",
       "13   8.0  275.8  180.00  3.07  3.780  18.000000   0    auto    3     3\n",
       "14  14.0  472.0  205.00  2.93  5.250  17.980000   0    auto    3     4\n",
       "15   8.0  460.0  215.00  3.00  5.424  17.820000   0    auto    3     4\n",
       "16   8.0  440.0  230.00  3.23  5.345  17.420000   0    auto    3     4\n",
       "17   4.0   78.7   66.00  4.08  2.200  19.470000   1  manual    4     1\n",
       "18   4.0   75.7   52.00  4.93  1.615  18.520000   1  manual    4     2\n",
       "19   4.0   71.1   65.00  4.22  1.835  19.900000   1  manual    4     1\n",
       "20   4.0  120.1   97.00  3.70  2.465  20.010000   1    auto    3     1\n",
       "21   8.0  318.0  150.00  2.76  3.520  16.870000   0    auto    3     2\n",
       "22   8.0  304.0  150.00  3.15  3.435  17.300000   0    auto    3     2\n",
       "23   8.0  350.0  245.00  3.73  3.840  15.410000   0    auto    3     4\n",
       "24   7.6  400.0  175.00  3.08  3.845  42.396184   0    auto    3     2\n",
       "25   4.0   79.0   66.00  4.08  1.935  18.900000   1  manual    4     1\n",
       "26   4.0  120.3   91.00  4.43  2.140  16.700000   0  manual    5     2\n",
       "27   4.0   95.1  113.00  3.77  1.513  16.900000   1  manual    5     2\n",
       "28   8.0  351.0  264.00  4.22  3.170  14.500000   0  manual    5     4\n",
       "29   6.0  145.0  175.00  3.62  2.770  15.500000   0  manual    5     6\n",
       "30   8.0  301.0  305.25  3.54  3.570  14.600000   0  manual    5     8\n",
       "31   4.0  121.0  109.00  4.11  2.780  18.600000   1  manual    4     2"
      ]
     },
     "execution_count": 294,
     "metadata": {},
     "output_type": "execute_result"
    }
   ],
   "source": [
    "X"
   ]
  },
  {
   "cell_type": "code",
   "execution_count": 295,
   "id": "ff4d34d4",
   "metadata": {},
   "outputs": [
    {
     "data": {
      "text/plain": [
       "10"
      ]
     },
     "execution_count": 295,
     "metadata": {},
     "output_type": "execute_result"
    }
   ],
   "source": [
    "a,b= swap(a,b)\n",
    "a"
   ]
  },
  {
   "cell_type": "code",
   "execution_count": 296,
   "id": "f51e5a35",
   "metadata": {},
   "outputs": [],
   "source": [
    "column= 'qsec'\n",
    "mean= data[column].mean()\n",
    "std= data[column].std()\n",
    "minBoundary= mean - 1.5*std\n",
    "maxBoundary= mean + 1.5*std"
   ]
  },
  {
   "cell_type": "code",
   "execution_count": 297,
   "id": "c9b76291",
   "metadata": {},
   "outputs": [
    {
     "name": "stdout",
     "output_type": "stream",
     "text": [
      "24    True\n",
      "Name: qsec, dtype: bool\n"
     ]
    },
    {
     "data": {
      "text/plain": [
       "24    100.0\n",
       "Name: qsec, dtype: float64"
      ]
     },
     "execution_count": 297,
     "metadata": {},
     "output_type": "execute_result"
    }
   ],
   "source": [
    "outlier= data[column][ (data[column] < minBoundary) | (maxBoundary < data[column]) ]\n",
    "# help(outlier)\n",
    "print(outlier > 99)\n",
    "outlier # 이거 자체가 100.0\n",
    "# outlier_index= outlier.index\n",
    "# print(outlier_index)"
   ]
  },
  {
   "cell_type": "markdown",
   "id": "39da03df",
   "metadata": {},
   "source": [
    "index 를 굳이 반환하는 이유: 바꾸려고\n",
    "> index 가 없어도 바꾸는 방법?"
   ]
  },
  {
   "cell_type": "code",
   "execution_count": 298,
   "id": "503209f8",
   "metadata": {},
   "outputs": [
    {
     "data": {
      "text/plain": [
       "24    100.0\n",
       "Name: qsec, dtype: float64"
      ]
     },
     "execution_count": 298,
     "metadata": {},
     "output_type": "execute_result"
    }
   ],
   "source": [
    "data[column][(data[column] < minBoundary) | (maxBoundary < data[column])]"
   ]
  },
  {
   "cell_type": "code",
   "execution_count": 299,
   "id": "8dd6bbc7",
   "metadata": {},
   "outputs": [],
   "source": [
    "# X.dtypes == object\n",
    "# X.loc[:,X.dtypes == object] # 열 조건 되는거 재확인"
   ]
  },
  {
   "cell_type": "markdown",
   "id": "c05249f2",
   "metadata": {},
   "source": [
    "carb"
   ]
  },
  {
   "cell_type": "code",
   "execution_count": 303,
   "id": "93b9ade1",
   "metadata": {},
   "outputs": [
    {
     "data": {
      "text/plain": [
       "count    32.0000\n",
       "mean      2.8125\n",
       "std       1.6152\n",
       "min       1.0000\n",
       "25%       2.0000\n",
       "50%       2.0000\n",
       "75%       4.0000\n",
       "max       8.0000\n",
       "Name: carb, dtype: float64"
      ]
     },
     "execution_count": 303,
     "metadata": {},
     "output_type": "execute_result"
    }
   ],
   "source": [
    "X['carb'].describe()"
   ]
  },
  {
   "cell_type": "code",
   "execution_count": 304,
   "id": "427be4c4",
   "metadata": {},
   "outputs": [
    {
     "name": "stdout",
     "output_type": "stream",
     "text": [
      "최소경계값: 0.3897000335522218, 최대경계값: 5.235299966447778\n"
     ]
    },
    {
     "data": {
      "text/plain": [
       "Int64Index([29, 30], dtype='int64')"
      ]
     },
     "execution_count": 304,
     "metadata": {},
     "output_type": "execute_result"
    }
   ],
   "source": [
    "outlierMeanStd(X,'carb')"
   ]
  },
  {
   "cell_type": "code",
   "execution_count": 306,
   "id": "38ea136d",
   "metadata": {},
   "outputs": [
    {
     "data": {
      "text/plain": [
       "29    6\n",
       "30    8\n",
       "Name: carb, dtype: int64"
      ]
     },
     "execution_count": 306,
     "metadata": {},
     "output_type": "execute_result"
    }
   ],
   "source": [
    "X.loc[29:30,'carb']"
   ]
  },
  {
   "cell_type": "code",
   "execution_count": 307,
   "id": "92176219",
   "metadata": {},
   "outputs": [
    {
     "name": "stdout",
     "output_type": "stream",
     "text": [
      "최소경계값: 0.3897000335522218, 최대경계값: 5.235299966447778\n",
      "이상치 idx 값: 29    6\n",
      "30    8\n",
      "Name: carb, dtype: int64\n"
     ]
    },
    {
     "data": {
      "text/html": [
       "<div>\n",
       "<style scoped>\n",
       "    .dataframe tbody tr th:only-of-type {\n",
       "        vertical-align: middle;\n",
       "    }\n",
       "\n",
       "    .dataframe tbody tr th {\n",
       "        vertical-align: top;\n",
       "    }\n",
       "\n",
       "    .dataframe thead th {\n",
       "        text-align: right;\n",
       "    }\n",
       "</style>\n",
       "<table border=\"1\" class=\"dataframe\">\n",
       "  <thead>\n",
       "    <tr style=\"text-align: right;\">\n",
       "      <th></th>\n",
       "      <th>cyl</th>\n",
       "      <th>disp</th>\n",
       "      <th>hp</th>\n",
       "      <th>drat</th>\n",
       "      <th>wt</th>\n",
       "      <th>qsec</th>\n",
       "      <th>vs</th>\n",
       "      <th>am</th>\n",
       "      <th>gear</th>\n",
       "      <th>carb</th>\n",
       "    </tr>\n",
       "  </thead>\n",
       "  <tbody>\n",
       "    <tr>\n",
       "      <th>0</th>\n",
       "      <td>6.0</td>\n",
       "      <td>160.0</td>\n",
       "      <td>110.00</td>\n",
       "      <td>3.90</td>\n",
       "      <td>2.620</td>\n",
       "      <td>16.460000</td>\n",
       "      <td>0</td>\n",
       "      <td>manual</td>\n",
       "      <td>4</td>\n",
       "      <td>4.0000</td>\n",
       "    </tr>\n",
       "    <tr>\n",
       "      <th>1</th>\n",
       "      <td>6.0</td>\n",
       "      <td>160.0</td>\n",
       "      <td>110.00</td>\n",
       "      <td>3.90</td>\n",
       "      <td>2.875</td>\n",
       "      <td>17.020000</td>\n",
       "      <td>0</td>\n",
       "      <td>manual</td>\n",
       "      <td>4</td>\n",
       "      <td>4.0000</td>\n",
       "    </tr>\n",
       "    <tr>\n",
       "      <th>2</th>\n",
       "      <td>4.0</td>\n",
       "      <td>108.0</td>\n",
       "      <td>93.00</td>\n",
       "      <td>3.85</td>\n",
       "      <td>2.320</td>\n",
       "      <td>18.610000</td>\n",
       "      <td>1</td>\n",
       "      <td>manual</td>\n",
       "      <td>4</td>\n",
       "      <td>1.0000</td>\n",
       "    </tr>\n",
       "    <tr>\n",
       "      <th>3</th>\n",
       "      <td>6.0</td>\n",
       "      <td>258.0</td>\n",
       "      <td>110.00</td>\n",
       "      <td>3.08</td>\n",
       "      <td>3.215</td>\n",
       "      <td>0.100000</td>\n",
       "      <td>1</td>\n",
       "      <td>auto</td>\n",
       "      <td>3</td>\n",
       "      <td>1.0000</td>\n",
       "    </tr>\n",
       "    <tr>\n",
       "      <th>4</th>\n",
       "      <td>8.0</td>\n",
       "      <td>360.0</td>\n",
       "      <td>175.00</td>\n",
       "      <td>3.15</td>\n",
       "      <td>3.440</td>\n",
       "      <td>17.020000</td>\n",
       "      <td>0</td>\n",
       "      <td>auto</td>\n",
       "      <td>3</td>\n",
       "      <td>2.0000</td>\n",
       "    </tr>\n",
       "    <tr>\n",
       "      <th>5</th>\n",
       "      <td>6.0</td>\n",
       "      <td>225.0</td>\n",
       "      <td>105.00</td>\n",
       "      <td>2.76</td>\n",
       "      <td>3.460</td>\n",
       "      <td>20.220000</td>\n",
       "      <td>1</td>\n",
       "      <td>auto</td>\n",
       "      <td>3</td>\n",
       "      <td>1.0000</td>\n",
       "    </tr>\n",
       "    <tr>\n",
       "      <th>6</th>\n",
       "      <td>8.0</td>\n",
       "      <td>360.0</td>\n",
       "      <td>245.00</td>\n",
       "      <td>3.21</td>\n",
       "      <td>3.570</td>\n",
       "      <td>15.840000</td>\n",
       "      <td>0</td>\n",
       "      <td>auto</td>\n",
       "      <td>3</td>\n",
       "      <td>4.0000</td>\n",
       "    </tr>\n",
       "    <tr>\n",
       "      <th>7</th>\n",
       "      <td>7.6</td>\n",
       "      <td>146.7</td>\n",
       "      <td>62.00</td>\n",
       "      <td>3.69</td>\n",
       "      <td>3.190</td>\n",
       "      <td>20.000000</td>\n",
       "      <td>1</td>\n",
       "      <td>auto</td>\n",
       "      <td>4</td>\n",
       "      <td>2.0000</td>\n",
       "    </tr>\n",
       "    <tr>\n",
       "      <th>8</th>\n",
       "      <td>4.0</td>\n",
       "      <td>140.8</td>\n",
       "      <td>95.00</td>\n",
       "      <td>3.92</td>\n",
       "      <td>3.150</td>\n",
       "      <td>22.900000</td>\n",
       "      <td>1</td>\n",
       "      <td>auto</td>\n",
       "      <td>4</td>\n",
       "      <td>2.0000</td>\n",
       "    </tr>\n",
       "    <tr>\n",
       "      <th>9</th>\n",
       "      <td>6.0</td>\n",
       "      <td>167.6</td>\n",
       "      <td>123.00</td>\n",
       "      <td>3.92</td>\n",
       "      <td>3.440</td>\n",
       "      <td>18.300000</td>\n",
       "      <td>1</td>\n",
       "      <td>auto</td>\n",
       "      <td>4</td>\n",
       "      <td>4.0000</td>\n",
       "    </tr>\n",
       "    <tr>\n",
       "      <th>10</th>\n",
       "      <td>6.0</td>\n",
       "      <td>167.6</td>\n",
       "      <td>123.00</td>\n",
       "      <td>3.92</td>\n",
       "      <td>3.440</td>\n",
       "      <td>17.600000</td>\n",
       "      <td>1</td>\n",
       "      <td>auto</td>\n",
       "      <td>4</td>\n",
       "      <td>4.0000</td>\n",
       "    </tr>\n",
       "    <tr>\n",
       "      <th>11</th>\n",
       "      <td>8.0</td>\n",
       "      <td>275.8</td>\n",
       "      <td>180.00</td>\n",
       "      <td>3.07</td>\n",
       "      <td>4.070</td>\n",
       "      <td>17.400000</td>\n",
       "      <td>0</td>\n",
       "      <td>auto</td>\n",
       "      <td>3</td>\n",
       "      <td>3.0000</td>\n",
       "    </tr>\n",
       "    <tr>\n",
       "      <th>12</th>\n",
       "      <td>8.0</td>\n",
       "      <td>275.8</td>\n",
       "      <td>180.00</td>\n",
       "      <td>3.07</td>\n",
       "      <td>3.730</td>\n",
       "      <td>17.600000</td>\n",
       "      <td>0</td>\n",
       "      <td>auto</td>\n",
       "      <td>3</td>\n",
       "      <td>3.0000</td>\n",
       "    </tr>\n",
       "    <tr>\n",
       "      <th>13</th>\n",
       "      <td>8.0</td>\n",
       "      <td>275.8</td>\n",
       "      <td>180.00</td>\n",
       "      <td>3.07</td>\n",
       "      <td>3.780</td>\n",
       "      <td>18.000000</td>\n",
       "      <td>0</td>\n",
       "      <td>auto</td>\n",
       "      <td>3</td>\n",
       "      <td>3.0000</td>\n",
       "    </tr>\n",
       "    <tr>\n",
       "      <th>14</th>\n",
       "      <td>14.0</td>\n",
       "      <td>472.0</td>\n",
       "      <td>205.00</td>\n",
       "      <td>2.93</td>\n",
       "      <td>5.250</td>\n",
       "      <td>17.980000</td>\n",
       "      <td>0</td>\n",
       "      <td>auto</td>\n",
       "      <td>3</td>\n",
       "      <td>4.0000</td>\n",
       "    </tr>\n",
       "    <tr>\n",
       "      <th>15</th>\n",
       "      <td>8.0</td>\n",
       "      <td>460.0</td>\n",
       "      <td>215.00</td>\n",
       "      <td>3.00</td>\n",
       "      <td>5.424</td>\n",
       "      <td>17.820000</td>\n",
       "      <td>0</td>\n",
       "      <td>auto</td>\n",
       "      <td>3</td>\n",
       "      <td>4.0000</td>\n",
       "    </tr>\n",
       "    <tr>\n",
       "      <th>16</th>\n",
       "      <td>8.0</td>\n",
       "      <td>440.0</td>\n",
       "      <td>230.00</td>\n",
       "      <td>3.23</td>\n",
       "      <td>5.345</td>\n",
       "      <td>17.420000</td>\n",
       "      <td>0</td>\n",
       "      <td>auto</td>\n",
       "      <td>3</td>\n",
       "      <td>4.0000</td>\n",
       "    </tr>\n",
       "    <tr>\n",
       "      <th>17</th>\n",
       "      <td>4.0</td>\n",
       "      <td>78.7</td>\n",
       "      <td>66.00</td>\n",
       "      <td>4.08</td>\n",
       "      <td>2.200</td>\n",
       "      <td>19.470000</td>\n",
       "      <td>1</td>\n",
       "      <td>manual</td>\n",
       "      <td>4</td>\n",
       "      <td>1.0000</td>\n",
       "    </tr>\n",
       "    <tr>\n",
       "      <th>18</th>\n",
       "      <td>4.0</td>\n",
       "      <td>75.7</td>\n",
       "      <td>52.00</td>\n",
       "      <td>4.93</td>\n",
       "      <td>1.615</td>\n",
       "      <td>18.520000</td>\n",
       "      <td>1</td>\n",
       "      <td>manual</td>\n",
       "      <td>4</td>\n",
       "      <td>2.0000</td>\n",
       "    </tr>\n",
       "    <tr>\n",
       "      <th>19</th>\n",
       "      <td>4.0</td>\n",
       "      <td>71.1</td>\n",
       "      <td>65.00</td>\n",
       "      <td>4.22</td>\n",
       "      <td>1.835</td>\n",
       "      <td>19.900000</td>\n",
       "      <td>1</td>\n",
       "      <td>manual</td>\n",
       "      <td>4</td>\n",
       "      <td>1.0000</td>\n",
       "    </tr>\n",
       "    <tr>\n",
       "      <th>20</th>\n",
       "      <td>4.0</td>\n",
       "      <td>120.1</td>\n",
       "      <td>97.00</td>\n",
       "      <td>3.70</td>\n",
       "      <td>2.465</td>\n",
       "      <td>20.010000</td>\n",
       "      <td>1</td>\n",
       "      <td>auto</td>\n",
       "      <td>3</td>\n",
       "      <td>1.0000</td>\n",
       "    </tr>\n",
       "    <tr>\n",
       "      <th>21</th>\n",
       "      <td>8.0</td>\n",
       "      <td>318.0</td>\n",
       "      <td>150.00</td>\n",
       "      <td>2.76</td>\n",
       "      <td>3.520</td>\n",
       "      <td>16.870000</td>\n",
       "      <td>0</td>\n",
       "      <td>auto</td>\n",
       "      <td>3</td>\n",
       "      <td>2.0000</td>\n",
       "    </tr>\n",
       "    <tr>\n",
       "      <th>22</th>\n",
       "      <td>8.0</td>\n",
       "      <td>304.0</td>\n",
       "      <td>150.00</td>\n",
       "      <td>3.15</td>\n",
       "      <td>3.435</td>\n",
       "      <td>17.300000</td>\n",
       "      <td>0</td>\n",
       "      <td>auto</td>\n",
       "      <td>3</td>\n",
       "      <td>2.0000</td>\n",
       "    </tr>\n",
       "    <tr>\n",
       "      <th>23</th>\n",
       "      <td>8.0</td>\n",
       "      <td>350.0</td>\n",
       "      <td>245.00</td>\n",
       "      <td>3.73</td>\n",
       "      <td>3.840</td>\n",
       "      <td>15.410000</td>\n",
       "      <td>0</td>\n",
       "      <td>auto</td>\n",
       "      <td>3</td>\n",
       "      <td>4.0000</td>\n",
       "    </tr>\n",
       "    <tr>\n",
       "      <th>24</th>\n",
       "      <td>7.6</td>\n",
       "      <td>400.0</td>\n",
       "      <td>175.00</td>\n",
       "      <td>3.08</td>\n",
       "      <td>3.845</td>\n",
       "      <td>42.396184</td>\n",
       "      <td>0</td>\n",
       "      <td>auto</td>\n",
       "      <td>3</td>\n",
       "      <td>2.0000</td>\n",
       "    </tr>\n",
       "    <tr>\n",
       "      <th>25</th>\n",
       "      <td>4.0</td>\n",
       "      <td>79.0</td>\n",
       "      <td>66.00</td>\n",
       "      <td>4.08</td>\n",
       "      <td>1.935</td>\n",
       "      <td>18.900000</td>\n",
       "      <td>1</td>\n",
       "      <td>manual</td>\n",
       "      <td>4</td>\n",
       "      <td>1.0000</td>\n",
       "    </tr>\n",
       "    <tr>\n",
       "      <th>26</th>\n",
       "      <td>4.0</td>\n",
       "      <td>120.3</td>\n",
       "      <td>91.00</td>\n",
       "      <td>4.43</td>\n",
       "      <td>2.140</td>\n",
       "      <td>16.700000</td>\n",
       "      <td>0</td>\n",
       "      <td>manual</td>\n",
       "      <td>5</td>\n",
       "      <td>2.0000</td>\n",
       "    </tr>\n",
       "    <tr>\n",
       "      <th>27</th>\n",
       "      <td>4.0</td>\n",
       "      <td>95.1</td>\n",
       "      <td>113.00</td>\n",
       "      <td>3.77</td>\n",
       "      <td>1.513</td>\n",
       "      <td>16.900000</td>\n",
       "      <td>1</td>\n",
       "      <td>manual</td>\n",
       "      <td>5</td>\n",
       "      <td>2.0000</td>\n",
       "    </tr>\n",
       "    <tr>\n",
       "      <th>28</th>\n",
       "      <td>8.0</td>\n",
       "      <td>351.0</td>\n",
       "      <td>264.00</td>\n",
       "      <td>4.22</td>\n",
       "      <td>3.170</td>\n",
       "      <td>14.500000</td>\n",
       "      <td>0</td>\n",
       "      <td>manual</td>\n",
       "      <td>5</td>\n",
       "      <td>4.0000</td>\n",
       "    </tr>\n",
       "    <tr>\n",
       "      <th>29</th>\n",
       "      <td>6.0</td>\n",
       "      <td>145.0</td>\n",
       "      <td>175.00</td>\n",
       "      <td>3.62</td>\n",
       "      <td>2.770</td>\n",
       "      <td>15.500000</td>\n",
       "      <td>0</td>\n",
       "      <td>manual</td>\n",
       "      <td>5</td>\n",
       "      <td>5.2353</td>\n",
       "    </tr>\n",
       "    <tr>\n",
       "      <th>30</th>\n",
       "      <td>8.0</td>\n",
       "      <td>301.0</td>\n",
       "      <td>305.25</td>\n",
       "      <td>3.54</td>\n",
       "      <td>3.570</td>\n",
       "      <td>14.600000</td>\n",
       "      <td>0</td>\n",
       "      <td>manual</td>\n",
       "      <td>5</td>\n",
       "      <td>5.2353</td>\n",
       "    </tr>\n",
       "    <tr>\n",
       "      <th>31</th>\n",
       "      <td>4.0</td>\n",
       "      <td>121.0</td>\n",
       "      <td>109.00</td>\n",
       "      <td>4.11</td>\n",
       "      <td>2.780</td>\n",
       "      <td>18.600000</td>\n",
       "      <td>1</td>\n",
       "      <td>manual</td>\n",
       "      <td>4</td>\n",
       "      <td>2.0000</td>\n",
       "    </tr>\n",
       "  </tbody>\n",
       "</table>\n",
       "</div>"
      ],
      "text/plain": [
       "     cyl   disp      hp  drat     wt       qsec  vs      am gear    carb\n",
       "0    6.0  160.0  110.00  3.90  2.620  16.460000   0  manual    4  4.0000\n",
       "1    6.0  160.0  110.00  3.90  2.875  17.020000   0  manual    4  4.0000\n",
       "2    4.0  108.0   93.00  3.85  2.320  18.610000   1  manual    4  1.0000\n",
       "3    6.0  258.0  110.00  3.08  3.215   0.100000   1    auto    3  1.0000\n",
       "4    8.0  360.0  175.00  3.15  3.440  17.020000   0    auto    3  2.0000\n",
       "5    6.0  225.0  105.00  2.76  3.460  20.220000   1    auto    3  1.0000\n",
       "6    8.0  360.0  245.00  3.21  3.570  15.840000   0    auto    3  4.0000\n",
       "7    7.6  146.7   62.00  3.69  3.190  20.000000   1    auto    4  2.0000\n",
       "8    4.0  140.8   95.00  3.92  3.150  22.900000   1    auto    4  2.0000\n",
       "9    6.0  167.6  123.00  3.92  3.440  18.300000   1    auto    4  4.0000\n",
       "10   6.0  167.6  123.00  3.92  3.440  17.600000   1    auto    4  4.0000\n",
       "11   8.0  275.8  180.00  3.07  4.070  17.400000   0    auto    3  3.0000\n",
       "12   8.0  275.8  180.00  3.07  3.730  17.600000   0    auto    3  3.0000\n",
       "13   8.0  275.8  180.00  3.07  3.780  18.000000   0    auto    3  3.0000\n",
       "14  14.0  472.0  205.00  2.93  5.250  17.980000   0    auto    3  4.0000\n",
       "15   8.0  460.0  215.00  3.00  5.424  17.820000   0    auto    3  4.0000\n",
       "16   8.0  440.0  230.00  3.23  5.345  17.420000   0    auto    3  4.0000\n",
       "17   4.0   78.7   66.00  4.08  2.200  19.470000   1  manual    4  1.0000\n",
       "18   4.0   75.7   52.00  4.93  1.615  18.520000   1  manual    4  2.0000\n",
       "19   4.0   71.1   65.00  4.22  1.835  19.900000   1  manual    4  1.0000\n",
       "20   4.0  120.1   97.00  3.70  2.465  20.010000   1    auto    3  1.0000\n",
       "21   8.0  318.0  150.00  2.76  3.520  16.870000   0    auto    3  2.0000\n",
       "22   8.0  304.0  150.00  3.15  3.435  17.300000   0    auto    3  2.0000\n",
       "23   8.0  350.0  245.00  3.73  3.840  15.410000   0    auto    3  4.0000\n",
       "24   7.6  400.0  175.00  3.08  3.845  42.396184   0    auto    3  2.0000\n",
       "25   4.0   79.0   66.00  4.08  1.935  18.900000   1  manual    4  1.0000\n",
       "26   4.0  120.3   91.00  4.43  2.140  16.700000   0  manual    5  2.0000\n",
       "27   4.0   95.1  113.00  3.77  1.513  16.900000   1  manual    5  2.0000\n",
       "28   8.0  351.0  264.00  4.22  3.170  14.500000   0  manual    5  4.0000\n",
       "29   6.0  145.0  175.00  3.62  2.770  15.500000   0  manual    5  5.2353\n",
       "30   8.0  301.0  305.25  3.54  3.570  14.600000   0  manual    5  5.2353\n",
       "31   4.0  121.0  109.00  4.11  2.780  18.600000   1  manual    4  2.0000"
      ]
     },
     "execution_count": 307,
     "metadata": {},
     "output_type": "execute_result"
    }
   ],
   "source": [
    "outlierMeanStdReplace(X, 'carb')"
   ]
  },
  {
   "cell_type": "code",
   "execution_count": 300,
   "id": "f951152b",
   "metadata": {},
   "outputs": [
    {
     "name": "stdout",
     "output_type": "stream",
     "text": [
      "1.598999261856079 sec\n"
     ]
    }
   ],
   "source": [
    "print(f\"{time.time()-start_time} sec\") # 1.59 sec"
   ]
  }
 ],
 "metadata": {
  "kernelspec": {
   "display_name": "Python 3 (ipykernel)",
   "language": "python",
   "name": "python3"
  },
  "language_info": {
   "codemirror_mode": {
    "name": "ipython",
    "version": 3
   },
   "file_extension": ".py",
   "mimetype": "text/x-python",
   "name": "python",
   "nbconvert_exporter": "python",
   "pygments_lexer": "ipython3",
   "version": "3.9.7"
  }
 },
 "nbformat": 4,
 "nbformat_minor": 5
}
